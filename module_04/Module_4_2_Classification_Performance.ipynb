{
 "cells": [
  {
   "cell_type": "markdown",
   "id": "5ee1bdc1-f72a-4452-b020-ae48d531315a",
   "metadata": {},
   "source": [
    "# Model Performance"
   ]
  },
  {
   "cell_type": "markdown",
   "id": "d3ba7191-90fd-4f5a-98df-d4d0ebbf5b64",
   "metadata": {},
   "source": [
    "Метрики якості можуть використовуватися для:\n",
    "\n",
    "- Завдання функціоналу помилки (використовується під час навчання).\n",
    "- Підбирання гіперпараметрів (використовується при вимірі якості на крос-валідації). У тому числі можна використовувати іншу метрику, яка відрізняється від метрики, за допомогою якої побудовано функціонал помилки.\n",
    "- Оцінювання підсумкової моделі: чи придатна модель для вирішення задачі.\n",
    "\n",
    "Scikit-learn документація стосовно різних видів метрик: https://scikit-learn.org/stable/modules/model_evaluation.html"
   ]
  },
  {
   "cell_type": "markdown",
   "id": "f8117ace-314c-4be9-9da3-3603ef58b862",
   "metadata": {},
   "source": [
    "## Regression"
   ]
  },
  {
   "cell_type": "markdown",
   "id": "708d23b4-8e1b-4ede-973c-38a3c17cf72d",
   "metadata": {},
   "source": [
    "### Mean squared error\n",
    "\n",
    "![MSE-formula](https://cdn-media-1.freecodecamp.org/images/hmZydSW9YegiMVPWq2JBpOpai3CejzQpGkNG)\n",
    "![MSE](https://cdn-media-1.freecodecamp.org/images/MNskFmGPKuQfMLdmpkT-X7-8w2cJXulP3683)"
   ]
  },
  {
   "cell_type": "code",
   "execution_count": 1,
   "id": "9f5e9055-f99e-44bb-bc7a-78b21c73d739",
   "metadata": {},
   "outputs": [
    {
     "data": {
      "text/plain": [
       "0.375"
      ]
     },
     "execution_count": 1,
     "metadata": {},
     "output_type": "execute_result"
    }
   ],
   "source": [
    "# https://scikit-learn.org/stable/modules/generated/sklearn.metrics.mean_squared_error.html\n",
    "\n",
    "from sklearn.metrics import mean_squared_error\n",
    "y_true = [3, -0.5, 2, 7]\n",
    "y_pred = [2.5, 0.0, 2, 8]\n",
    "MSE = mean_squared_error(y_true, y_pred, squared=True)\n",
    "MSE"
   ]
  },
  {
   "cell_type": "markdown",
   "id": "4f5ad15c-9bec-46da-85c6-2675a714a116",
   "metadata": {},
   "source": [
    "### Root mean squared error (RMSE)\n",
    "Увага! Цей функціонал складніше мінімізувати, тому що у RMSE похідна не існує в нулі."
   ]
  },
  {
   "cell_type": "code",
   "execution_count": 2,
   "id": "364c9019-1777-471c-a5b1-78fdb4b40841",
   "metadata": {},
   "outputs": [
    {
     "data": {
      "text/plain": [
       "0.6123724356957945"
      ]
     },
     "execution_count": 2,
     "metadata": {},
     "output_type": "execute_result"
    }
   ],
   "source": [
    "# https://en.wikipedia.org/wiki/Root-mean-square_deviation\n",
    "RMSE = mean_squared_error(y_true, y_pred, squared=False)\n",
    "RMSE"
   ]
  },
  {
   "cell_type": "code",
   "execution_count": 3,
   "id": "368008d1-1b15-4a3e-9d3f-191d7485d19a",
   "metadata": {},
   "outputs": [
    {
     "data": {
      "text/plain": [
       "True"
      ]
     },
     "execution_count": 3,
     "metadata": {},
     "output_type": "execute_result"
    }
   ],
   "source": [
    "import math\n",
    "RMSE == math.sqrt(MSE)"
   ]
  },
  {
   "cell_type": "code",
   "execution_count": 4,
   "id": "a511c52d-7bf8-4534-9e01-6b3c5b4ec426",
   "metadata": {},
   "outputs": [
    {
     "data": {
      "text/plain": [
       "2.1360009363293826"
      ]
     },
     "execution_count": 4,
     "metadata": {},
     "output_type": "execute_result"
    }
   ],
   "source": [
    "# if differences are larger than 1\n",
    "y_true = [3, -0.5, 2, 7]\n",
    "y_pred = [1, 2.0, 4, 9]\n",
    "\n",
    "RMSE = mean_squared_error(y_true, y_pred, squared=False)\n",
    "RMSE"
   ]
  },
  {
   "cell_type": "code",
   "execution_count": 5,
   "id": "7606e4bc-4c11-4065-94a0-976ffd013e9b",
   "metadata": {},
   "outputs": [
    {
     "data": {
      "text/plain": [
       "4.5625"
      ]
     },
     "execution_count": 5,
     "metadata": {},
     "output_type": "execute_result"
    }
   ],
   "source": [
    "MSE = mean_squared_error(y_true, y_pred)\n",
    "MSE"
   ]
  },
  {
   "cell_type": "markdown",
   "id": "eafbedb9-0b5f-43d2-8416-7e6f59abd323",
   "metadata": {},
   "source": [
    "### Mean absolute error (MAE)\n",
    "Увага! Цей функціонал складніше мінімізувати, тому що у модуля похідна не існує в нулі."
   ]
  },
  {
   "cell_type": "code",
   "execution_count": 6,
   "id": "a089530a-abf2-4e40-9fd4-00dde934aca7",
   "metadata": {},
   "outputs": [
    {
     "data": {
      "text/plain": [
       "2.125"
      ]
     },
     "execution_count": 6,
     "metadata": {},
     "output_type": "execute_result"
    }
   ],
   "source": [
    "# https://scikit-learn.org/stable/modules/generated/sklearn.metrics.mean_absolute_error.html#sklearn.metrics.mean_absolute_error\n",
    "from sklearn.metrics import mean_absolute_error\n",
    "MAE = mean_absolute_error(y_true, y_pred)\n",
    "MAE"
   ]
  },
  {
   "cell_type": "markdown",
   "id": "d575017e-4888-472b-b457-6e5a917e7cad",
   "metadata": {},
   "source": [
    "### $R^2$ score"
   ]
  },
  {
   "cell_type": "code",
   "execution_count": 7,
   "id": "e9c36a1b-9f14-413d-b7f7-eee5e52dd212",
   "metadata": {},
   "outputs": [
    {
     "data": {
      "text/plain": [
       "0.37473233404710926"
      ]
     },
     "execution_count": 7,
     "metadata": {},
     "output_type": "execute_result"
    }
   ],
   "source": [
    "# https://scikit-learn.org/stable/modules/generated/sklearn.metrics.r2_score.html#sklearn.metrics.r2_score\n",
    "from sklearn.metrics import r2_score\n",
    "\n",
    "# if differences are larger than 1\n",
    "y_true = [3, -0.5, 2, 7]\n",
    "y_pred = [1, 2.0, 4, 9]\n",
    "\n",
    "r2 = r2_score(y_true, y_pred)\n",
    "r2"
   ]
  },
  {
   "cell_type": "code",
   "execution_count": 8,
   "id": "7be662e4-1648-4e9d-9b17-219d74c41fc0",
   "metadata": {},
   "outputs": [
    {
     "data": {
      "text/plain": [
       "0.9486081370449679"
      ]
     },
     "execution_count": 8,
     "metadata": {},
     "output_type": "execute_result"
    }
   ],
   "source": [
    "# small differences\n",
    "y_true = [3, -0.5, 2, 7]\n",
    "y_pred = [2.5, 0.0, 2, 8]\n",
    "r2 = r2_score(y_true, y_pred)\n",
    "r2"
   ]
  },
  {
   "cell_type": "markdown",
   "id": "66200ea2-5696-429e-88c0-fda50d729df1",
   "metadata": {},
   "source": [
    "### Quantile loss\n",
    "\n",
    "https://uk.wikipedia.org/wiki/Гетероскедастичність\n",
    "\n",
    "Приклади:\n",
    "\n",
    "- кількість подорожей на таксі в рік в залежності від доходу\n",
    "  \n",
    "![quantile-regression](https://scikit-learn.org/stable/_images/sphx_glr_plot_quantile_regression_002.png)\n",
    "\n",
    "\n",
    "- попит на певний вид товарів (продажі ноутбуків в залежності від ціни)\n",
    "![negative-correlation](https://www.ikmz.uzh.ch/static/methoden/Statistik-Aufbau/images/Heteroskedastizitaet.jpg)"
   ]
  },
  {
   "cell_type": "code",
   "execution_count": 9,
   "id": "1fd9a594-b136-4210-a63c-425eae8178b8",
   "metadata": {},
   "outputs": [
    {
     "data": {
      "text/plain": [
       "0.21428571428571427"
      ]
     },
     "execution_count": 9,
     "metadata": {},
     "output_type": "execute_result"
    },
    {
     "data": {
      "image/png": "[encoded data removed]",
      "text/plain": [
       "<Figure size 640x480 with 1 Axes>"
      ]
     },
     "metadata": {},
     "output_type": "display_data"
    }
   ],
   "source": [
    "# https://scikit-learn.org/stable/modules/linear_model.html#quantile-regression\n",
    "# https://scikit-learn.org/stable/auto_examples/linear_model/plot_quantile_regression.html#sphx-glr-auto-examples-linear-model-plot-quantile-regression-py\n",
    "from sklearn.metrics import mean_pinball_loss\n",
    "import matplotlib.pyplot as plt\n",
    "import numpy as np\n",
    "x = [0, 1, 2, 3, 4, 5, 6]\n",
    "y_true = np.array([3, -0.5, 2, 9, 5, 6, 7])\n",
    "y_pred = np.array([2.5, 0.0, 2, 7.5, 5.5, 5.5, 6.5])\n",
    "diff = y_true - y_pred\n",
    "plt.bar(x, height=diff)\n",
    "mean_pinball_loss(y_true, y_pred, alpha=0.25)\n",
    "# чим нижчий альфа, тим сильніше ми штрафуємо перепрогноз"
   ]
  },
  {
   "cell_type": "code",
   "execution_count": 10,
   "id": "6b9fadc0-3cf8-46bb-9c6f-df2c7352ef82",
   "metadata": {},
   "outputs": [
    {
     "data": {
      "text/html": [
       "<style>#sk-container-id-1 {color: black;}#sk-container-id-1 pre{padding: 0;}#sk-container-id-1 div.sk-toggleable {background-color: white;}#sk-container-id-1 label.sk-toggleable__label {cursor: pointer;display: block;width: 100%;margin-bottom: 0;padding: 0.3em;box-sizing: border-box;text-align: center;}#sk-container-id-1 label.sk-toggleable__label-arrow:before {content: \"▸\";float: left;margin-right: 0.25em;color: #696969;}#sk-container-id-1 label.sk-toggleable__label-arrow:hover:before {color: black;}#sk-container-id-1 div.sk-estimator:hover label.sk-toggleable__label-arrow:before {color: black;}#sk-container-id-1 div.sk-toggleable__content {max-height: 0;max-width: 0;overflow: hidden;text-align: left;background-color: #f0f8ff;}#sk-container-id-1 div.sk-toggleable__content pre {margin: 0.2em;color: black;border-radius: 0.25em;background-color: #f0f8ff;}#sk-container-id-1 input.sk-toggleable__control:checked~div.sk-toggleable__content {max-height: 200px;max-width: 100%;overflow: auto;}#sk-container-id-1 input.sk-toggleable__control:checked~label.sk-toggleable__label-arrow:before {content: \"▾\";}#sk-container-id-1 div.sk-estimator input.sk-toggleable__control:checked~label.sk-toggleable__label {background-color: #d4ebff;}#sk-container-id-1 div.sk-label input.sk-toggleable__control:checked~label.sk-toggleable__label {background-color: #d4ebff;}#sk-container-id-1 input.sk-hidden--visually {border: 0;clip: rect(1px 1px 1px 1px);clip: rect(1px, 1px, 1px, 1px);height: 1px;margin: -1px;overflow: hidden;padding: 0;position: absolute;width: 1px;}#sk-container-id-1 div.sk-estimator {font-family: monospace;background-color: #f0f8ff;border: 1px dotted black;border-radius: 0.25em;box-sizing: border-box;margin-bottom: 0.5em;}#sk-container-id-1 div.sk-estimator:hover {background-color: #d4ebff;}#sk-container-id-1 div.sk-parallel-item::after {content: \"\";width: 100%;border-bottom: 1px solid gray;flex-grow: 1;}#sk-container-id-1 div.sk-label:hover label.sk-toggleable__label {background-color: #d4ebff;}#sk-container-id-1 div.sk-serial::before {content: \"\";position: absolute;border-left: 1px solid gray;box-sizing: border-box;top: 0;bottom: 0;left: 50%;z-index: 0;}#sk-container-id-1 div.sk-serial {display: flex;flex-direction: column;align-items: center;background-color: white;padding-right: 0.2em;padding-left: 0.2em;position: relative;}#sk-container-id-1 div.sk-item {position: relative;z-index: 1;}#sk-container-id-1 div.sk-parallel {display: flex;align-items: stretch;justify-content: center;background-color: white;position: relative;}#sk-container-id-1 div.sk-item::before, #sk-container-id-1 div.sk-parallel-item::before {content: \"\";position: absolute;border-left: 1px solid gray;box-sizing: border-box;top: 0;bottom: 0;left: 50%;z-index: -1;}#sk-container-id-1 div.sk-parallel-item {display: flex;flex-direction: column;z-index: 1;position: relative;background-color: white;}#sk-container-id-1 div.sk-parallel-item:first-child::after {align-self: flex-end;width: 50%;}#sk-container-id-1 div.sk-parallel-item:last-child::after {align-self: flex-start;width: 50%;}#sk-container-id-1 div.sk-parallel-item:only-child::after {width: 0;}#sk-container-id-1 div.sk-dashed-wrapped {border: 1px dashed gray;margin: 0 0.4em 0.5em 0.4em;box-sizing: border-box;padding-bottom: 0.4em;background-color: white;}#sk-container-id-1 div.sk-label label {font-family: monospace;font-weight: bold;display: inline-block;line-height: 1.2em;}#sk-container-id-1 div.sk-label-container {text-align: center;}#sk-container-id-1 div.sk-container {/* jupyter's `normalize.less` sets `[hidden] { display: none; }` but bootstrap.min.css set `[hidden] { display: none !important; }` so we also need the `!important` here to be able to override the default hidden behavior on the sphinx rendered scikit-learn.org. See: https://github.com/scikit-learn/scikit-learn/issues/21755 */display: inline-block !important;position: relative;}#sk-container-id-1 div.sk-text-repr-fallback {display: none;}</style><div id=\"sk-container-id-1\" class=\"sk-top-container\"><div class=\"sk-text-repr-fallback\"><pre>GradientBoostingRegressor(loss=&#x27;quantile&#x27;)</pre><b>In a Jupyter environment, please rerun this cell to show the HTML representation or trust the notebook. <br />On GitHub, the HTML representation is unable to render, please try loading this page with nbviewer.org.</b></div><div class=\"sk-container\" hidden><div class=\"sk-item\"><div class=\"sk-estimator sk-toggleable\"><input class=\"sk-toggleable__control sk-hidden--visually\" id=\"sk-estimator-id-1\" type=\"checkbox\" checked><label for=\"sk-estimator-id-1\" class=\"sk-toggleable__label sk-toggleable__label-arrow\">GradientBoostingRegressor</label><div class=\"sk-toggleable__content\"><pre>GradientBoostingRegressor(loss=&#x27;quantile&#x27;)</pre></div></div></div></div></div>"
      ],
      "text/plain": [
       "GradientBoostingRegressor(loss='quantile')"
      ]
     },
     "execution_count": 10,
     "metadata": {},
     "output_type": "execute_result"
    }
   ],
   "source": [
    "# деякі моделі дозволяють використання квантильної похибки:\n",
    "# https://scikit-learn.org/stable/modules/generated/sklearn.ensemble.GradientBoostingRegressor.html\n",
    "from sklearn.ensemble import GradientBoostingRegressor\n",
    "GradientBoostingRegressor(loss=\"quantile\")"
   ]
  },
  {
   "cell_type": "markdown",
   "id": "d4c2d164-99c6-4a34-a256-5f3afcea3215",
   "metadata": {},
   "source": [
    "## Classification"
   ]
  },
  {
   "cell_type": "markdown",
   "id": "ff6e1a01-c7c5-41bd-91d0-2452119c6978",
   "metadata": {},
   "source": [
    "### Accuracy"
   ]
  },
  {
   "cell_type": "code",
   "execution_count": 11,
   "id": "b2e1c295-57f7-4a47-939b-7260185bd4b0",
   "metadata": {},
   "outputs": [
    {
     "data": {
      "text/plain": [
       "0.25"
      ]
     },
     "execution_count": 11,
     "metadata": {},
     "output_type": "execute_result"
    }
   ],
   "source": [
    "# https://scikit-learn.org/stable/modules/generated/sklearn.metrics.accuracy_score.html#sklearn.metrics.accuracy_score\n",
    "\n",
    "from sklearn.metrics import accuracy_score\n",
    "y_pred = [1, 0, 0, 3]\n",
    "y_true = [0, 1, 2, 3]\n",
    "accuracy_score(y_true, y_pred)"
   ]
  },
  {
   "cell_type": "markdown",
   "id": "e6194fed-d48c-4e4d-89b8-1a8a3273812b",
   "metadata": {},
   "source": [
    "#### Problem 1: imbalanced data"
   ]
  },
  {
   "cell_type": "code",
   "execution_count": 12,
   "id": "343ca8cd-970f-429a-b667-519bb47bcdf7",
   "metadata": {},
   "outputs": [
    {
     "data": {
      "text/plain": [
       "0.9375"
      ]
     },
     "execution_count": 12,
     "metadata": {},
     "output_type": "execute_result"
    }
   ],
   "source": [
    "y_pred = [1, 1, 1, 1, 1, 1, 1, 1, 1, 1, 1, 1, 1, 1, 1, 1]\n",
    "y_true = [0, 1, 1, 1, 1, 1, 1, 1, 1, 1, 1, 1, 1, 1, 1, 1]\n",
    "accuracy_score(y_true, y_pred)"
   ]
  },
  {
   "cell_type": "markdown",
   "id": "6dc386f7-171b-49f2-bc2e-5b3f1607b396",
   "metadata": {},
   "source": [
    "Oversampling/undersampling\n",
    "\n",
    "![oversampling-undersampling](https://av-eks-blogoptimized.s3.amazonaws.com/1*H6XodlitlGDl9YdbwaZLMw.png)\n",
    "\n",
    "https://imbalanced-learn.org/stable/over_sampling.html"
   ]
  },
  {
   "cell_type": "markdown",
   "id": "c5129689-c161-4410-8a6f-284a5b959f82",
   "metadata": {},
   "source": [
    "#### Problem 2: weight of mistake\n",
    "Приклад: \n",
    "- оцінка банком кредитоспроможності клієнта\n",
    "- тестування онкологічних хвороб"
   ]
  },
  {
   "cell_type": "markdown",
   "id": "3f7667ab-5b84-4056-ae7d-b846bd9796d1",
   "metadata": {},
   "source": [
    "#### Precision & Recall"
   ]
  },
  {
   "cell_type": "markdown",
   "id": "fa44ecdd-81a8-4208-a2d4-2283fab45be9",
   "metadata": {},
   "source": [
    "![precision-recall](https://miro.medium.com/v2/resize:fit:1120/format:webp/1*AEV3TE67ahMn3NVpU0ov4g.png)"
   ]
  },
  {
   "cell_type": "markdown",
   "id": "3f305bf3-4955-4d17-977a-c8c3955636b9",
   "metadata": {},
   "source": [
    "Див: https://pair.withgoogle.com/explorables/measuring-fairness/"
   ]
  },
  {
   "cell_type": "markdown",
   "id": "9aa67493-d8ee-4435-bfcf-6605d4f73306",
   "metadata": {},
   "source": [
    "#### Binary F1 score (One-vs-Rest)\n",
    "![binary-f1](https://iamirmasoud.com/wp-content/uploads/2023/04/image-33.png)"
   ]
  },
  {
   "cell_type": "code",
   "execution_count": 13,
   "id": "38fd5051-b2e1-4214-90a2-0c8191aed2a0",
   "metadata": {},
   "outputs": [
    {
     "data": {
      "text/plain": [
       "0.9375"
      ]
     },
     "execution_count": 13,
     "metadata": {},
     "output_type": "execute_result"
    }
   ],
   "source": [
    "from sklearn.metrics import precision_score, recall_score, f1_score\n",
    "\n",
    "y_pred = [1, 1, 1, 1, 1, 1, 1, 1, 1, 1, 1, 1, 1, 1, 1, 1]\n",
    "y_true = [0, 1, 1, 1, 1, 1, 1, 1, 1, 1, 1, 1, 1, 1, 1, 1]\n",
    "precision_score(y_true, y_pred)"
   ]
  },
  {
   "cell_type": "code",
   "execution_count": 14,
   "id": "b294ba5b-0e8f-46e6-bb93-7cf89513a784",
   "metadata": {},
   "outputs": [
    {
     "data": {
      "text/plain": [
       "1.0"
      ]
     },
     "execution_count": 14,
     "metadata": {},
     "output_type": "execute_result"
    }
   ],
   "source": [
    "recall_score(y_true, y_pred)"
   ]
  },
  {
   "cell_type": "code",
   "execution_count": 15,
   "id": "dcad0d9e-f0dc-41ed-ba30-9da856261ab3",
   "metadata": {},
   "outputs": [
    {
     "data": {
      "text/plain": [
       "0.967741935483871"
      ]
     },
     "execution_count": 15,
     "metadata": {},
     "output_type": "execute_result"
    }
   ],
   "source": [
    "# https://scikit-learn.org/stable/modules/generated/sklearn.metrics.precision_score.html#sklearn.metrics.precision_score\n",
    "f1_score(y_true, y_pred)"
   ]
  },
  {
   "cell_type": "code",
   "execution_count": 16,
   "id": "c81b0e17-ce08-4e90-9e84-a7bab13ea828",
   "metadata": {},
   "outputs": [
    {
     "name": "stderr",
     "output_type": "stream",
     "text": [
      "/Users/nataliakees/miniconda3/envs/python_data_env/lib/python3.11/site-packages/sklearn/metrics/_classification.py:1471: UndefinedMetricWarning: Precision is ill-defined and being set to 0.0 due to no predicted samples. Use `zero_division` parameter to control this behavior.\n",
      "  _warn_prf(average, modifier, msg_start, len(result))\n"
     ]
    },
    {
     "data": {
      "text/plain": [
       "0.0"
      ]
     },
     "execution_count": 16,
     "metadata": {},
     "output_type": "execute_result"
    }
   ],
   "source": [
    "precision_score(y_true, y_pred, pos_label=0)"
   ]
  },
  {
   "cell_type": "code",
   "execution_count": 17,
   "id": "b6aa9467-472b-4b94-b017-9f7d5a84dcf7",
   "metadata": {},
   "outputs": [
    {
     "data": {
      "text/plain": [
       "0.0"
      ]
     },
     "execution_count": 17,
     "metadata": {},
     "output_type": "execute_result"
    }
   ],
   "source": [
    "recall_score(y_true, y_pred, pos_label=0)"
   ]
  },
  {
   "cell_type": "code",
   "execution_count": 18,
   "id": "69c6eb67-5835-4426-9e09-de219e96f628",
   "metadata": {},
   "outputs": [
    {
     "data": {
      "text/plain": [
       "0.0"
      ]
     },
     "execution_count": 18,
     "metadata": {},
     "output_type": "execute_result"
    }
   ],
   "source": [
    "f1_score(y_true, y_pred, pos_label=0)"
   ]
  },
  {
   "cell_type": "markdown",
   "id": "0fb0d338-a2c2-447e-b5d3-2f530232fccc",
   "metadata": {},
   "source": [
    "#### Weighted F1\n",
    "![weighted-f1](https://iamirmasoud.com/wp-content/uploads/2023/04/image-36.png)"
   ]
  },
  {
   "cell_type": "code",
   "execution_count": 19,
   "id": "d8798532-933a-426a-b587-d48e7a05113e",
   "metadata": {},
   "outputs": [
    {
     "data": {
      "text/plain": [
       "0.907258064516129"
      ]
     },
     "execution_count": 19,
     "metadata": {},
     "output_type": "execute_result"
    }
   ],
   "source": [
    "f1_score(y_true, y_pred, average='weighted')"
   ]
  },
  {
   "cell_type": "markdown",
   "id": "e42902b6-2984-4655-911d-5a725dd1bc5e",
   "metadata": {},
   "source": [
    "#### Micro F1\n",
    "![micro-f1](https://iamirmasoud.com/wp-content/uploads/2023/04/image-39.png)"
   ]
  },
  {
   "cell_type": "code",
   "execution_count": 20,
   "id": "89398fd3-3ad1-4584-ac17-28c027a6280d",
   "metadata": {},
   "outputs": [
    {
     "data": {
      "text/plain": [
       "0.9375"
      ]
     },
     "execution_count": 20,
     "metadata": {},
     "output_type": "execute_result"
    }
   ],
   "source": [
    "# micro: спочатку окремі міри точності і повноти по класу, а потім f1 по цих мірах\n",
    "\n",
    "f1_score(y_true, y_pred, average='micro')"
   ]
  },
  {
   "cell_type": "markdown",
   "id": "7b1d31b6-6123-4703-8692-935ab0c203bd",
   "metadata": {},
   "source": [
    "#### Macro F1\n",
    "![macro-f1](https://iamirmasoud.com/wp-content/uploads/2023/04/image-34.png)"
   ]
  },
  {
   "cell_type": "code",
   "execution_count": 21,
   "id": "c9b33a2b-5967-4af3-8d89-32bb2317ddbb",
   "metadata": {},
   "outputs": [
    {
     "data": {
      "text/plain": [
       "0.4838709677419355"
      ]
     },
     "execution_count": 21,
     "metadata": {},
     "output_type": "execute_result"
    }
   ],
   "source": [
    "# macro: спочатку окремі f1 по кожному класу, а потім їх середнє\n",
    "f1_score(y_true, y_pred, average='macro')"
   ]
  },
  {
   "cell_type": "code",
   "execution_count": 22,
   "id": "13322a54-2358-497e-b6a9-2d19d1cbb693",
   "metadata": {},
   "outputs": [
    {
     "data": {
      "text/plain": [
       "0.4838709677419355"
      ]
     },
     "execution_count": 22,
     "metadata": {},
     "output_type": "execute_result"
    }
   ],
   "source": [
    "(f1_score(y_true, y_pred, pos_label=0) + f1_score(y_true, y_pred, pos_label=1)) / 2"
   ]
  },
  {
   "cell_type": "markdown",
   "id": "14630cd7-6f68-4228-9bca-3fa924d36b77",
   "metadata": {},
   "source": [
    "#### PR-Curve"
   ]
  },
  {
   "cell_type": "markdown",
   "id": "7d6fffce-3941-4e61-89ac-555ccf0a79f8",
   "metadata": {},
   "source": [
    "![PR-Curve](https://textbook.edu.goit.global/python/data-science-remaster/v1/img/module-07-08/pr-curve.png)"
   ]
  },
  {
   "cell_type": "code",
   "execution_count": 23,
   "id": "2b09261b-3cb7-4c28-9a56-72d87abc220e",
   "metadata": {},
   "outputs": [
    {
     "name": "stderr",
     "output_type": "stream",
     "text": [
      "/Users/nataliakees/miniconda3/envs/python_data_env/lib/python3.11/site-packages/sklearn/metrics/_classification.py:1471: UndefinedMetricWarning: Precision is ill-defined and being set to 0.0 due to no predicted samples. Use `zero_division` parameter to control this behavior.\n",
      "  _warn_prf(average, modifier, msg_start, len(result))\n"
     ]
    }
   ],
   "source": [
    "y_pred = np.flip(np.tril(np.ones((7,6),int),-1), axis=1)\n",
    "y_true = np.array([0, 1, 0, 0, 1, 1])\n",
    "\n",
    "prec = [precision_score(y_true, i) for i in y_pred]\n",
    "rec = [recall_score(y_true, i) for i in y_pred]"
   ]
  },
  {
   "cell_type": "code",
   "execution_count": 24,
   "id": "64076a9b-7770-42d9-b4ea-edc24a5448e4",
   "metadata": {},
   "outputs": [
    {
     "data": {
      "text/plain": [
       "array([[0, 0, 0, 0, 0, 0],\n",
       "       [0, 0, 0, 0, 0, 1],\n",
       "       [0, 0, 0, 0, 1, 1],\n",
       "       [0, 0, 0, 1, 1, 1],\n",
       "       [0, 0, 1, 1, 1, 1],\n",
       "       [0, 1, 1, 1, 1, 1],\n",
       "       [1, 1, 1, 1, 1, 1]])"
      ]
     },
     "execution_count": 24,
     "metadata": {},
     "output_type": "execute_result"
    }
   ],
   "source": [
    "y_pred"
   ]
  },
  {
   "cell_type": "code",
   "execution_count": 25,
   "id": "83fea320-ef2a-42c2-b832-1c3f75bab32f",
   "metadata": {},
   "outputs": [
    {
     "data": {
      "text/plain": [
       "[<matplotlib.lines.Line2D at 0x11ccf39d0>]"
      ]
     },
     "execution_count": 25,
     "metadata": {},
     "output_type": "execute_result"
    },
    {
     "data": {
      "image/png": "[encoded data removed]",
      "text/plain": [
       "<Figure size 640x480 with 1 Axes>"
      ]
     },
     "metadata": {},
     "output_type": "display_data"
    }
   ],
   "source": [
    "plt.plot(rec, prec)"
   ]
  },
  {
   "cell_type": "markdown",
   "id": "3ff666f0-273f-45fb-b502-9cc6804183f9",
   "metadata": {},
   "source": [
    "#### ROC-AUC Curve\n",
    "\n",
    "Area Under the Receiver Operating Characteristic Curve (ROC AUC)"
   ]
  },
  {
   "cell_type": "code",
   "execution_count": 26,
   "id": "60685a1e-9c94-416d-80b4-1680fb31956d",
   "metadata": {},
   "outputs": [
    {
     "data": {
      "text/plain": [
       "0.75"
      ]
     },
     "execution_count": 26,
     "metadata": {},
     "output_type": "execute_result"
    }
   ],
   "source": [
    "from sklearn.metrics import roc_auc_score\n",
    "from sklearn.linear_model import LogisticRegression\n",
    "X = np.array([1, 2, 3, 4]).reshape(-1, 1)\n",
    "y_true = np.array([1.0, 0.0, 1.0, 0.0])\n",
    "\n",
    "clf = LogisticRegression().fit(X, y_true)\n",
    "roc_auc_score(y_true, y_score=clf.predict_proba(X)[:, 1])"
   ]
  },
  {
   "cell_type": "code",
   "execution_count": 27,
   "id": "a5b93ddb-23f1-4129-b14d-19f4ec519ac5",
   "metadata": {},
   "outputs": [
    {
     "data": {
      "text/plain": [
       "array([0.66358509, 0.55636827, 0.44363053, 0.33641383])"
      ]
     },
     "execution_count": 27,
     "metadata": {},
     "output_type": "execute_result"
    }
   ],
   "source": [
    "clf.predict_proba(X)[:, 1]"
   ]
  },
  {
   "cell_type": "code",
   "execution_count": 28,
   "id": "737fc29b-3250-4d15-93b1-c731f4524a2a",
   "metadata": {},
   "outputs": [
    {
     "data": {
      "image/png": "[encoded data removed]",
      "text/plain": [
       "<Figure size 640x480 with 1 Axes>"
      ]
     },
     "metadata": {},
     "output_type": "display_data"
    }
   ],
   "source": [
    "import sklearn.metrics as metrics\n",
    "# calculate the fpr and tpr for all thresholds of the classification\n",
    "probs = clf.predict_proba(X)\n",
    "preds = probs[:,1]\n",
    "fpr, tpr, threshold = metrics.roc_curve(y_true, preds)\n",
    "roc_auc = metrics.auc(fpr, tpr)\n",
    "\n",
    "# method I: plt\n",
    "import matplotlib.pyplot as plt\n",
    "plt.title('Receiver Operating Characteristic')\n",
    "plt.plot(fpr, tpr, 'b', label = 'AUC = %0.2f' % roc_auc)\n",
    "plt.legend(loc = 'lower right')\n",
    "plt.plot([0, 1], [0, 1],'r--')\n",
    "plt.xlim([0, 1])\n",
    "plt.ylim([0, 1])\n",
    "plt.ylabel('True Positive Rate')\n",
    "plt.xlabel('False Positive Rate')\n",
    "plt.show()"
   ]
  },
  {
   "cell_type": "code",
   "execution_count": null,
   "id": "5f31063d-8d2a-4028-91e4-e3c1f119f2d6",
   "metadata": {},
   "outputs": [],
   "source": []
  }
 ],
 "metadata": {
  "kernelspec": {
   "display_name": "Python 3 (ipykernel)",
   "language": "python",
   "name": "python3"
  },
  "language_info": {
   "codemirror_mode": {
    "name": "ipython",
    "version": 3
   },
   "file_extension": ".py",
   "mimetype": "text/x-python",
   "name": "python",
   "nbconvert_exporter": "python",
   "pygments_lexer": "ipython3",
   "version": "3.11.6"
  }
 },
 "nbformat": 4,
 "nbformat_minor": 5
}
