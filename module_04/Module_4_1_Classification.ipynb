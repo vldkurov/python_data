{
 "cells": [
  {
   "cell_type": "markdown",
   "id": "e7f6571c-e708-43e6-ad4c-defcd04d78c8",
   "metadata": {},
   "source": [
    "# Lesson 7: Classification"
   ]
  },
  {
   "cell_type": "code",
   "execution_count": 1,
   "id": "73bd70a4-ef0a-461e-aeff-9e18eec1b7fe",
   "metadata": {},
   "outputs": [],
   "source": [
    "import os\n",
    "import math\n",
    "import numpy as np\n",
    "import pandas as pd\n",
    "import matplotlib.pyplot as plt\n",
    "import seaborn as sns\n",
    "\n",
    "# machine learning\n",
    "from sklearn.linear_model import LogisticRegression\n",
    "from sklearn.linear_model import SGDClassifier\n",
    "from sklearn.naive_bayes import GaussianNB\n",
    "\n",
    "from sklearn.model_selection import train_test_split\n",
    "\n",
    "pd.options.mode.chained_assignment = None"
   ]
  },
  {
   "cell_type": "markdown",
   "id": "4e2a180a-ee55-4b96-942d-5a983adc6aa2",
   "metadata": {},
   "source": [
    "We will use the Kaggle Titanic data to demonstrate these major steps.\n",
    "- Data: https://www.kaggle.com/competitions/titanic/data\n",
    "- Examples used to compose this notebook: https://www.kaggle.com/code/startupsci/titanic-data-science-solutions"
   ]
  },
  {
   "cell_type": "code",
   "execution_count": 2,
   "id": "9c43fa80-c949-4129-a382-2fbe6ed9ccf7",
   "metadata": {},
   "outputs": [
    {
     "data": {
      "text/html": [
       "<div>\n",
       "<style scoped>\n",
       "    .dataframe tbody tr th:only-of-type {\n",
       "        vertical-align: middle;\n",
       "    }\n",
       "\n",
       "    .dataframe tbody tr th {\n",
       "        vertical-align: top;\n",
       "    }\n",
       "\n",
       "    .dataframe thead th {\n",
       "        text-align: right;\n",
       "    }\n",
       "</style>\n",
       "<table border=\"1\" class=\"dataframe\">\n",
       "  <thead>\n",
       "    <tr style=\"text-align: right;\">\n",
       "      <th></th>\n",
       "      <th>Survived</th>\n",
       "      <th>Pclass</th>\n",
       "      <th>Name</th>\n",
       "      <th>Sex</th>\n",
       "      <th>Age</th>\n",
       "      <th>SibSp</th>\n",
       "      <th>Parch</th>\n",
       "      <th>Ticket</th>\n",
       "      <th>Fare</th>\n",
       "      <th>Embarked</th>\n",
       "    </tr>\n",
       "    <tr>\n",
       "      <th>PassengerId</th>\n",
       "      <th></th>\n",
       "      <th></th>\n",
       "      <th></th>\n",
       "      <th></th>\n",
       "      <th></th>\n",
       "      <th></th>\n",
       "      <th></th>\n",
       "      <th></th>\n",
       "      <th></th>\n",
       "      <th></th>\n",
       "    </tr>\n",
       "  </thead>\n",
       "  <tbody>\n",
       "    <tr>\n",
       "      <th>1</th>\n",
       "      <td>0</td>\n",
       "      <td>3</td>\n",
       "      <td>Braund, Mr. Owen Harris</td>\n",
       "      <td>male</td>\n",
       "      <td>22.0</td>\n",
       "      <td>1</td>\n",
       "      <td>0</td>\n",
       "      <td>A/5 21171</td>\n",
       "      <td>7.2500</td>\n",
       "      <td>S</td>\n",
       "    </tr>\n",
       "    <tr>\n",
       "      <th>2</th>\n",
       "      <td>1</td>\n",
       "      <td>1</td>\n",
       "      <td>Cumings, Mrs. John Bradley (Florence Briggs Th...</td>\n",
       "      <td>female</td>\n",
       "      <td>38.0</td>\n",
       "      <td>1</td>\n",
       "      <td>0</td>\n",
       "      <td>PC 17599</td>\n",
       "      <td>71.2833</td>\n",
       "      <td>C</td>\n",
       "    </tr>\n",
       "    <tr>\n",
       "      <th>3</th>\n",
       "      <td>1</td>\n",
       "      <td>3</td>\n",
       "      <td>Heikkinen, Miss. Laina</td>\n",
       "      <td>female</td>\n",
       "      <td>26.0</td>\n",
       "      <td>0</td>\n",
       "      <td>0</td>\n",
       "      <td>STON/O2. 3101282</td>\n",
       "      <td>7.9250</td>\n",
       "      <td>S</td>\n",
       "    </tr>\n",
       "    <tr>\n",
       "      <th>4</th>\n",
       "      <td>1</td>\n",
       "      <td>1</td>\n",
       "      <td>Futrelle, Mrs. Jacques Heath (Lily May Peel)</td>\n",
       "      <td>female</td>\n",
       "      <td>35.0</td>\n",
       "      <td>1</td>\n",
       "      <td>0</td>\n",
       "      <td>113803</td>\n",
       "      <td>53.1000</td>\n",
       "      <td>S</td>\n",
       "    </tr>\n",
       "    <tr>\n",
       "      <th>5</th>\n",
       "      <td>0</td>\n",
       "      <td>3</td>\n",
       "      <td>Allen, Mr. William Henry</td>\n",
       "      <td>male</td>\n",
       "      <td>35.0</td>\n",
       "      <td>0</td>\n",
       "      <td>0</td>\n",
       "      <td>373450</td>\n",
       "      <td>8.0500</td>\n",
       "      <td>S</td>\n",
       "    </tr>\n",
       "    <tr>\n",
       "      <th>...</th>\n",
       "      <td>...</td>\n",
       "      <td>...</td>\n",
       "      <td>...</td>\n",
       "      <td>...</td>\n",
       "      <td>...</td>\n",
       "      <td>...</td>\n",
       "      <td>...</td>\n",
       "      <td>...</td>\n",
       "      <td>...</td>\n",
       "      <td>...</td>\n",
       "    </tr>\n",
       "    <tr>\n",
       "      <th>887</th>\n",
       "      <td>0</td>\n",
       "      <td>2</td>\n",
       "      <td>Montvila, Rev. Juozas</td>\n",
       "      <td>male</td>\n",
       "      <td>27.0</td>\n",
       "      <td>0</td>\n",
       "      <td>0</td>\n",
       "      <td>211536</td>\n",
       "      <td>13.0000</td>\n",
       "      <td>S</td>\n",
       "    </tr>\n",
       "    <tr>\n",
       "      <th>888</th>\n",
       "      <td>1</td>\n",
       "      <td>1</td>\n",
       "      <td>Graham, Miss. Margaret Edith</td>\n",
       "      <td>female</td>\n",
       "      <td>19.0</td>\n",
       "      <td>0</td>\n",
       "      <td>0</td>\n",
       "      <td>112053</td>\n",
       "      <td>30.0000</td>\n",
       "      <td>S</td>\n",
       "    </tr>\n",
       "    <tr>\n",
       "      <th>889</th>\n",
       "      <td>0</td>\n",
       "      <td>3</td>\n",
       "      <td>Johnston, Miss. Catherine Helen \"Carrie\"</td>\n",
       "      <td>female</td>\n",
       "      <td>NaN</td>\n",
       "      <td>1</td>\n",
       "      <td>2</td>\n",
       "      <td>W./C. 6607</td>\n",
       "      <td>23.4500</td>\n",
       "      <td>S</td>\n",
       "    </tr>\n",
       "    <tr>\n",
       "      <th>890</th>\n",
       "      <td>1</td>\n",
       "      <td>1</td>\n",
       "      <td>Behr, Mr. Karl Howell</td>\n",
       "      <td>male</td>\n",
       "      <td>26.0</td>\n",
       "      <td>0</td>\n",
       "      <td>0</td>\n",
       "      <td>111369</td>\n",
       "      <td>30.0000</td>\n",
       "      <td>C</td>\n",
       "    </tr>\n",
       "    <tr>\n",
       "      <th>891</th>\n",
       "      <td>0</td>\n",
       "      <td>3</td>\n",
       "      <td>Dooley, Mr. Patrick</td>\n",
       "      <td>male</td>\n",
       "      <td>32.0</td>\n",
       "      <td>0</td>\n",
       "      <td>0</td>\n",
       "      <td>370376</td>\n",
       "      <td>7.7500</td>\n",
       "      <td>Q</td>\n",
       "    </tr>\n",
       "  </tbody>\n",
       "</table>\n",
       "<p>889 rows × 10 columns</p>\n",
       "</div>"
      ],
      "text/plain": [
       "             Survived  Pclass  \\\n",
       "PassengerId                     \n",
       "1                   0       3   \n",
       "2                   1       1   \n",
       "3                   1       3   \n",
       "4                   1       1   \n",
       "5                   0       3   \n",
       "...               ...     ...   \n",
       "887                 0       2   \n",
       "888                 1       1   \n",
       "889                 0       3   \n",
       "890                 1       1   \n",
       "891                 0       3   \n",
       "\n",
       "                                                          Name     Sex   Age  \\\n",
       "PassengerId                                                                    \n",
       "1                                      Braund, Mr. Owen Harris    male  22.0   \n",
       "2            Cumings, Mrs. John Bradley (Florence Briggs Th...  female  38.0   \n",
       "3                                       Heikkinen, Miss. Laina  female  26.0   \n",
       "4                 Futrelle, Mrs. Jacques Heath (Lily May Peel)  female  35.0   \n",
       "5                                     Allen, Mr. William Henry    male  35.0   \n",
       "...                                                        ...     ...   ...   \n",
       "887                                      Montvila, Rev. Juozas    male  27.0   \n",
       "888                               Graham, Miss. Margaret Edith  female  19.0   \n",
       "889                   Johnston, Miss. Catherine Helen \"Carrie\"  female   NaN   \n",
       "890                                      Behr, Mr. Karl Howell    male  26.0   \n",
       "891                                        Dooley, Mr. Patrick    male  32.0   \n",
       "\n",
       "             SibSp  Parch            Ticket     Fare Embarked  \n",
       "PassengerId                                                    \n",
       "1                1      0         A/5 21171   7.2500        S  \n",
       "2                1      0          PC 17599  71.2833        C  \n",
       "3                0      0  STON/O2. 3101282   7.9250        S  \n",
       "4                1      0            113803  53.1000        S  \n",
       "5                0      0            373450   8.0500        S  \n",
       "...            ...    ...               ...      ...      ...  \n",
       "887              0      0            211536  13.0000        S  \n",
       "888              0      0            112053  30.0000        S  \n",
       "889              1      2        W./C. 6607  23.4500        S  \n",
       "890              0      0            111369  30.0000        C  \n",
       "891              0      0            370376   7.7500        Q  \n",
       "\n",
       "[889 rows x 10 columns]"
      ]
     },
     "execution_count": 2,
     "metadata": {},
     "output_type": "execute_result"
    }
   ],
   "source": [
    "# Import data from Kaggle Competition\n",
    "PATH = \"../../data/titanic\"\n",
    "df = pd.read_csv(os.path.join(PATH, \"train.csv\"), index_col=0)\n",
    "df.drop([\"Cabin\"], axis=1, inplace=True)\n",
    "df.dropna(subset=['Embarked'], inplace=True)\n",
    "\n",
    "df"
   ]
  },
  {
   "cell_type": "code",
   "execution_count": 3,
   "id": "a257c948-365a-4542-98c0-fe16dc7fbade",
   "metadata": {},
   "outputs": [],
   "source": [
    "# train-test-split\n",
    "df_train, df_test = train_test_split(df, test_size=0.15, random_state=42, shuffle=True)\n",
    "combine = [df_train, df_test]\n",
    "\n",
    "df_train.reset_index(inplace=True, drop=True)\n",
    "df_test.reset_index(inplace=True, drop=True)"
   ]
  },
  {
   "cell_type": "code",
   "execution_count": 6,
   "id": "3a6d2612-9bb0-40f3-9b01-bb0df6d2031b",
   "metadata": {},
   "outputs": [],
   "source": [
    "# perform data preprocessing separately on each subset:\n",
    "# 1) converting male and female to 0 and 1\n",
    "# 2) imputing age based on median value for given class and sex\n",
    "# 3) converting embarked in S to 0, embarked in C to 1, and embarked in Q to 2\n",
    "\n",
    "for dataset in combine:\n",
    "\n",
    "    # convert categorical features into numbers\n",
    "    dataset['Sex'] = dataset['Sex'].map({'female': 1, 'male': 0}).astype(int)\n",
    "    dataset['Embarked'] = dataset['Embarked'].map({'S': 0, 'C': 1, 'Q': 2}).astype(int)\n",
    "\n",
    "    # fill the missing values for Age\n",
    "    guess_ages = np.zeros((2,3))\n",
    "    for i in range(0, 2):\n",
    "        for j in range(0, 3):\n",
    "            guess_df = dataset[(dataset['Sex'] == i) & (dataset['Pclass'] == j+1)]['Age'].dropna()\n",
    "            guess_ages[i,j] = guess_df.median()\n",
    "           \n",
    "    for i in range(0, 2):\n",
    "        for j in range(0, 3):\n",
    "            dataset.loc[(dataset.Age.isnull()) & (dataset.Sex == i) & (dataset.Pclass == j+1), 'Age'] = guess_ages[i,j]\n",
    "\n",
    "    dataset['Age'] = dataset['Age'].astype(int)\n",
    "    "
   ]
  },
  {
   "cell_type": "code",
   "execution_count": 7,
   "id": "6ac31fbf-4ac0-46b1-8285-2a091f29bd4a",
   "metadata": {},
   "outputs": [
    {
     "name": "stdout",
     "output_type": "stream",
     "text": [
      "<class 'pandas.core.frame.DataFrame'>\n",
      "RangeIndex: 755 entries, 0 to 754\n",
      "Data columns (total 10 columns):\n",
      " #   Column    Non-Null Count  Dtype  \n",
      "---  ------    --------------  -----  \n",
      " 0   Survived  755 non-null    int64  \n",
      " 1   Pclass    755 non-null    int64  \n",
      " 2   Name      755 non-null    object \n",
      " 3   Sex       755 non-null    int64  \n",
      " 4   Age       755 non-null    int64  \n",
      " 5   SibSp     755 non-null    int64  \n",
      " 6   Parch     755 non-null    int64  \n",
      " 7   Ticket    755 non-null    object \n",
      " 8   Fare      755 non-null    float64\n",
      " 9   Embarked  755 non-null    int64  \n",
      "dtypes: float64(1), int64(7), object(2)\n",
      "memory usage: 59.1+ KB\n",
      "<class 'pandas.core.frame.DataFrame'>\n",
      "RangeIndex: 134 entries, 0 to 133\n",
      "Data columns (total 10 columns):\n",
      " #   Column    Non-Null Count  Dtype  \n",
      "---  ------    --------------  -----  \n",
      " 0   Survived  134 non-null    int64  \n",
      " 1   Pclass    134 non-null    int64  \n",
      " 2   Name      134 non-null    object \n",
      " 3   Sex       134 non-null    int64  \n",
      " 4   Age       134 non-null    int64  \n",
      " 5   SibSp     134 non-null    int64  \n",
      " 6   Parch     134 non-null    int64  \n",
      " 7   Ticket    134 non-null    object \n",
      " 8   Fare      134 non-null    float64\n",
      " 9   Embarked  134 non-null    int64  \n",
      "dtypes: float64(1), int64(7), object(2)\n",
      "memory usage: 10.6+ KB\n"
     ]
    }
   ],
   "source": [
    "for dataset in combine:\n",
    "    dataset.info()"
   ]
  },
  {
   "cell_type": "code",
   "execution_count": 8,
   "id": "495f6f2d-b131-4ce3-bcf6-8d612102ae00",
   "metadata": {},
   "outputs": [],
   "source": [
    "# drop columns that are irrelevant for prediction\n",
    "\n",
    "for dataset in combine:\n",
    "    dataset.drop(\"Name\", axis=1, inplace=True)\n",
    "    dataset.drop(\"Ticket\", axis=1, inplace=True)"
   ]
  },
  {
   "cell_type": "code",
   "execution_count": 11,
   "id": "a6eeb902-12ed-4298-8b5f-0baf341418ae",
   "metadata": {},
   "outputs": [
    {
     "data": {
      "text/plain": [
       "<Axes: xlabel='Age', ylabel='Pclass'>"
      ]
     },
     "execution_count": 11,
     "metadata": {},
     "output_type": "execute_result"
    },
    {
     "data": {
      "image/png": "[encoded data removed]",
      "text/plain": [
       "<Figure size 640x480 with 1 Axes>"
      ]
     },
     "metadata": {},
     "output_type": "display_data"
    }
   ],
   "source": [
    "sns.scatterplot(x='Age', y='Pclass', hue=\"Survived\", data=df_train[[\"Age\", \"Pclass\", \"Survived\"]])\n",
    "#sns.lineplot(x=np.array([2.0, 44.0]), y=np.array([3.0, 1.0]))\n",
    "sns.lineplot(x=np.array([2.0, 61.0]), y=np.array([3.0, 1.0]))"
   ]
  },
  {
   "cell_type": "code",
   "execution_count": 12,
   "id": "4bfcfb62-2e65-44ec-a59b-08c8c1f3bd69",
   "metadata": {},
   "outputs": [
    {
     "data": {
      "text/plain": [
       "((755, 2), (755,), (134, 2), (134,))"
      ]
     },
     "execution_count": 12,
     "metadata": {},
     "output_type": "execute_result"
    }
   ],
   "source": [
    "# create features\n",
    "X_train = df_train[[\"Age\", \"Pclass\"]]\n",
    "y_train = df_train[\"Survived\"]\n",
    "X_test  = df_test[[\"Age\", \"Pclass\"]]\n",
    "y_test = df_test[\"Survived\"]\n",
    "\n",
    "X_train.shape, y_train.shape, X_test.shape, y_test.shape"
   ]
  },
  {
   "cell_type": "markdown",
   "id": "6a64928c-510c-474a-b908-0816eabddedf",
   "metadata": {},
   "source": [
    "## Logistic Regression\n",
    "https://scikit-learn.org/stable/modules/generated/sklearn.linear_model.LogisticRegression.html"
   ]
  },
  {
   "cell_type": "code",
   "execution_count": 13,
   "id": "fa5ae2ba-9e29-4306-acbb-998fa9b7f8a3",
   "metadata": {},
   "outputs": [
    {
     "data": {
      "text/plain": [
       "69.4"
      ]
     },
     "execution_count": 13,
     "metadata": {},
     "output_type": "execute_result"
    }
   ],
   "source": [
    "model = LogisticRegression()\n",
    "model.fit(X_train, y_train)\n",
    "\n",
    "y_pred = model.predict(X_test)\n",
    "acc_log = round(model.score(X_train, y_train) * 100, 2)\n",
    "acc_log\n",
    "# score - відсоток правильних відповідей класифікатора"
   ]
  },
  {
   "cell_type": "code",
   "execution_count": 14,
   "id": "29c45dfa-5829-4ce9-ae58-7c007c343125",
   "metadata": {},
   "outputs": [
    {
     "data": {
      "text/plain": [
       "(array([[-0.04640705, -1.19343273]]), array([3.60343122]))"
      ]
     },
     "execution_count": 14,
     "metadata": {},
     "output_type": "execute_result"
    }
   ],
   "source": [
    "model.coef_, model.intercept_"
   ]
  },
  {
   "cell_type": "code",
   "execution_count": null,
   "id": "eae18abd-dcec-4d62-8e33-587f41caed96",
   "metadata": {},
   "outputs": [],
   "source": [
    "model.intercept_.item()"
   ]
  },
  {
   "cell_type": "code",
   "execution_count": 15,
   "id": "58dc4190-30b7-4225-a774-56c9c98169c4",
   "metadata": {},
   "outputs": [
    {
     "data": {
      "text/plain": [
       "3.019383606145945"
      ]
     },
     "execution_count": 15,
     "metadata": {},
     "output_type": "execute_result"
    }
   ],
   "source": [
    "# f(x_1, x_2) = 0\n",
    "\n",
    "# x_1*model.coef_[0][0] + x_2*model.coef_[0][1] + model.intercept_.item() = 0\n",
    "# x_1*model.coef_[0][0] + x_2*model.coef_[0][1] = - model.intercept_.item()\n",
    "#x_1*-0.04640705 = - (x_2*-1.19343273) - 3.60343122\n",
    "\n",
    "# when x_1 = 0:\n",
    "#x_2*1.19343273 - 3.60343122 = 0\n",
    "#x_2*1.19343273 = 3.60343122\n",
    "x_2_when_x_1_0 = 3.60343122/1.19343273\n",
    "x_2_when_x_1_0"
   ]
  },
  {
   "cell_type": "code",
   "execution_count": 16,
   "id": "e927362b-c4df-489a-a523-0bb9ec3a5043",
   "metadata": {},
   "outputs": [
    {
     "data": {
      "text/plain": [
       "77.64835773874874"
      ]
     },
     "execution_count": 16,
     "metadata": {},
     "output_type": "execute_result"
    }
   ],
   "source": [
    "# when x_2 = 0:\n",
    "#x_1*-0.04640705 = -3.60343122\n",
    "x_1_when_x_2_0 = -3.60343122/-0.04640705\n",
    "x_1_when_x_2_0"
   ]
  },
  {
   "cell_type": "code",
   "execution_count": 17,
   "id": "d8247013-52f7-4959-941a-f1116101c575",
   "metadata": {},
   "outputs": [
    {
     "data": {
      "text/plain": [
       "<Axes: xlabel='Age', ylabel='Pclass'>"
      ]
     },
     "execution_count": 17,
     "metadata": {},
     "output_type": "execute_result"
    },
    {
     "data": {
      "image/png": "[encoded data removed]",
      "text/plain": [
       "<Figure size 640x480 with 1 Axes>"
      ]
     },
     "metadata": {},
     "output_type": "display_data"
    }
   ],
   "source": [
    "sns.scatterplot(x='Age', y='Pclass', hue=\"Survived\", data=df_train[[\"Age\", \"Pclass\", \"Survived\"]])\n",
    "sns.lineplot(x=np.array([0.0, x_1_when_x_2_0]), y=np.array([x_2_when_x_1_0, 0.0]))\n",
    "#sns.lineplot(x=np.array([2.0, 44.0]), y=np.array([3.0, 1.0]))\n",
    "#sns.lineplot(x=np.array([2.0, 61.0]), y=np.array([3.0, 1.0]))"
   ]
  },
  {
   "cell_type": "code",
   "execution_count": 18,
   "id": "57fd5880-6045-4a7d-bbde-23ba1e5ea6ee",
   "metadata": {},
   "outputs": [
    {
     "data": {
      "text/html": [
       "<div>\n",
       "<style scoped>\n",
       "    .dataframe tbody tr th:only-of-type {\n",
       "        vertical-align: middle;\n",
       "    }\n",
       "\n",
       "    .dataframe tbody tr th {\n",
       "        vertical-align: top;\n",
       "    }\n",
       "\n",
       "    .dataframe thead th {\n",
       "        text-align: right;\n",
       "    }\n",
       "</style>\n",
       "<table border=\"1\" class=\"dataframe\">\n",
       "  <thead>\n",
       "    <tr style=\"text-align: right;\">\n",
       "      <th></th>\n",
       "      <th>Feature</th>\n",
       "      <th>Correlation</th>\n",
       "    </tr>\n",
       "  </thead>\n",
       "  <tbody>\n",
       "    <tr>\n",
       "      <th>0</th>\n",
       "      <td>Age</td>\n",
       "      <td>-0.046407</td>\n",
       "    </tr>\n",
       "    <tr>\n",
       "      <th>1</th>\n",
       "      <td>Pclass</td>\n",
       "      <td>-1.193433</td>\n",
       "    </tr>\n",
       "  </tbody>\n",
       "</table>\n",
       "</div>"
      ],
      "text/plain": [
       "  Feature  Correlation\n",
       "0     Age    -0.046407\n",
       "1  Pclass    -1.193433"
      ]
     },
     "execution_count": 18,
     "metadata": {},
     "output_type": "execute_result"
    }
   ],
   "source": [
    "coeff_df = pd.DataFrame(X_train.columns)\n",
    "coeff_df.columns = ['Feature']\n",
    "coeff_df[\"Correlation\"] = pd.Series(model.coef_[0])\n",
    "\n",
    "coeff_df.sort_values(by='Correlation', ascending=False)"
   ]
  },
  {
   "cell_type": "code",
   "execution_count": 24,
   "id": "0c7eac79-d9f9-43df-81fa-02eff6056dcd",
   "metadata": {},
   "outputs": [
    {
     "data": {
      "text/plain": [
       "((755, 7), (755,), (134, 7), (134,))"
      ]
     },
     "execution_count": 24,
     "metadata": {},
     "output_type": "execute_result"
    }
   ],
   "source": [
    "# add more features\n",
    "X_train_df = df_train.drop(\"Survived\", axis=1)\n",
    "X_train = X_train_df.to_numpy()\n",
    "y_train = df_train[\"Survived\"]\n",
    "X_test_df = df_test.drop(\"Survived\", axis=1)\n",
    "X_test  = df_test.drop(\"Survived\", axis=1).to_numpy()\n",
    "y_test = df_test[\"Survived\"]\n",
    "\n",
    "X_train.shape, y_train.shape, X_test.shape, y_test.shape"
   ]
  },
  {
   "cell_type": "code",
   "execution_count": 20,
   "id": "49687228-de7d-47ff-ae51-70965336b52c",
   "metadata": {},
   "outputs": [
    {
     "data": {
      "text/plain": [
       "80.4"
      ]
     },
     "execution_count": 20,
     "metadata": {},
     "output_type": "execute_result"
    }
   ],
   "source": [
    "model = LogisticRegression()\n",
    "model.fit(X_train, y_train)\n",
    "\n",
    "y_pred = model.predict(X_test)\n",
    "acc_log = round(model.score(X_train, y_train) * 100, 2)\n",
    "acc_log\n",
    "# score - відсоток правильних відповідей класифікатора"
   ]
  },
  {
   "cell_type": "code",
   "execution_count": null,
   "id": "c953110d-61ed-4ea1-b285-b2a2bf5e1400",
   "metadata": {},
   "outputs": [],
   "source": [
    "# x_1*model.coef_[0][0] + x_2*model.coef_[0][1] + x_3*model.coef_[0][2] + ... + model.intercept_.item() = 0"
   ]
  },
  {
   "cell_type": "code",
   "execution_count": 21,
   "id": "f439ead9-8551-4042-ab5a-dbefec37aea9",
   "metadata": {},
   "outputs": [
    {
     "data": {
      "text/html": [
       "<div>\n",
       "<style scoped>\n",
       "    .dataframe tbody tr th:only-of-type {\n",
       "        vertical-align: middle;\n",
       "    }\n",
       "\n",
       "    .dataframe tbody tr th {\n",
       "        vertical-align: top;\n",
       "    }\n",
       "\n",
       "    .dataframe thead th {\n",
       "        text-align: right;\n",
       "    }\n",
       "</style>\n",
       "<table border=\"1\" class=\"dataframe\">\n",
       "  <thead>\n",
       "    <tr style=\"text-align: right;\">\n",
       "      <th></th>\n",
       "      <th>Feature</th>\n",
       "      <th>Correlation</th>\n",
       "    </tr>\n",
       "  </thead>\n",
       "  <tbody>\n",
       "    <tr>\n",
       "      <th>1</th>\n",
       "      <td>Sex</td>\n",
       "      <td>2.540166</td>\n",
       "    </tr>\n",
       "    <tr>\n",
       "      <th>6</th>\n",
       "      <td>Embarked</td>\n",
       "      <td>0.196375</td>\n",
       "    </tr>\n",
       "    <tr>\n",
       "      <th>5</th>\n",
       "      <td>Fare</td>\n",
       "      <td>0.001283</td>\n",
       "    </tr>\n",
       "    <tr>\n",
       "      <th>4</th>\n",
       "      <td>Parch</td>\n",
       "      <td>-0.043302</td>\n",
       "    </tr>\n",
       "    <tr>\n",
       "      <th>2</th>\n",
       "      <td>Age</td>\n",
       "      <td>-0.047170</td>\n",
       "    </tr>\n",
       "    <tr>\n",
       "      <th>3</th>\n",
       "      <td>SibSp</td>\n",
       "      <td>-0.365331</td>\n",
       "    </tr>\n",
       "    <tr>\n",
       "      <th>0</th>\n",
       "      <td>Pclass</td>\n",
       "      <td>-1.247748</td>\n",
       "    </tr>\n",
       "  </tbody>\n",
       "</table>\n",
       "</div>"
      ],
      "text/plain": [
       "    Feature  Correlation\n",
       "1       Sex     2.540166\n",
       "6  Embarked     0.196375\n",
       "5      Fare     0.001283\n",
       "4     Parch    -0.043302\n",
       "2       Age    -0.047170\n",
       "3     SibSp    -0.365331\n",
       "0    Pclass    -1.247748"
      ]
     },
     "execution_count": 21,
     "metadata": {},
     "output_type": "execute_result"
    }
   ],
   "source": [
    "coeff_df = pd.DataFrame(X_train_df.columns)\n",
    "coeff_df.columns = ['Feature']\n",
    "coeff_df[\"Correlation\"] = pd.Series(model.coef_[0])\n",
    "\n",
    "coeff_df.sort_values(by='Correlation', ascending=False)"
   ]
  },
  {
   "cell_type": "code",
   "execution_count": 25,
   "id": "a943171c-b568-4180-a3ee-609006fa16cb",
   "metadata": {},
   "outputs": [
    {
     "name": "stdout",
     "output_type": "stream",
     "text": [
      "Pclass 3.0\n",
      "Sex 0.0\n",
      "Age 28.0\n",
      "SibSp 0.0\n",
      "Parch 0.0\n",
      "Fare 7.8542\n",
      "Embarked 0.0\n"
     ]
    }
   ],
   "source": [
    "for feature_name, feature in zip(X_test_df.columns, X_test[0]):\n",
    "    print(feature_name, feature)"
   ]
  },
  {
   "cell_type": "code",
   "execution_count": 26,
   "id": "e71878ab-8953-4767-8c0c-ab29e32e7faa",
   "metadata": {},
   "outputs": [
    {
     "data": {
      "text/plain": [
       "array([0, 1, 1, 0, 1, 0, 0, 0, 1, 1, 0, 1, 0, 0, 0, 0, 0, 0, 0, 0, 0, 1,\n",
       "       0, 1, 0, 0, 0, 1, 0, 0, 1, 1, 0, 1, 0, 0, 1, 1, 0, 0, 0, 1, 0, 0,\n",
       "       1, 0, 1, 0, 0, 1, 1, 1, 0, 0, 1, 1, 0, 0, 0, 0, 0, 0, 1, 0, 1, 0,\n",
       "       0, 0, 1, 1, 0, 1, 1, 0, 0, 1, 0, 0, 1, 1, 0, 1, 1, 1, 0, 0, 0, 0,\n",
       "       0, 0, 0, 1, 0, 0, 0, 1, 0, 0, 0, 0, 0, 1, 1, 0, 0, 0, 1, 1, 0, 0,\n",
       "       0, 1, 0, 1, 0, 0, 0, 0, 1, 0, 0, 1, 0, 0, 1, 1, 1, 1, 1, 0, 1, 0,\n",
       "       0, 0])"
      ]
     },
     "execution_count": 26,
     "metadata": {},
     "output_type": "execute_result"
    }
   ],
   "source": [
    "model.predict(X_test)"
   ]
  },
  {
   "cell_type": "code",
   "execution_count": 27,
   "id": "f59c305f-de90-4330-b0a4-64fc96d5ee71",
   "metadata": {},
   "outputs": [
    {
     "name": "stdout",
     "output_type": "stream",
     "text": [
      "Pclass 1.0\n",
      "Sex 1.0\n",
      "Age 14.0\n",
      "SibSp 1.0\n",
      "Parch 2.0\n",
      "Fare 120.0\n",
      "Embarked 0.0\n"
     ]
    }
   ],
   "source": [
    "for feature_name, feature in zip(X_train_df.columns, X_test[1]):\n",
    "    print(feature_name, feature)"
   ]
  },
  {
   "cell_type": "code",
   "execution_count": 28,
   "id": "b82fee60-090e-4436-9849-4d89de26601f",
   "metadata": {
    "scrolled": true
   },
   "outputs": [
    {
     "data": {
      "text/plain": [
       "array([[0.89931387, 0.10068613],\n",
       "       [0.03922801, 0.96077199],\n",
       "       [0.3002072 , 0.6997928 ],\n",
       "       [0.73684123, 0.26315877],\n",
       "       [0.03478261, 0.96521739],\n",
       "       [0.89506751, 0.10493249],\n",
       "       [0.68863912, 0.31136088],\n",
       "       [0.86510999, 0.13489001],\n",
       "       [0.09560192, 0.90439808],\n",
       "       [0.04417056, 0.95582944],\n",
       "       [0.5872377 , 0.4127623 ],\n",
       "       [0.4540927 , 0.5459073 ],\n",
       "       [0.96358083, 0.03641917],\n",
       "       [0.90514743, 0.09485257],\n",
       "       [0.90332297, 0.09667703],\n",
       "       [0.89759691, 0.10240309],\n",
       "       [0.68446699, 0.31553301],\n",
       "       [0.86985881, 0.13014119],\n",
       "       [0.77872478, 0.22127522],\n",
       "       [0.89043876, 0.10956124],\n",
       "       [0.72042882, 0.27957118],\n",
       "       [0.05902943, 0.94097057],\n",
       "       [0.94747946, 0.05252054],\n",
       "       [0.46247771, 0.53752229],\n",
       "       [0.89041946, 0.10958054],\n",
       "       [0.5095759 , 0.4904241 ],\n",
       "       [0.75332419, 0.24667581],\n",
       "       [0.0928075 , 0.9071925 ],\n",
       "       [0.50679263, 0.49320737],\n",
       "       [0.69933681, 0.30066319],\n",
       "       [0.41548482, 0.58451518],\n",
       "       [0.25476689, 0.74523311],\n",
       "       [0.89041946, 0.10958054],\n",
       "       [0.45852448, 0.54147552],\n",
       "       [0.9633318 , 0.0366682 ],\n",
       "       [0.60490556, 0.39509444],\n",
       "       [0.29473596, 0.70526404],\n",
       "       [0.3059325 , 0.6940675 ],\n",
       "       [0.86964326, 0.13035674],\n",
       "       [0.89041946, 0.10958054],\n",
       "       [0.85416629, 0.14583371],\n",
       "       [0.46833955, 0.53166045],\n",
       "       [0.6680602 , 0.3319398 ],\n",
       "       [0.89043876, 0.10956124],\n",
       "       [0.48829333, 0.51170667],\n",
       "       [0.50852459, 0.49147541],\n",
       "       [0.21294324, 0.78705676],\n",
       "       [0.88100435, 0.11899565],\n",
       "       [0.77176337, 0.22823663],\n",
       "       [0.09373855, 0.90626145],\n",
       "       [0.07406536, 0.92593464],\n",
       "       [0.23724312, 0.76275688],\n",
       "       [0.87064557, 0.12935443],\n",
       "       [0.88479575, 0.11520425],\n",
       "       [0.09300545, 0.90699455],\n",
       "       [0.11444724, 0.88555276],\n",
       "       [0.5719494 , 0.4280506 ],\n",
       "       [0.93752071, 0.06247929],\n",
       "       [0.83504816, 0.16495184],\n",
       "       [0.73746262, 0.26253738],\n",
       "       [0.66338731, 0.33661269],\n",
       "       [0.51242099, 0.48757901],\n",
       "       [0.22199177, 0.77800823],\n",
       "       [0.83499809, 0.16500191],\n",
       "       [0.16126386, 0.83873614],\n",
       "       [0.61386179, 0.38613821],\n",
       "       [0.96184196, 0.03815804],\n",
       "       [0.89352137, 0.10647863],\n",
       "       [0.09872158, 0.90127842],\n",
       "       [0.03523255, 0.96476745],\n",
       "       [0.70849891, 0.29150109],\n",
       "       [0.02177751, 0.97822249],\n",
       "       [0.31002863, 0.68997137],\n",
       "       [0.89486402, 0.10513598],\n",
       "       [0.59385001, 0.40614999],\n",
       "       [0.21670651, 0.78329349],\n",
       "       [0.85379778, 0.14620222],\n",
       "       [0.92558372, 0.07441628],\n",
       "       [0.17697078, 0.82302922],\n",
       "       [0.42871125, 0.57128875],\n",
       "       [0.61099162, 0.38900838],\n",
       "       [0.04844056, 0.95155944],\n",
       "       [0.12025813, 0.87974187],\n",
       "       [0.25476689, 0.74523311],\n",
       "       [0.82826264, 0.17173736],\n",
       "       [0.84588289, 0.15411711],\n",
       "       [0.94533909, 0.05466091],\n",
       "       [0.6680602 , 0.3319398 ],\n",
       "       [0.88583532, 0.11416468],\n",
       "       [0.89041946, 0.10958054],\n",
       "       [0.91141561, 0.08858439],\n",
       "       [0.34612723, 0.65387277],\n",
       "       [0.8707244 , 0.1292756 ],\n",
       "       [0.91875692, 0.08124308],\n",
       "       [0.88420688, 0.11579312],\n",
       "       [0.29934215, 0.70065785],\n",
       "       [0.89043876, 0.10956124],\n",
       "       [0.78051535, 0.21948465],\n",
       "       [0.81183379, 0.18816621],\n",
       "       [0.84588289, 0.15411711],\n",
       "       [0.88586126, 0.11413874],\n",
       "       [0.02467504, 0.97532496],\n",
       "       [0.47754264, 0.52245736],\n",
       "       [0.91510722, 0.08489278],\n",
       "       [0.92705202, 0.07294798],\n",
       "       [0.94769414, 0.05230586],\n",
       "       [0.40184035, 0.59815965],\n",
       "       [0.0320078 , 0.9679922 ],\n",
       "       [0.84697064, 0.15302936],\n",
       "       [0.8651443 , 0.1348557 ],\n",
       "       [0.85932669, 0.14067331],\n",
       "       [0.3173457 , 0.6826543 ],\n",
       "       [0.95636895, 0.04363105],\n",
       "       [0.09911047, 0.90088953],\n",
       "       [0.88775378, 0.11224622],\n",
       "       [0.8934577 , 0.1065423 ],\n",
       "       [0.89663783, 0.10336217],\n",
       "       [0.74006213, 0.25993787],\n",
       "       [0.4348403 , 0.5651597 ],\n",
       "       [0.91223471, 0.08776529],\n",
       "       [0.53692776, 0.46307224],\n",
       "       [0.05408653, 0.94591347],\n",
       "       [0.95823462, 0.04176538],\n",
       "       [0.88960952, 0.11039048],\n",
       "       [0.0388518 , 0.9611482 ],\n",
       "       [0.0637466 , 0.9362534 ],\n",
       "       [0.46247771, 0.53752229],\n",
       "       [0.11676063, 0.88323937],\n",
       "       [0.25476689, 0.74523311],\n",
       "       [0.76487331, 0.23512669],\n",
       "       [0.17443524, 0.82556476],\n",
       "       [0.59204878, 0.40795122],\n",
       "       [0.85532696, 0.14467304],\n",
       "       [0.86985942, 0.13014058]])"
      ]
     },
     "execution_count": 28,
     "metadata": {},
     "output_type": "execute_result"
    }
   ],
   "source": [
    "# probabilities\n",
    "model.predict_proba(X_test)"
   ]
  },
  {
   "cell_type": "code",
   "execution_count": 29,
   "id": "5cd102d5-fa3a-4239-a55c-bf0acde4626d",
   "metadata": {},
   "outputs": [
    {
     "data": {
      "text/plain": [
       "2.718281828459045"
      ]
     },
     "execution_count": 29,
     "metadata": {},
     "output_type": "execute_result"
    }
   ],
   "source": [
    "# prob - see formula\n",
    "# prob = 1 / (1 + math.e**-z)\n",
    "import math\n",
    "\n",
    "math.e"
   ]
  },
  {
   "cell_type": "code",
   "execution_count": 30,
   "id": "f96338ff-2d84-4bd1-9d2e-3d848907d9f4",
   "metadata": {},
   "outputs": [
    {
     "data": {
      "text/plain": [
       "0.2689414213699951"
      ]
     },
     "execution_count": 30,
     "metadata": {},
     "output_type": "execute_result"
    }
   ],
   "source": [
    "z = 1\n",
    "1 / (1 + math.e**z)"
   ]
  },
  {
   "cell_type": "code",
   "execution_count": 31,
   "id": "b3520cd6-1588-4095-b02f-818b83857fd5",
   "metadata": {},
   "outputs": [
    {
     "data": {
      "text/plain": [
       "0.11920292202211757"
      ]
     },
     "execution_count": 31,
     "metadata": {},
     "output_type": "execute_result"
    }
   ],
   "source": [
    "z = 2\n",
    "1 / (1 + math.e**z)"
   ]
  },
  {
   "cell_type": "code",
   "execution_count": 32,
   "id": "904ed9b5-7529-4f6e-a089-ef4bc969e2de",
   "metadata": {},
   "outputs": [
    {
     "data": {
      "text/plain": [
       "0.04742587317756679"
      ]
     },
     "execution_count": 32,
     "metadata": {},
     "output_type": "execute_result"
    }
   ],
   "source": [
    "z = 3\n",
    "1 / (1 + math.e**z)"
   ]
  },
  {
   "cell_type": "code",
   "execution_count": 33,
   "id": "f1cc24cb-02f4-4a0c-8777-12889972b2b2",
   "metadata": {},
   "outputs": [
    {
     "data": {
      "text/plain": [
       "0.7310585786300049"
      ]
     },
     "execution_count": 33,
     "metadata": {},
     "output_type": "execute_result"
    }
   ],
   "source": [
    "z = -1\n",
    "1 / (1 + math.e**z)"
   ]
  },
  {
   "cell_type": "code",
   "execution_count": 34,
   "id": "937782cc-2192-4c9e-b9e8-f6636c2fbc4c",
   "metadata": {},
   "outputs": [
    {
     "data": {
      "text/plain": [
       "0.8807970779778823"
      ]
     },
     "execution_count": 34,
     "metadata": {},
     "output_type": "execute_result"
    }
   ],
   "source": [
    "z = -2\n",
    "1 / (1 + math.e**z)"
   ]
  },
  {
   "cell_type": "code",
   "execution_count": 35,
   "id": "ec54a276-aa57-48bc-8afa-a70161a82467",
   "metadata": {},
   "outputs": [
    {
     "data": {
      "text/plain": [
       "0.9525741268224331"
      ]
     },
     "execution_count": 35,
     "metadata": {},
     "output_type": "execute_result"
    }
   ],
   "source": [
    "z = -3\n",
    "1 / (1 + math.e**z)"
   ]
  },
  {
   "cell_type": "code",
   "execution_count": 44,
   "id": "a676a866-e841-4724-9fe0-a7fd44acbf46",
   "metadata": {},
   "outputs": [
    {
     "data": {
      "text/plain": [
       "0.36787944117144233"
      ]
     },
     "execution_count": 44,
     "metadata": {},
     "output_type": "execute_result"
    }
   ],
   "source": [
    "math.e**-1  # inverse\n",
    "1 / math.e"
   ]
  },
  {
   "cell_type": "code",
   "execution_count": 47,
   "id": "f2f99954-c2da-4797-8fe1-e4ce2d7758f8",
   "metadata": {},
   "outputs": [
    {
     "data": {
      "text/plain": [
       "0.1353352832366127"
      ]
     },
     "execution_count": 47,
     "metadata": {},
     "output_type": "execute_result"
    }
   ],
   "source": [
    "math.e**-2  # inverse\n",
    "# 1 / math.e / math.e  \n",
    "1 / (math.e * math.e)"
   ]
  },
  {
   "cell_type": "code",
   "execution_count": 48,
   "id": "b1992bd2-d7d6-4a10-af71-6d53ba8526e7",
   "metadata": {},
   "outputs": [
    {
     "data": {
      "text/plain": [
       "22026.465794806703"
      ]
     },
     "execution_count": 48,
     "metadata": {},
     "output_type": "execute_result"
    }
   ],
   "source": [
    "z = -10\n",
    "math.e**-z"
   ]
  },
  {
   "cell_type": "code",
   "execution_count": 49,
   "id": "d460f8c0-e8cf-47f6-89ba-67f6b61f630f",
   "metadata": {},
   "outputs": [
    {
     "data": {
      "text/plain": [
       "[<matplotlib.lines.Line2D at 0x158e0d390>]"
      ]
     },
     "execution_count": 49,
     "metadata": {},
     "output_type": "execute_result"
    },
    {
     "data": {
      "image/png": "[encoded data removed]",
      "text/plain": [
       "<Figure size 640x480 with 1 Axes>"
      ]
     },
     "metadata": {},
     "output_type": "display_data"
    }
   ],
   "source": [
    "x = np.linspace(-10, 10, 100000)\n",
    "y = math.e**-x\n",
    " \n",
    "fig = plt.figure()\n",
    "# Create the plot\n",
    "plt.plot(x, y)"
   ]
  },
  {
   "cell_type": "code",
   "execution_count": 52,
   "id": "673e0824-8524-48fa-a76d-09387259f9ca",
   "metadata": {},
   "outputs": [
    {
     "data": {
      "text/plain": [
       "[<matplotlib.lines.Line2D at 0x1596fa2d0>]"
      ]
     },
     "execution_count": 52,
     "metadata": {},
     "output_type": "execute_result"
    },
    {
     "data": {
      "image/png": "[encoded data removed]",
      "text/plain": [
       "<Figure size 640x480 with 1 Axes>"
      ]
     },
     "metadata": {},
     "output_type": "display_data"
    }
   ],
   "source": [
    "x = np.linspace(-10, 10, 100000)\n",
    "y = 1 / (1 + math.e**-x)\n",
    " \n",
    "fig = plt.figure()\n",
    "# Create the plot\n",
    "plt.plot(x, y)"
   ]
  },
  {
   "cell_type": "code",
   "execution_count": 56,
   "id": "32bd9fa1-054f-4686-9be5-c2ad094bb710",
   "metadata": {},
   "outputs": [
    {
     "data": {
      "text/plain": [
       "0.006692850924284857"
      ]
     },
     "execution_count": 56,
     "metadata": {},
     "output_type": "execute_result"
    }
   ],
   "source": [
    "#y = 1 / (math.e**-1 + 1)\n",
    "y = 1 / (math.e**5.0 + 1)\n",
    "\n",
    "y"
   ]
  },
  {
   "cell_type": "code",
   "execution_count": 57,
   "id": "2fbeaf1b-590c-421f-b5de-d1dc089db566",
   "metadata": {},
   "outputs": [
    {
     "data": {
      "text/plain": [
       "array([[0.89931387, 0.10068613],\n",
       "       [0.03922801, 0.96077199],\n",
       "       [0.3002072 , 0.6997928 ],\n",
       "       [0.73684123, 0.26315877],\n",
       "       [0.03478261, 0.96521739],\n",
       "       [0.89506751, 0.10493249],\n",
       "       [0.68863912, 0.31136088],\n",
       "       [0.86510999, 0.13489001],\n",
       "       [0.09560192, 0.90439808],\n",
       "       [0.04417056, 0.95582944],\n",
       "       [0.5872377 , 0.4127623 ],\n",
       "       [0.4540927 , 0.5459073 ],\n",
       "       [0.96358083, 0.03641917],\n",
       "       [0.90514743, 0.09485257],\n",
       "       [0.90332297, 0.09667703],\n",
       "       [0.89759691, 0.10240309],\n",
       "       [0.68446699, 0.31553301],\n",
       "       [0.86985881, 0.13014119],\n",
       "       [0.77872478, 0.22127522],\n",
       "       [0.89043876, 0.10956124],\n",
       "       [0.72042882, 0.27957118],\n",
       "       [0.05902943, 0.94097057],\n",
       "       [0.94747946, 0.05252054],\n",
       "       [0.46247771, 0.53752229],\n",
       "       [0.89041946, 0.10958054],\n",
       "       [0.5095759 , 0.4904241 ],\n",
       "       [0.75332419, 0.24667581],\n",
       "       [0.0928075 , 0.9071925 ],\n",
       "       [0.50679263, 0.49320737],\n",
       "       [0.69933681, 0.30066319],\n",
       "       [0.41548482, 0.58451518],\n",
       "       [0.25476689, 0.74523311],\n",
       "       [0.89041946, 0.10958054],\n",
       "       [0.45852448, 0.54147552],\n",
       "       [0.9633318 , 0.0366682 ],\n",
       "       [0.60490556, 0.39509444],\n",
       "       [0.29473596, 0.70526404],\n",
       "       [0.3059325 , 0.6940675 ],\n",
       "       [0.86964326, 0.13035674],\n",
       "       [0.89041946, 0.10958054],\n",
       "       [0.85416629, 0.14583371],\n",
       "       [0.46833955, 0.53166045],\n",
       "       [0.6680602 , 0.3319398 ],\n",
       "       [0.89043876, 0.10956124],\n",
       "       [0.48829333, 0.51170667],\n",
       "       [0.50852459, 0.49147541],\n",
       "       [0.21294324, 0.78705676],\n",
       "       [0.88100435, 0.11899565],\n",
       "       [0.77176337, 0.22823663],\n",
       "       [0.09373855, 0.90626145],\n",
       "       [0.07406536, 0.92593464],\n",
       "       [0.23724312, 0.76275688],\n",
       "       [0.87064557, 0.12935443],\n",
       "       [0.88479575, 0.11520425],\n",
       "       [0.09300545, 0.90699455],\n",
       "       [0.11444724, 0.88555276],\n",
       "       [0.5719494 , 0.4280506 ],\n",
       "       [0.93752071, 0.06247929],\n",
       "       [0.83504816, 0.16495184],\n",
       "       [0.73746262, 0.26253738],\n",
       "       [0.66338731, 0.33661269],\n",
       "       [0.51242099, 0.48757901],\n",
       "       [0.22199177, 0.77800823],\n",
       "       [0.83499809, 0.16500191],\n",
       "       [0.16126386, 0.83873614],\n",
       "       [0.61386179, 0.38613821],\n",
       "       [0.96184196, 0.03815804],\n",
       "       [0.89352137, 0.10647863],\n",
       "       [0.09872158, 0.90127842],\n",
       "       [0.03523255, 0.96476745],\n",
       "       [0.70849891, 0.29150109],\n",
       "       [0.02177751, 0.97822249],\n",
       "       [0.31002863, 0.68997137],\n",
       "       [0.89486402, 0.10513598],\n",
       "       [0.59385001, 0.40614999],\n",
       "       [0.21670651, 0.78329349],\n",
       "       [0.85379778, 0.14620222],\n",
       "       [0.92558372, 0.07441628],\n",
       "       [0.17697078, 0.82302922],\n",
       "       [0.42871125, 0.57128875],\n",
       "       [0.61099162, 0.38900838],\n",
       "       [0.04844056, 0.95155944],\n",
       "       [0.12025813, 0.87974187],\n",
       "       [0.25476689, 0.74523311],\n",
       "       [0.82826264, 0.17173736],\n",
       "       [0.84588289, 0.15411711],\n",
       "       [0.94533909, 0.05466091],\n",
       "       [0.6680602 , 0.3319398 ],\n",
       "       [0.88583532, 0.11416468],\n",
       "       [0.89041946, 0.10958054],\n",
       "       [0.91141561, 0.08858439],\n",
       "       [0.34612723, 0.65387277],\n",
       "       [0.8707244 , 0.1292756 ],\n",
       "       [0.91875692, 0.08124308],\n",
       "       [0.88420688, 0.11579312],\n",
       "       [0.29934215, 0.70065785],\n",
       "       [0.89043876, 0.10956124],\n",
       "       [0.78051535, 0.21948465],\n",
       "       [0.81183379, 0.18816621],\n",
       "       [0.84588289, 0.15411711],\n",
       "       [0.88586126, 0.11413874],\n",
       "       [0.02467504, 0.97532496],\n",
       "       [0.47754264, 0.52245736],\n",
       "       [0.91510722, 0.08489278],\n",
       "       [0.92705202, 0.07294798],\n",
       "       [0.94769414, 0.05230586],\n",
       "       [0.40184035, 0.59815965],\n",
       "       [0.0320078 , 0.9679922 ],\n",
       "       [0.84697064, 0.15302936],\n",
       "       [0.8651443 , 0.1348557 ],\n",
       "       [0.85932669, 0.14067331],\n",
       "       [0.3173457 , 0.6826543 ],\n",
       "       [0.95636895, 0.04363105],\n",
       "       [0.09911047, 0.90088953],\n",
       "       [0.88775378, 0.11224622],\n",
       "       [0.8934577 , 0.1065423 ],\n",
       "       [0.89663783, 0.10336217],\n",
       "       [0.74006213, 0.25993787],\n",
       "       [0.4348403 , 0.5651597 ],\n",
       "       [0.91223471, 0.08776529],\n",
       "       [0.53692776, 0.46307224],\n",
       "       [0.05408653, 0.94591347],\n",
       "       [0.95823462, 0.04176538],\n",
       "       [0.88960952, 0.11039048],\n",
       "       [0.0388518 , 0.9611482 ],\n",
       "       [0.0637466 , 0.9362534 ],\n",
       "       [0.46247771, 0.53752229],\n",
       "       [0.11676063, 0.88323937],\n",
       "       [0.25476689, 0.74523311],\n",
       "       [0.76487331, 0.23512669],\n",
       "       [0.17443524, 0.82556476],\n",
       "       [0.59204878, 0.40795122],\n",
       "       [0.85532696, 0.14467304],\n",
       "       [0.86985942, 0.13014058]])"
      ]
     },
     "execution_count": 57,
     "metadata": {},
     "output_type": "execute_result"
    }
   ],
   "source": [
    "# Loss function\n",
    "\n",
    "probs = model.predict_proba(X_test)\n",
    "probs"
   ]
  },
  {
   "cell_type": "code",
   "execution_count": 66,
   "id": "50ca0d5d-b2c6-4c00-8dce-f7343e8b3755",
   "metadata": {},
   "outputs": [
    {
     "data": {
      "text/plain": [
       "0.10068613000000004"
      ]
     },
     "execution_count": 66,
     "metadata": {},
     "output_type": "execute_result"
    }
   ],
   "source": [
    "1 - 0.89931387"
   ]
  },
  {
   "cell_type": "code",
   "execution_count": 58,
   "id": "f049bafe-22d6-479d-8d03-b8d57520bbcf",
   "metadata": {},
   "outputs": [
    {
     "data": {
      "text/plain": [
       "array([0.10068613, 0.96077199, 0.6997928 , 0.26315877, 0.96521739,\n",
       "       0.10493249, 0.31136088, 0.13489001, 0.90439808, 0.95582944,\n",
       "       0.4127623 , 0.5459073 , 0.03641917, 0.09485257, 0.09667703,\n",
       "       0.10240309, 0.31553301, 0.13014119, 0.22127522, 0.10956124,\n",
       "       0.27957118, 0.94097057, 0.05252054, 0.53752229, 0.10958054,\n",
       "       0.4904241 , 0.24667581, 0.9071925 , 0.49320737, 0.30066319,\n",
       "       0.58451518, 0.74523311, 0.10958054, 0.54147552, 0.0366682 ,\n",
       "       0.39509444, 0.70526404, 0.6940675 , 0.13035674, 0.10958054,\n",
       "       0.14583371, 0.53166045, 0.3319398 , 0.10956124, 0.51170667,\n",
       "       0.49147541, 0.78705676, 0.11899565, 0.22823663, 0.90626145,\n",
       "       0.92593464, 0.76275688, 0.12935443, 0.11520425, 0.90699455,\n",
       "       0.88555276, 0.4280506 , 0.06247929, 0.16495184, 0.26253738,\n",
       "       0.33661269, 0.48757901, 0.77800823, 0.16500191, 0.83873614,\n",
       "       0.38613821, 0.03815804, 0.10647863, 0.90127842, 0.96476745,\n",
       "       0.29150109, 0.97822249, 0.68997137, 0.10513598, 0.40614999,\n",
       "       0.78329349, 0.14620222, 0.07441628, 0.82302922, 0.57128875,\n",
       "       0.38900838, 0.95155944, 0.87974187, 0.74523311, 0.17173736,\n",
       "       0.15411711, 0.05466091, 0.3319398 , 0.11416468, 0.10958054,\n",
       "       0.08858439, 0.65387277, 0.1292756 , 0.08124308, 0.11579312,\n",
       "       0.70065785, 0.10956124, 0.21948465, 0.18816621, 0.15411711,\n",
       "       0.11413874, 0.97532496, 0.52245736, 0.08489278, 0.07294798,\n",
       "       0.05230586, 0.59815965, 0.9679922 , 0.15302936, 0.1348557 ,\n",
       "       0.14067331, 0.6826543 , 0.04363105, 0.90088953, 0.11224622,\n",
       "       0.1065423 , 0.10336217, 0.25993787, 0.5651597 , 0.08776529,\n",
       "       0.46307224, 0.94591347, 0.04176538, 0.11039048, 0.9611482 ,\n",
       "       0.9362534 , 0.53752229, 0.88323937, 0.74523311, 0.23512669,\n",
       "       0.82556476, 0.40795122, 0.14467304, 0.13014058])"
      ]
     },
     "execution_count": 58,
     "metadata": {},
     "output_type": "execute_result"
    }
   ],
   "source": [
    "probs_1 = probs[:, 1]\n",
    "probs_1"
   ]
  },
  {
   "cell_type": "code",
   "execution_count": 61,
   "id": "86a7c551-94ad-473c-9176-51127f33cb28",
   "metadata": {},
   "outputs": [
    {
     "data": {
      "text/plain": [
       "array([0.96077199, 0.6997928 , 0.96521739, 0.90439808, 0.95582944,\n",
       "       0.5459073 , 0.94097057, 0.53752229, 0.9071925 , 0.58451518,\n",
       "       0.74523311, 0.54147552, 0.70526404, 0.6940675 , 0.53166045,\n",
       "       0.51170667, 0.78705676, 0.90626145, 0.92593464, 0.76275688,\n",
       "       0.90699455, 0.88555276, 0.77800823, 0.83873614, 0.90127842,\n",
       "       0.96476745, 0.97822249, 0.68997137, 0.78329349, 0.82302922,\n",
       "       0.57128875, 0.95155944, 0.87974187, 0.74523311, 0.65387277,\n",
       "       0.70065785, 0.97532496, 0.52245736, 0.59815965, 0.9679922 ,\n",
       "       0.6826543 , 0.90088953, 0.5651597 , 0.94591347, 0.9611482 ,\n",
       "       0.9362534 , 0.53752229, 0.88323937, 0.74523311, 0.82556476])"
      ]
     },
     "execution_count": 61,
     "metadata": {},
     "output_type": "execute_result"
    }
   ],
   "source": [
    "condition = probs_1 > 0.5\n",
    "# probability of survival for surviving group\n",
    "probs_1[condition]"
   ]
  },
  {
   "cell_type": "code",
   "execution_count": 62,
   "id": "debb909c-6e09-4cac-b874-32d450974e1d",
   "metadata": {},
   "outputs": [
    {
     "data": {
      "text/plain": [
       "array([0.10068613, 0.26315877, 0.10493249, 0.31136088, 0.13489001,\n",
       "       0.4127623 , 0.03641917, 0.09485257, 0.09667703, 0.10240309,\n",
       "       0.31553301, 0.13014119, 0.22127522, 0.10956124, 0.27957118,\n",
       "       0.05252054, 0.10958054, 0.4904241 , 0.24667581, 0.49320737,\n",
       "       0.30066319, 0.10958054, 0.0366682 , 0.39509444, 0.13035674,\n",
       "       0.10958054, 0.14583371, 0.3319398 , 0.10956124, 0.49147541,\n",
       "       0.11899565, 0.22823663, 0.12935443, 0.11520425, 0.4280506 ,\n",
       "       0.06247929, 0.16495184, 0.26253738, 0.33661269, 0.48757901,\n",
       "       0.16500191, 0.38613821, 0.03815804, 0.10647863, 0.29150109,\n",
       "       0.10513598, 0.40614999, 0.14620222, 0.07441628, 0.38900838,\n",
       "       0.17173736, 0.15411711, 0.05466091, 0.3319398 , 0.11416468,\n",
       "       0.10958054, 0.08858439, 0.1292756 , 0.08124308, 0.11579312,\n",
       "       0.10956124, 0.21948465, 0.18816621, 0.15411711, 0.11413874,\n",
       "       0.08489278, 0.07294798, 0.05230586, 0.15302936, 0.1348557 ,\n",
       "       0.14067331, 0.04363105, 0.11224622, 0.1065423 , 0.10336217,\n",
       "       0.25993787, 0.08776529, 0.46307224, 0.04176538, 0.11039048,\n",
       "       0.23512669, 0.40795122, 0.14467304, 0.13014058])"
      ]
     },
     "execution_count": 62,
     "metadata": {},
     "output_type": "execute_result"
    }
   ],
   "source": [
    "# probability of survival for non-surviving group\n",
    "probs_1[~condition]"
   ]
  },
  {
   "cell_type": "code",
   "execution_count": 63,
   "id": "fe4d8419-3a82-4f85-b955-cfd515677a61",
   "metadata": {},
   "outputs": [
    {
     "data": {
      "text/plain": [
       "array([0.89931387, 0.73684123, 0.89506751, 0.68863912, 0.86510999,\n",
       "       0.5872377 , 0.96358083, 0.90514743, 0.90332297, 0.89759691,\n",
       "       0.68446699, 0.86985881, 0.77872478, 0.89043876, 0.72042882,\n",
       "       0.94747946, 0.89041946, 0.5095759 , 0.75332419, 0.50679263,\n",
       "       0.69933681, 0.89041946, 0.9633318 , 0.60490556, 0.86964326,\n",
       "       0.89041946, 0.85416629, 0.6680602 , 0.89043876, 0.50852459,\n",
       "       0.88100435, 0.77176337, 0.87064557, 0.88479575, 0.5719494 ,\n",
       "       0.93752071, 0.83504816, 0.73746262, 0.66338731, 0.51242099,\n",
       "       0.83499809, 0.61386179, 0.96184196, 0.89352137, 0.70849891,\n",
       "       0.89486402, 0.59385001, 0.85379778, 0.92558372, 0.61099162,\n",
       "       0.82826264, 0.84588289, 0.94533909, 0.6680602 , 0.88583532,\n",
       "       0.89041946, 0.91141561, 0.8707244 , 0.91875692, 0.88420688,\n",
       "       0.89043876, 0.78051535, 0.81183379, 0.84588289, 0.88586126,\n",
       "       0.91510722, 0.92705202, 0.94769414, 0.84697064, 0.8651443 ,\n",
       "       0.85932669, 0.95636895, 0.88775378, 0.8934577 , 0.89663783,\n",
       "       0.74006213, 0.91223471, 0.53692776, 0.95823462, 0.88960952,\n",
       "       0.76487331, 0.59204878, 0.85532696, 0.86985942])"
      ]
     },
     "execution_count": 63,
     "metadata": {},
     "output_type": "execute_result"
    }
   ],
   "source": [
    "# probability of non-survival for non-surviving group\n",
    "1 - probs_1[~condition]"
   ]
  },
  {
   "cell_type": "code",
   "execution_count": 67,
   "id": "4d6f2526-20a7-4b16-af40-ceb011cdbd70",
   "metadata": {},
   "outputs": [
    {
     "data": {
      "text/plain": [
       "1.5328626903946836e-14"
      ]
     },
     "execution_count": 67,
     "metadata": {},
     "output_type": "execute_result"
    }
   ],
   "source": [
    "# probability of survival for surviving group * probability of non-survival for non-surviving group\n",
    "(np.prod(probs_1[condition]))*(np.prod(1 - probs_1[~condition]))"
   ]
  },
  {
   "cell_type": "code",
   "execution_count": 72,
   "id": "4b6759f1-1a30-4f7d-a112-102a84b6e112",
   "metadata": {},
   "outputs": [
    {
     "data": {
      "text/plain": [
       "-5.392833830116741"
      ]
     },
     "execution_count": 72,
     "metadata": {},
     "output_type": "execute_result"
    }
   ],
   "source": [
    "-(np.sum(np.log(probs_1[condition])))+(np.sum(np.log(1 - probs_1[~condition])))"
   ]
  },
  {
   "cell_type": "code",
   "execution_count": 73,
   "id": "8ee2229c-dff9-4497-9cd3-5ea50327f3d1",
   "metadata": {},
   "outputs": [
    {
     "data": {
      "text/plain": [
       "array([0, 1, 1, 0, 1, 1, 0, 0, 1, 1, 0, 1, 0, 0, 0, 0, 0, 0, 0, 0, 0, 1,\n",
       "       0, 0, 0, 0, 0, 1, 0, 0, 1, 1, 0, 0, 0, 0, 1, 1, 0, 0, 0, 0, 0, 0,\n",
       "       1, 1, 0, 0, 0, 1, 1, 1, 0, 0, 1, 1, 0, 0, 0, 0, 1, 0, 1, 0, 1, 0,\n",
       "       0, 0, 1, 1, 0, 0, 0, 1, 1, 1, 0, 0, 0, 0, 0, 1, 1, 1, 0, 0, 0, 0,\n",
       "       0, 0, 1, 0, 0, 0, 0, 0, 0, 0, 1, 0, 0, 1, 0, 0, 1, 0, 1, 1, 1, 0,\n",
       "       0, 1, 0, 1, 0, 0, 0, 0, 1, 0, 1, 1, 0, 0, 1, 1, 0, 1, 0, 0, 1, 0,\n",
       "       0, 0])"
      ]
     },
     "execution_count": 73,
     "metadata": {},
     "output_type": "execute_result"
    }
   ],
   "source": [
    "y_test_array = y_test.to_numpy()\n",
    "y_test_array"
   ]
  },
  {
   "cell_type": "code",
   "execution_count": 79,
   "id": "79debfdb-5291-4f10-ad37-ab6902784fc3",
   "metadata": {},
   "outputs": [
    {
     "data": {
      "text/plain": [
       "0.9607719908649808"
      ]
     },
     "execution_count": 79,
     "metadata": {},
     "output_type": "execute_result"
    }
   ],
   "source": [
    "probs[1][1]*1"
   ]
  },
  {
   "cell_type": "code",
   "execution_count": 80,
   "id": "320acbdc-4115-4ded-8f73-a715d24980ab",
   "metadata": {},
   "outputs": [
    {
     "data": {
      "text/plain": [
       "True"
      ]
     },
     "execution_count": 80,
     "metadata": {},
     "output_type": "execute_result"
    }
   ],
   "source": [
    "condition[1]"
   ]
  },
  {
   "cell_type": "code",
   "execution_count": 82,
   "id": "4979348c-b323-4295-a0dc-d788612a3c30",
   "metadata": {},
   "outputs": [
    {
     "data": {
      "text/plain": [
       "0.10068612530347204"
      ]
     },
     "execution_count": 82,
     "metadata": {},
     "output_type": "execute_result"
    }
   ],
   "source": [
    "(1-0)*probs[0][1]"
   ]
  },
  {
   "cell_type": "code",
   "execution_count": 83,
   "id": "e6290338-6bca-4ebb-a95f-22941dbd2fd5",
   "metadata": {},
   "outputs": [
    {
     "data": {
      "text/plain": [
       "56.360632491976396"
      ]
     },
     "execution_count": 83,
     "metadata": {},
     "output_type": "execute_result"
    }
   ],
   "source": [
    "# rewrite the formula\n",
    "-np.sum(y_test_array*np.log(probs)[:, 1] + (1 - y_test_array)*(np.log(1 - (probs)[:, 1])))"
   ]
  },
  {
   "cell_type": "code",
   "execution_count": 95,
   "id": "a96ce430-1c2c-478a-8890-dfe288abe322",
   "metadata": {},
   "outputs": [
    {
     "data": {
      "text/plain": [
       "0.42060173501474923"
      ]
     },
     "execution_count": 95,
     "metadata": {},
     "output_type": "execute_result"
    }
   ],
   "source": [
    "# probability of survival for surviving group + probability of non-survival for non-surviving group\n",
    "-np.sum(y_test_array*np.log(probs)[:, 1] + (1 - y_test_array)*np.log(probs)[:, 0]) / len(probs)"
   ]
  },
  {
   "cell_type": "code",
   "execution_count": 88,
   "id": "68cde9b7-7b56-437e-9fb4-f1218fbb35af",
   "metadata": {},
   "outputs": [
    {
     "data": {
      "text/plain": [
       "0.42060173501474923"
      ]
     },
     "execution_count": 88,
     "metadata": {},
     "output_type": "execute_result"
    }
   ],
   "source": [
    "from sklearn.metrics import log_loss\n",
    "log_loss(y_test, probs)#, normalize=False)"
   ]
  },
  {
   "cell_type": "code",
   "execution_count": 90,
   "id": "4900aae9-a3b1-4672-9d65-1da06d9bc5bf",
   "metadata": {},
   "outputs": [
    {
     "data": {
      "text/plain": [
       "array([-0.        , -0.04001816, -0.35697099, -0.        , -0.03540193,\n",
       "       -2.25443805, -0.        , -0.        , -0.10048566, -0.04517579,\n",
       "       -0.        , -0.60530609, -0.        , -0.        , -0.        ,\n",
       "       -0.        , -0.        , -0.        , -0.        , -0.        ,\n",
       "       -0.        , -0.06084341, -0.        , -0.        , -0.        ,\n",
       "       -0.        , -0.        , -0.09740062, -0.        , -0.        ,\n",
       "       -0.53697253, -0.29405821, -0.        , -0.        , -0.        ,\n",
       "       -0.        , -0.34918303, -0.36518607, -0.        , -0.        ,\n",
       "       -0.        , -0.        , -0.        , -0.        , -0.67000372,\n",
       "       -0.71034337, -0.        , -0.        , -0.        , -0.09842744,\n",
       "       -0.07695163, -0.27081593, -0.        , -0.        , -0.09761884,\n",
       "       -0.12154324, -0.        , -0.        , -0.        , -0.        ,\n",
       "       -1.08882229, -0.        , -0.25101818, -0.        , -0.17585912,\n",
       "       -0.        , -0.        , -0.        , -0.10394106, -0.03586819,\n",
       "       -0.        , -0.        , -0.        , -2.25250068, -0.90103275,\n",
       "       -0.24424783, -0.        , -0.        , -0.        , -0.        ,\n",
       "       -0.        , -0.04965312, -0.12812674, -0.29405821, -0.        ,\n",
       "       -0.        , -0.        , -0.        , -0.        , -0.        ,\n",
       "       -2.42379966, -0.        , -0.        , -0.        , -0.        ,\n",
       "       -0.        , -0.        , -0.        , -1.67042958, -0.        ,\n",
       "       -0.        , -0.02498457, -0.        , -0.        , -2.61800873,\n",
       "       -0.        , -0.51389759, -0.03253125, -1.87712549, -0.        ,\n",
       "       -0.        , -0.38176669, -0.        , -0.10437264, -0.        ,\n",
       "       -0.        , -0.        , -0.        , -0.57064693, -0.        ,\n",
       "       -0.76987221, -0.05560418, -0.        , -0.        , -0.03962667,\n",
       "       -0.06586911, -0.        , -0.12415902, -0.        , -0.        ,\n",
       "       -0.19168757, -0.        , -0.        , -0.        ])"
      ]
     },
     "execution_count": 90,
     "metadata": {},
     "output_type": "execute_result"
    }
   ],
   "source": [
    "# probability of non-survival for non-surviving group\n",
    "y_test_array*np.log(probs)[:, 1]"
   ]
  },
  {
   "cell_type": "code",
   "execution_count": 89,
   "id": "62809cf8-e54c-45ae-a198-c00a4768007e",
   "metadata": {},
   "outputs": [
    {
     "data": {
      "text/plain": [
       "array([3.29574727, 0.        , 0.        , 2.33499774, 0.        ,\n",
       "       0.        , 2.16680264, 3.00329557, 0.        , 0.        ,\n",
       "       1.88488339, 0.        , 4.31266011, 3.35543152, 3.33637943,\n",
       "       3.27883837, 2.15349199, 3.03913537, 2.50834801, 3.21127161,\n",
       "       2.27449833, 0.        , 3.94655089, 1.62078504, 3.21109548,\n",
       "       1.71248474, 2.39968031, 0.        , 1.70682557, 2.2017646 ,\n",
       "       0.        , 0.        , 3.21109548, 1.61345742, 4.30584545,\n",
       "       1.92863046, 0.        , 0.        , 3.03748041, 3.21109548,\n",
       "       2.92528829, 1.63175024, 2.10280164, 3.21127161, 0.        ,\n",
       "       0.        , 1.23945491, 3.12866831, 2.47737234, 0.        ,\n",
       "       0.        , 0.        , 3.04519911, 3.16104868, 0.        ,\n",
       "       0.        , 1.84851387, 3.77292012, 2.8021017 , 2.33736181,\n",
       "       0.        , 1.71830293, 0.        , 2.80179824, 0.        ,\n",
       "       1.95155992, 4.26601887, 3.23981097, 0.        , 0.        ,\n",
       "       2.23271154, 1.02201814, 1.37110517, 0.        , 0.        ,\n",
       "       0.        , 2.92276457, 3.59808049, 1.19476357, 1.55986051,\n",
       "       1.94415439, 0.        , 0.        , 0.        , 2.76178892,\n",
       "       2.8700425 , 3.90660645, 2.10280164, 3.17011329, 3.21109548,\n",
       "       0.        , 1.42484248, 3.04580873, 3.51030959, 3.15595009,\n",
       "       1.35573561, 3.21127161, 2.51647299, 0.        , 2.8700425 ,\n",
       "       3.17034056, 0.        , 1.64921191, 3.46636624, 0.        ,\n",
       "       3.95064695, 0.        , 0.        , 0.        , 3.00354993,\n",
       "       2.96131506, 0.        , 4.13198634, 0.        , 3.1870604 ,\n",
       "       3.23921321, 3.26951624, 2.34731263, 0.        , 3.43308924,\n",
       "       0.        , 0.        , 4.17568747, 3.20373136, 0.        ,\n",
       "       0.        , 1.62078504, 0.        , 1.29405821, 2.44763078,\n",
       "       0.        , 1.89660767, 2.93327896, 3.03914006])"
      ]
     },
     "execution_count": 89,
     "metadata": {},
     "output_type": "execute_result"
    }
   ],
   "source": [
    "# probability of non-survival for non-surviving group\n",
    "(1-y_test.to_numpy())*(1-np.log(probs)[:, 1])"
   ]
  },
  {
   "cell_type": "code",
   "execution_count": 91,
   "id": "f87ee343-afbd-447a-a649-7a42a39d1211",
   "metadata": {},
   "outputs": [
    {
     "data": {
      "text/plain": [
       "3.0"
      ]
     },
     "execution_count": 91,
     "metadata": {},
     "output_type": "execute_result"
    }
   ],
   "source": [
    "# Logarithms: https://www.mathsisfun.com/algebra/logarithms.html\n",
    "math.log(8, 2)"
   ]
  },
  {
   "cell_type": "code",
   "execution_count": 92,
   "id": "c9381851-0668-48e3-aaca-48e324758769",
   "metadata": {},
   "outputs": [
    {
     "data": {
      "text/plain": [
       "7.999667673464062"
      ]
     },
     "execution_count": 92,
     "metadata": {},
     "output_type": "execute_result"
    }
   ],
   "source": [
    "math.e ** 2.0794"
   ]
  },
  {
   "cell_type": "code",
   "execution_count": 94,
   "id": "73ad5479-c8d3-4a1b-ba23-93578f31a987",
   "metadata": {},
   "outputs": [
    {
     "data": {
      "text/plain": [
       "True"
      ]
     },
     "execution_count": 94,
     "metadata": {},
     "output_type": "execute_result"
    }
   ],
   "source": [
    "math.log(8, math.e) == math.log(8)"
   ]
  },
  {
   "cell_type": "markdown",
   "id": "38bf2ddf-8b33-43b7-b659-b5c07f869e42",
   "metadata": {},
   "source": [
    "## Other classification models"
   ]
  },
  {
   "cell_type": "code",
   "execution_count": 102,
   "id": "9e1a72ec-e9b1-4979-a195-8383796dc994",
   "metadata": {},
   "outputs": [
    {
     "data": {
      "text/plain": [
       "68.08"
      ]
     },
     "execution_count": 102,
     "metadata": {},
     "output_type": "execute_result"
    }
   ],
   "source": [
    "# Stochastic Gradient Descent\n",
    "\n",
    "sgd = SGDClassifier(loss=\"log_loss\")  # logistic regression\n",
    "sgd.fit(X_train, y_train)\n",
    "Y_pred = sgd.predict(X_test)\n",
    "acc_sgd = round(sgd.score(X_train, y_train) * 100, 2)\n",
    "acc_sgd\n",
    "# score - відсоток правильних відповідей класифікатора"
   ]
  },
  {
   "cell_type": "markdown",
   "id": "c05014aa-35e3-4461-b0e3-f5ab2c2338f9",
   "metadata": {},
   "source": [
    "Gradient Descent\n",
    "![gradient_descent](https://miro.medium.com/v2/resize:fit:1400/format:webp/1*N5WjbzwsCFse-KPjBWZZ6g.jpeg)\n",
    "![gradient_descent_complex](https://miro.medium.com/v2/resize:fit:900/format:webp/1*jeMxJLZz-o5xniDMKqcTAg.jpeg)"
   ]
  },
  {
   "cell_type": "code",
   "execution_count": 103,
   "id": "fe439c8a-719a-4408-b588-dfad6172f14e",
   "metadata": {},
   "outputs": [
    {
     "data": {
      "text/plain": [
       "9.719355696627373"
      ]
     },
     "execution_count": 103,
     "metadata": {},
     "output_type": "execute_result"
    }
   ],
   "source": [
    "probs_sgd = sgd.predict_proba(X_test)\n",
    "log_loss(y_test, probs_sgd)"
   ]
  },
  {
   "cell_type": "code",
   "execution_count": 117,
   "id": "fbc7e328-aab7-4acd-987d-f7c4e6c69075",
   "metadata": {},
   "outputs": [
    {
     "data": {
      "text/plain": [
       "array([0.01001001, 0.02002002, 0.04004004, 0.06006006, 0.08008008,\n",
       "       0.1001001 , 0.12012012, 0.14014014, 0.16016016, 0.18018018,\n",
       "       0.2002002 , 0.22022022, 0.24024024, 0.26026026, 0.28028028,\n",
       "       0.3003003 , 0.32032032, 0.34034034, 0.36036036, 0.38038038])"
      ]
     },
     "execution_count": 117,
     "metadata": {},
     "output_type": "execute_result"
    }
   ],
   "source": [
    "# Gradient Descent calculation example\n",
    "x = np.linspace(0,10,1000)\n",
    "dx = x[1]-x[0]\n",
    "y = x**2 + 1\n",
    "dydx = np.gradient(y, dx)\n",
    "dydx[:20]"
   ]
  },
  {
   "cell_type": "code",
   "execution_count": 109,
   "id": "d8449f13-0148-451b-b912-76d6d1531046",
   "metadata": {},
   "outputs": [
    {
     "data": {
      "text/plain": [
       "0.003"
      ]
     },
     "execution_count": 109,
     "metadata": {},
     "output_type": "execute_result"
    }
   ],
   "source": [
    "(0.0003/len(dydx))*np.sum(dydx)"
   ]
  },
  {
   "cell_type": "code",
   "execution_count": 111,
   "id": "ebda8977-9c79-4fa3-9f7c-76bc2a1732e3",
   "metadata": {},
   "outputs": [
    {
     "data": {
      "text/plain": [
       "79.87"
      ]
     },
     "execution_count": 111,
     "metadata": {},
     "output_type": "execute_result"
    }
   ],
   "source": [
    "# RidgeClassifier\n",
    "from sklearn.linear_model import RidgeClassifier\n",
    "ridge = RidgeClassifier()\n",
    "ridge.fit(X_train, y_train)\n",
    "Y_pred = ridge.predict(X_test)\n",
    "acc_ridge = round(ridge.score(X_train, y_train) * 100, 2)\n",
    "acc_ridge"
   ]
  },
  {
   "cell_type": "markdown",
   "id": "ded57d65-711f-48a2-8833-2ecf9f639d24",
   "metadata": {},
   "source": [
    "## Multi-class classification"
   ]
  },
  {
   "cell_type": "code",
   "execution_count": 112,
   "id": "c3cfc03b-5ac4-4753-8963-0729e1520351",
   "metadata": {},
   "outputs": [
    {
     "data": {
      "text/plain": [
       "array([3, 3, 3, 3, 3, 3, 3, 3, 1, 1, 3, 3, 1, 3, 3, 3, 1, 3, 3, 3, 3, 1,\n",
       "       3, 3, 3, 3, 3, 3, 3, 3, 1, 3, 3, 3, 3, 3, 3, 1, 3, 3, 3, 3, 3, 3,\n",
       "       1, 1, 3, 3, 3, 1, 3, 3, 3, 3, 3, 3, 3, 3, 3, 3, 3, 3, 1, 3, 3, 3,\n",
       "       1, 3, 1, 3, 3, 3, 3, 3, 1, 1, 3, 3, 3, 3, 3, 1, 3, 3, 3, 3, 3, 3,\n",
       "       3, 3, 1, 3, 3, 3, 3, 3, 3, 3, 3, 3, 3, 3, 3, 3, 1, 3, 3, 3, 3, 3,\n",
       "       3, 3, 3, 1, 3, 3, 1, 3, 1, 3, 3, 1, 1, 3, 3, 1, 3, 1, 3, 1, 1, 3,\n",
       "       3, 3])"
      ]
     },
     "execution_count": 112,
     "metadata": {},
     "output_type": "execute_result"
    }
   ],
   "source": [
    "# Стратегія \"один проти всіх\"\n",
    "from sklearn.multiclass import OneVsRestClassifier\n",
    "# create features\n",
    "X_train = df_train[[\"Age\", \"Survived\"]]\n",
    "y_train = df_train[\"Pclass\"]\n",
    "X_test  = df_test[[\"Age\", \"Survived\"]]\n",
    "y_test = df_test[\"Pclass\"]\n",
    "\n",
    "clf = OneVsRestClassifier(LogisticRegression(random_state=0)).fit(X_train, y_train)\n",
    "preds_3 = clf.predict(X_test)\n",
    "preds_3"
   ]
  },
  {
   "cell_type": "code",
   "execution_count": 113,
   "id": "a1927105-0548-43fe-b0e6-ba1ded5c1ec5",
   "metadata": {},
   "outputs": [
    {
     "data": {
      "text/plain": [
       "array([3, 1, 3, 2, 1, 3, 2, 3, 1, 1, 2, 3, 3, 3, 3, 3, 1, 3, 2, 3, 3, 1,\n",
       "       3, 1, 3, 1, 2, 2, 1, 2, 1, 3, 3, 1, 3, 1, 3, 1, 3, 3, 2, 3, 2, 3,\n",
       "       1, 1, 2, 3, 2, 1, 2, 3, 3, 2, 2, 2, 3, 3, 3, 2, 3, 3, 1, 3, 2, 2,\n",
       "       3, 3, 1, 1, 2, 1, 3, 3, 3, 2, 3, 3, 3, 1, 3, 1, 2, 3, 2, 3, 3, 2,\n",
       "       3, 3, 3, 3, 3, 3, 3, 3, 3, 2, 3, 3, 3, 1, 3, 3, 2, 3, 3, 1, 3, 3,\n",
       "       3, 1, 3, 1, 3, 3, 2, 2, 3, 3, 2, 1, 3, 3, 1, 1, 1, 1, 3, 1, 2, 2,\n",
       "       2, 3])"
      ]
     },
     "execution_count": 113,
     "metadata": {},
     "output_type": "execute_result"
    }
   ],
   "source": [
    "y_test.to_numpy()"
   ]
  },
  {
   "cell_type": "code",
   "execution_count": 114,
   "id": "91b004c7-f76c-4687-8481-77fae097802a",
   "metadata": {},
   "outputs": [
    {
     "data": {
      "text/plain": [
       "('Train', 0.6556291390728477, 'Test', 0.6119402985074627)"
      ]
     },
     "execution_count": 114,
     "metadata": {},
     "output_type": "execute_result"
    }
   ],
   "source": [
    "\"Train\", clf.score(X_train, y_train), \"Test\", clf.score(X_test, y_test)"
   ]
  },
  {
   "cell_type": "code",
   "execution_count": 115,
   "id": "dc2f3d05-db7c-4aee-a85b-d812bfabcf58",
   "metadata": {},
   "outputs": [
    {
     "data": {
      "text/plain": [
       "array([3, 3, 3, 3, 3, 3, 3, 3, 1, 1, 3, 3, 1, 3, 3, 3, 1, 3, 3, 3, 3, 1,\n",
       "       3, 3, 3, 3, 3, 3, 3, 3, 1, 3, 3, 3, 3, 3, 3, 1, 3, 3, 3, 3, 3, 3,\n",
       "       1, 1, 3, 3, 3, 1, 3, 3, 3, 3, 3, 3, 3, 3, 3, 3, 3, 3, 1, 3, 3, 3,\n",
       "       1, 3, 1, 3, 3, 3, 3, 3, 1, 1, 3, 3, 3, 3, 3, 1, 3, 3, 3, 3, 3, 3,\n",
       "       3, 3, 1, 3, 3, 3, 3, 3, 3, 3, 3, 3, 3, 3, 3, 3, 1, 3, 3, 3, 3, 3,\n",
       "       3, 3, 3, 1, 3, 3, 1, 3, 1, 3, 3, 1, 1, 3, 3, 1, 3, 1, 3, 1, 1, 3,\n",
       "       3, 3])"
      ]
     },
     "execution_count": 115,
     "metadata": {},
     "output_type": "execute_result"
    }
   ],
   "source": [
    "# Стратегія \"один проти одного\"\n",
    "\n",
    "from sklearn.multiclass import OneVsOneClassifier\n",
    "from sklearn.svm import LinearSVC\n",
    "\n",
    "clf = OneVsOneClassifier(\n",
    "    LogisticRegression(random_state=0)).fit(X_train, y_train)\n",
    "\n",
    "preds_3 = clf.predict(X_test)\n",
    "preds_3"
   ]
  },
  {
   "cell_type": "code",
   "execution_count": 116,
   "id": "d6c8a48d-f7ec-49ea-8075-2664e9a7255f",
   "metadata": {},
   "outputs": [
    {
     "data": {
      "text/plain": [
       "('Train', 0.6569536423841059, 'Test', 0.6119402985074627)"
      ]
     },
     "execution_count": 116,
     "metadata": {},
     "output_type": "execute_result"
    }
   ],
   "source": [
    "\"Train\", clf.score(X_train, y_train), \"Test\", clf.score(X_test, y_test)"
   ]
  },
  {
   "cell_type": "code",
   "execution_count": null,
   "id": "4f6c8324-7b52-4dca-9d3f-63cef1e41db3",
   "metadata": {},
   "outputs": [],
   "source": []
  }
 ],
 "metadata": {
  "kernelspec": {
   "display_name": "Python 3 (ipykernel)",
   "language": "python",
   "name": "python3"
  },
  "language_info": {
   "codemirror_mode": {
    "name": "ipython",
    "version": 3
   },
   "file_extension": ".py",
   "mimetype": "text/x-python",
   "name": "python",
   "nbconvert_exporter": "python",
   "pygments_lexer": "ipython3",
   "version": "3.11.6"
  }
 },
 "nbformat": 4,
 "nbformat_minor": 5
}
