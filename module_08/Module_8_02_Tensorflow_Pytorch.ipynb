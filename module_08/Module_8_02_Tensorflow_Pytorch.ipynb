{
 "cells": [
  {
   "cell_type": "markdown",
   "source": [
    "# Tensorflow\n",
    "\n",
    "- TensorFlow is an open-source library developed by Google specifically for Deep Learning.\n",
    "- uses a dedicated data type `Tensor`, that can be used directly in the construction and training of neural networks. Tensors in TensorFlow are the fundamental data structure used for representing multi-dimensional arrays.\n",
    "- TensorFlow has robust support for GPU acceleration, making it efficient for training deep learning models on GPUs."
   ],
   "metadata": {
    "collapsed": false
   },
   "id": "34297dfb64e629da"
  },
  {
   "cell_type": "markdown",
   "source": [
    "## Installation\n",
    "\n",
    "https://www.tensorflow.org/install/pip#linux\n"
   ],
   "metadata": {
    "collapsed": false
   },
   "id": "874a5cc664243fd5"
  },
  {
   "cell_type": "code",
   "execution_count": 1,
   "id": "initial_id",
   "metadata": {
    "collapsed": true,
    "ExecuteTime": {
     "end_time": "2024-01-27T11:57:17.734212Z",
     "start_time": "2024-01-27T11:57:15.814902Z"
    }
   },
   "outputs": [],
   "source": [
    "import numpy as np\n",
    "import tensorflow as tf"
   ]
  },
  {
   "cell_type": "code",
   "outputs": [
    {
     "name": "stdout",
     "output_type": "stream",
     "text": [
      "2.13.0\n"
     ]
    }
   ],
   "source": [
    "print(tf.__version__)"
   ],
   "metadata": {
    "collapsed": false,
    "ExecuteTime": {
     "end_time": "2024-01-27T11:57:17.736466Z",
     "start_time": "2024-01-27T11:57:17.734635Z"
    }
   },
   "id": "4428702ec8af5b4d",
   "execution_count": 2
  },
  {
   "cell_type": "markdown",
   "source": [
    "### Check GPU support\n",
    "https://www.tensorflow.org/api_docs/python/tf/test/is_gpu_available"
   ],
   "metadata": {
    "collapsed": false
   },
   "id": "5d8bc3efb3b2f1b7"
  },
  {
   "cell_type": "code",
   "outputs": [
    {
     "name": "stdout",
     "output_type": "stream",
     "text": [
      "Available GPUs: []\n",
      "Is a GPU available: False\n"
     ]
    }
   ],
   "source": [
    "# Lists available GPUs for TensorFlow\n",
    "print(\"Available GPUs:\", tf.config.list_physical_devices('GPU'))\n",
    "\n",
    "# Checks if TensorFlow can access the GPU\n",
    "gpu_available = len(tf.config.list_physical_devices('GPU')) > 0\n",
    "print(\"Is a GPU available:\", gpu_available)"
   ],
   "metadata": {
    "collapsed": false,
    "ExecuteTime": {
     "end_time": "2024-01-27T11:57:17.745394Z",
     "start_time": "2024-01-27T11:57:17.737050Z"
    }
   },
   "id": "e4fb9eacd5fb0120",
   "execution_count": 3
  },
  {
   "cell_type": "code",
   "outputs": [
    {
     "name": "stdout",
     "output_type": "stream",
     "text": [
      "odict_keys(['is_cuda_build', 'is_rocm_build', 'is_tensorrt_build'])\n"
     ]
    }
   ],
   "source": [
    "# Display the keys in the TensorFlow build information\n",
    "tf_build_info_keys = tf.sysconfig.get_build_info().keys()\n",
    "print(tf_build_info_keys)"
   ],
   "metadata": {
    "collapsed": false,
    "ExecuteTime": {
     "end_time": "2024-01-27T11:57:17.746122Z",
     "start_time": "2024-01-27T11:57:17.739580Z"
    }
   },
   "id": "34778c72f0cf7bd5",
   "execution_count": 4
  },
  {
   "cell_type": "code",
   "outputs": [],
   "source": [
    "# Prints True if TensorFlow was built with CUDA (GPU support), False otherwise.\n",
    "# print(tf.sysconfig.get_build_info()[\"cuda_version\"] != \"\")"
   ],
   "metadata": {
    "collapsed": false,
    "ExecuteTime": {
     "end_time": "2024-01-27T11:57:17.746818Z",
     "start_time": "2024-01-27T11:57:17.741407Z"
    }
   },
   "id": "7f2386c026ef572e",
   "execution_count": 5
  },
  {
   "cell_type": "code",
   "outputs": [
    {
     "data": {
      "text/plain": "False"
     },
     "execution_count": 6,
     "metadata": {},
     "output_type": "execute_result"
    }
   ],
   "source": [
    "tf.test.is_built_with_cuda()"
   ],
   "metadata": {
    "collapsed": false,
    "ExecuteTime": {
     "end_time": "2024-01-27T11:57:17.748031Z",
     "start_time": "2024-01-27T11:57:17.744194Z"
    }
   },
   "id": "d061f2d7c040f97e",
   "execution_count": 6
  },
  {
   "cell_type": "code",
   "outputs": [
    {
     "data": {
      "text/plain": "[]"
     },
     "execution_count": 7,
     "metadata": {},
     "output_type": "execute_result"
    }
   ],
   "source": [
    "tf.config.list_physical_devices('GPU')"
   ],
   "metadata": {
    "collapsed": false,
    "ExecuteTime": {
     "end_time": "2024-01-27T11:57:17.750788Z",
     "start_time": "2024-01-27T11:57:17.746578Z"
    }
   },
   "id": "83cead11b961e0e3",
   "execution_count": 7
  },
  {
   "cell_type": "markdown",
   "source": [
    "# colab: https://colab.research.google.com/drive/1BhKRmnAx4KZsXazfl1oJ-NN7p1XYfUz9?hl=de#scrollTo=U_J4oYII3dMa"
   ],
   "metadata": {
    "collapsed": false
   },
   "id": "7b0ccc801c82cdb"
  },
  {
   "cell_type": "markdown",
   "source": [
    "## Tensor: Constant vs. Variable\n",
    "\n",
    "- `tf.constant`/`tf.Tensor`: Constants are immutable, meaning their values cannot be changed after creation. Once you create a constant tensor, its value remains fixed throughout the execution of the program. Use them for example, if you have hyperparameters or fixed values that need to remain constant throughout the training process.\n",
    "- `tf.Variable`: Variables are mutable, and their values can be changed during the execution of the program. This makes variables suitable for situations where you need to update the values iteratively, such as in training neural network weights. Use variables when you want to represent trainable parameters in your model, like weights and biases in a neural network."
   ],
   "metadata": {
    "collapsed": false
   },
   "id": "d4cbac9e0e089393"
  },
  {
   "cell_type": "code",
   "outputs": [
    {
     "data": {
      "text/plain": "<tf.Tensor: shape=(1, 2), dtype=float16, numpy=array([[1., 2.]], dtype=float16)>"
     },
     "execution_count": 8,
     "metadata": {},
     "output_type": "execute_result"
    }
   ],
   "source": [
    "x1 = tf.constant([[1.0, 2.0]], dtype=np.float16)\n",
    "x1"
   ],
   "metadata": {
    "collapsed": false,
    "ExecuteTime": {
     "end_time": "2024-01-27T11:57:17.794857Z",
     "start_time": "2024-01-27T11:57:17.754087Z"
    }
   },
   "id": "72a27b0e6915cd04",
   "execution_count": 8
  },
  {
   "cell_type": "code",
   "outputs": [
    {
     "data": {
      "text/plain": "array([[1., 2.]], dtype=float16)"
     },
     "execution_count": 9,
     "metadata": {},
     "output_type": "execute_result"
    }
   ],
   "source": [
    "x1.numpy()"
   ],
   "metadata": {
    "collapsed": false,
    "ExecuteTime": {
     "end_time": "2024-01-27T11:57:17.795588Z",
     "start_time": "2024-01-27T11:57:17.756473Z"
    }
   },
   "id": "ce97b837c3308ade",
   "execution_count": 9
  },
  {
   "cell_type": "code",
   "outputs": [
    {
     "data": {
      "text/plain": "<tf.Tensor: shape=(2,), dtype=float16, numpy=array([1., 2.], dtype=float16)>"
     },
     "execution_count": 10,
     "metadata": {},
     "output_type": "execute_result"
    }
   ],
   "source": [
    "x1[0]"
   ],
   "metadata": {
    "collapsed": false,
    "ExecuteTime": {
     "end_time": "2024-01-27T11:57:17.796734Z",
     "start_time": "2024-01-27T11:57:17.761354Z"
    }
   },
   "id": "39d664eb2adbef8a",
   "execution_count": 10
  },
  {
   "cell_type": "code",
   "outputs": [
    {
     "data": {
      "text/plain": "<tf.Tensor: shape=(), dtype=float16, numpy=1.0>"
     },
     "execution_count": 11,
     "metadata": {},
     "output_type": "execute_result"
    }
   ],
   "source": [
    "x1[0][0]"
   ],
   "metadata": {
    "collapsed": false,
    "ExecuteTime": {
     "end_time": "2024-01-27T11:57:17.797400Z",
     "start_time": "2024-01-27T11:57:17.764106Z"
    }
   },
   "id": "24c0f1440b6a88b0",
   "execution_count": 11
  },
  {
   "cell_type": "code",
   "outputs": [
    {
     "data": {
      "text/plain": "array([[2.],\n       [3.]], dtype=float32)"
     },
     "execution_count": 12,
     "metadata": {},
     "output_type": "execute_result"
    }
   ],
   "source": [
    "y1 = tf.convert_to_tensor([[2.0], [3.0]])\n",
    "y1.numpy()"
   ],
   "metadata": {
    "collapsed": false,
    "ExecuteTime": {
     "end_time": "2024-01-27T11:57:17.797974Z",
     "start_time": "2024-01-27T11:57:17.768090Z"
    }
   },
   "id": "f66e23057c4e9f45",
   "execution_count": 12
  },
  {
   "cell_type": "code",
   "outputs": [
    {
     "data": {
      "text/plain": "<tf.Tensor: shape=(), dtype=float32, numpy=4.0>"
     },
     "execution_count": 13,
     "metadata": {},
     "output_type": "execute_result"
    }
   ],
   "source": [
    "b1 = tf.constant(4.0)\n",
    "b1"
   ],
   "metadata": {
    "collapsed": false,
    "ExecuteTime": {
     "end_time": "2024-01-27T11:57:17.798485Z",
     "start_time": "2024-01-27T11:57:17.770521Z"
    }
   },
   "id": "43094ff3b73de8c2",
   "execution_count": 13
  },
  {
   "cell_type": "code",
   "outputs": [
    {
     "data": {
      "text/plain": "<tf.Variable 'Variable:0' shape=() dtype=float32, numpy=4.0>"
     },
     "execution_count": 14,
     "metadata": {},
     "output_type": "execute_result"
    }
   ],
   "source": [
    "b1 = tf.Variable(4.0)\n",
    "b1"
   ],
   "metadata": {
    "collapsed": false,
    "ExecuteTime": {
     "end_time": "2024-01-27T11:57:17.799140Z",
     "start_time": "2024-01-27T11:57:17.772885Z"
    }
   },
   "id": "df630211a3987c68",
   "execution_count": 14
  },
  {
   "cell_type": "code",
   "outputs": [
    {
     "name": "stdout",
     "output_type": "stream",
     "text": [
      "[1 2 3]\n",
      "[4 5 6]\n"
     ]
    }
   ],
   "source": [
    "import tensorflow as tf\n",
    "\n",
    "# Using tf.constant\n",
    "constant_tensor = tf.constant([1, 2, 3])\n",
    "\n",
    "# Using tf.Variable\n",
    "variable_tensor = tf.Variable([1, 2, 3])\n",
    "\n",
    "# You can update the value of a tf.Variable\n",
    "variable_tensor.assign([4, 5, 6])\n",
    "\n",
    "# Accessing the values\n",
    "print(constant_tensor.numpy())  # Output: [1 2 3]\n",
    "print(variable_tensor.numpy())  # Output: [4 5 6]\n"
   ],
   "metadata": {
    "collapsed": false,
    "ExecuteTime": {
     "end_time": "2024-01-27T11:57:17.799714Z",
     "start_time": "2024-01-27T11:57:17.777847Z"
    }
   },
   "id": "90e92510f769b0c3",
   "execution_count": 15
  },
  {
   "cell_type": "markdown",
   "source": [
    "## Eager vs. Graph execution / Інтерактивне (послідовне) виконання проти Графічного виконання\n",
    "\n",
    "https://www.tensorflow.org/guide/intro_to_graphs\n"
   ],
   "metadata": {
    "collapsed": false
   },
   "id": "a9143ed69934b7f0"
  },
  {
   "cell_type": "code",
   "outputs": [
    {
     "data": {
      "text/plain": "True"
     },
     "execution_count": 16,
     "metadata": {},
     "output_type": "execute_result"
    }
   ],
   "source": [
    "# https://www.tensorflow.org/api_docs/python/tf/executing_eagerly\n",
    "# Default\n",
    "assert tf.multiply(6, 7).numpy() == 42\n",
    "tf.executing_eagerly()"
   ],
   "metadata": {
    "collapsed": false,
    "ExecuteTime": {
     "end_time": "2024-01-27T11:57:17.863765Z",
     "start_time": "2024-01-27T11:57:17.782602Z"
    }
   },
   "id": "9930f782c5330a37",
   "execution_count": 16
  },
  {
   "cell_type": "code",
   "outputs": [
    {
     "name": "stdout",
     "output_type": "stream",
     "text": [
      "Eager execution in a simple Python function: True\n"
     ]
    },
    {
     "data": {
      "text/plain": "42"
     },
     "execution_count": 17,
     "metadata": {},
     "output_type": "execute_result"
    }
   ],
   "source": [
    "# Simple Python function\n",
    "def fn():\n",
    "    print(\"Eager execution in a simple Python function:\", tf.executing_eagerly())\n",
    "    return tf.multiply(6, 7).numpy()\n",
    "\n",
    "\n",
    "fn()"
   ],
   "metadata": {
    "collapsed": false,
    "ExecuteTime": {
     "end_time": "2024-01-27T11:57:17.864687Z",
     "start_time": "2024-01-27T11:57:17.786194Z"
    }
   },
   "id": "b84a8612e107c2cc",
   "execution_count": 17
  },
  {
   "cell_type": "code",
   "outputs": [
    {
     "name": "stdout",
     "output_type": "stream",
     "text": [
      "Eager execution outside of the graph: True\n",
      "Eager execution inside of the graph: False\n"
     ]
    },
    {
     "data": {
      "text/plain": "42"
     },
     "execution_count": 18,
     "metadata": {},
     "output_type": "execute_result"
    }
   ],
   "source": [
    "tf.config.run_functions_eagerly(False)  # Default behaviour\n",
    "\n",
    "\n",
    "@tf.function  # Compiles a function into a callable TensorFlow graph (https://www.tensorflow.org/api_docs/python/tf/function)\n",
    "def fn_graph():\n",
    "    with tf.init_scope():  # context manager, moves clause out of the graph\n",
    "        print(\"Eager execution outside of the graph:\", tf.executing_eagerly())  # outside of the graph\n",
    "    print(\"Eager execution inside of the graph:\", tf.executing_eagerly())  # inside of the graph\n",
    "    return tf.multiply(6, 7)  #.numpy()\n",
    "\n",
    "\n",
    "fn_graph().numpy()"
   ],
   "metadata": {
    "collapsed": false,
    "ExecuteTime": {
     "end_time": "2024-01-27T11:57:17.883570Z",
     "start_time": "2024-01-27T11:57:17.794002Z"
    }
   },
   "id": "c590cd0c8144d697",
   "execution_count": 18
  },
  {
   "cell_type": "code",
   "outputs": [
    {
     "data": {
      "text/plain": "<tf.Tensor: shape=(), dtype=int32, numpy=42>"
     },
     "execution_count": 19,
     "metadata": {},
     "output_type": "execute_result"
    }
   ],
   "source": [
    "fn_graph()"
   ],
   "metadata": {
    "collapsed": false,
    "ExecuteTime": {
     "end_time": "2024-01-27T11:57:17.884831Z",
     "start_time": "2024-01-27T11:57:17.812998Z"
    }
   },
   "id": "f45316dd6ab6a99f",
   "execution_count": 19
  },
  {
   "cell_type": "code",
   "outputs": [
    {
     "name": "stdout",
     "output_type": "stream",
     "text": [
      "Eager execution outside of the graph: True\n",
      "Eager execution inside of the graph: True\n"
     ]
    },
    {
     "data": {
      "text/plain": "42"
     },
     "execution_count": 20,
     "metadata": {},
     "output_type": "execute_result"
    }
   ],
   "source": [
    "tf.config.run_functions_eagerly(True)\n",
    "\n",
    "\n",
    "@tf.function  # Compiles a function into a callable TensorFlow graph (https://www.tensorflow.org/api_docs/python/tf/function)\n",
    "def fn_eager():\n",
    "    with tf.init_scope():  # context manager, moves clause out of the graph\n",
    "        print(\"Eager execution outside of the graph:\", tf.executing_eagerly())  # outside of the graph\n",
    "    print(\"Eager execution inside of the graph:\", tf.executing_eagerly())  # inside of the graph\n",
    "    return tf.multiply(6, 7).numpy()\n",
    "\n",
    "\n",
    "fn_eager()"
   ],
   "metadata": {
    "collapsed": false,
    "ExecuteTime": {
     "end_time": "2024-01-27T11:57:17.885688Z",
     "start_time": "2024-01-27T11:57:17.818192Z"
    }
   },
   "id": "18c6d5f42b7c2c5f",
   "execution_count": 20
  },
  {
   "cell_type": "code",
   "outputs": [],
   "source": [
    "# fn_eager().graph()"
   ],
   "metadata": {
    "collapsed": false,
    "ExecuteTime": {
     "end_time": "2024-01-27T11:57:17.896633Z",
     "start_time": "2024-01-27T11:57:17.821598Z"
    }
   },
   "id": "1dea64f0a2c12c13",
   "execution_count": 21
  },
  {
   "cell_type": "code",
   "outputs": [],
   "source": [
    "# Switch to graph execution by default\n",
    "# tf.compat.v1.disable_eager_execution()"
   ],
   "metadata": {
    "collapsed": false,
    "ExecuteTime": {
     "end_time": "2024-01-27T11:57:17.897428Z",
     "start_time": "2024-01-27T11:57:17.823473Z"
    }
   },
   "id": "1ca5e81df2cced11",
   "execution_count": 22
  },
  {
   "cell_type": "code",
   "outputs": [
    {
     "name": "stdout",
     "output_type": "stream",
     "text": [
      "Eager execution in a simple Python function: True\n"
     ]
    }
   ],
   "source": [
    "def fn():\n",
    "    print(\"Eager execution in a simple Python function:\", tf.executing_eagerly())\n",
    "\n",
    "\n",
    "fn()"
   ],
   "metadata": {
    "collapsed": false,
    "ExecuteTime": {
     "end_time": "2024-01-27T11:57:17.898080Z",
     "start_time": "2024-01-27T11:57:17.826048Z"
    }
   },
   "id": "391732de51e1a55c",
   "execution_count": 23
  },
  {
   "cell_type": "code",
   "outputs": [],
   "source": [
    "# tf.compat.v1.enable_eager_execution()\n",
    "# \n",
    "# \n",
    "# def fn():\n",
    "#     print(\"Eager execution in a simple Python function:\", tf.executing_eagerly())\n",
    "# \n",
    "# \n",
    "# fn()\n",
    "\n",
    "# Eager execution cannot be enabled after TensorFlow APIs have been used to\n",
    "# create or execute graphs. It is typically recommended to invoke this function\n",
    "# at program startup and not in a library (as most libraries should be usable\n",
    "# both with and without eager execution)."
   ],
   "metadata": {
    "collapsed": false,
    "ExecuteTime": {
     "end_time": "2024-01-27T11:57:17.898729Z",
     "start_time": "2024-01-27T11:57:17.828617Z"
    }
   },
   "id": "7b381b3b983673b3",
   "execution_count": 24
  },
  {
   "cell_type": "markdown",
   "source": [
    "*When to choose what?*\n",
    "\n",
    "__Eager__ execution:\n",
    "- if you are experimenting and debugging is important\n",
    "- if you have *a few* computationally *expensive* operations\n",
    "\n",
    "__Graph__ execution:\n",
    "- If you need to optimize your code when you have *many operations* which are in itself not necessarily heavy\n",
    "\n",
    "*Good practice*:\n",
    "- use `@tf.function` decorator to define your functions and switch on the option `tf.config.run_functions_eagerly(True)` when debugging to be able to turn it to `False` otherwise if needed."
   ],
   "metadata": {
    "collapsed": false
   },
   "id": "c8c7f276debb7258"
  },
  {
   "cell_type": "markdown",
   "source": [
    "## Computational graph / обчислювальний граф\n",
    "\n",
    "https://www.tensorflow.org/guide/intro_to_graphs"
   ],
   "metadata": {
    "collapsed": false
   },
   "id": "b19babf1d77db5ba"
  },
  {
   "cell_type": "code",
   "outputs": [
    {
     "data": {
      "text/plain": "array([[ True]])"
     },
     "execution_count": 25,
     "metadata": {},
     "output_type": "execute_result"
    }
   ],
   "source": [
    "def formula(x: tf.Tensor, y: tf.Tensor, b: tf.Tensor):\n",
    "    x = tf.matmul(x, y)\n",
    "    x = x + b\n",
    "    return x\n",
    "\n",
    "\n",
    "function_that_uses_a_graph = tf.function(formula)\n",
    "\n",
    "x1 = tf.constant([[1.0, 2.0]])\n",
    "y1 = tf.constant([[2.0], [3.0]])\n",
    "b1 = tf.constant(4.0)\n",
    "\n",
    "orig_value = formula(x1, y1, b1).numpy()\n",
    "tf_function_value = function_that_uses_a_graph(x1, y1, b1).numpy()\n",
    "\n",
    "orig_value == tf_function_value"
   ],
   "metadata": {
    "collapsed": false,
    "ExecuteTime": {
     "end_time": "2024-01-27T11:57:17.899431Z",
     "start_time": "2024-01-27T11:57:17.832676Z"
    }
   },
   "id": "db9f9467b18c8fac",
   "execution_count": 25
  },
  {
   "cell_type": "code",
   "outputs": [
    {
     "data": {
      "text/plain": "array([[8.]], dtype=float32)"
     },
     "execution_count": 26,
     "metadata": {},
     "output_type": "execute_result"
    }
   ],
   "source": [
    "def my_func(x, y):\n",
    "    # A simple hand-rolled layer.\n",
    "    return tf.nn.relu(tf.matmul(x, y))\n",
    "\n",
    "\n",
    "my_func_tf = tf.function(my_func)\n",
    "\n",
    "my_func_tf(x=x1, y=y1).numpy()"
   ],
   "metadata": {
    "collapsed": false,
    "ExecuteTime": {
     "end_time": "2024-01-27T11:57:17.945804Z",
     "start_time": "2024-01-27T11:57:17.837037Z"
    }
   },
   "id": "959257ed253a8191",
   "execution_count": 26
  },
  {
   "cell_type": "code",
   "outputs": [
    {
     "name": "stdout",
     "output_type": "stream",
     "text": [
      "def tf__my_func(x, y):\n",
      "    with ag__.FunctionScope('my_func', 'fscope', ag__.ConversionOptions(recursive=True, user_requested=True, optional_features=(), internal_convert_user_code=True)) as fscope:\n",
      "        do_return = False\n",
      "        retval_ = ag__.UndefinedReturnValue()\n",
      "        try:\n",
      "            do_return = True\n",
      "            retval_ = ag__.converted_call(ag__.ld(tf).nn.relu, (ag__.converted_call(ag__.ld(tf).matmul, (ag__.ld(x), ag__.ld(y)), None, fscope),), None, fscope)\n",
      "        except:\n",
      "            do_return = False\n",
      "            raise\n",
      "        return fscope.ret(retval_, do_return)\n"
     ]
    }
   ],
   "source": [
    "# This is the graph-generating output of AutoGraph.\n",
    "print(tf.autograph.to_code(my_func_tf.python_function))"
   ],
   "metadata": {
    "collapsed": false,
    "ExecuteTime": {
     "end_time": "2024-01-27T11:57:17.967292Z",
     "start_time": "2024-01-27T11:57:17.842644Z"
    }
   },
   "id": "989dca36438e1d4f",
   "execution_count": 27
  },
  {
   "cell_type": "code",
   "outputs": [
    {
     "name": "stdout",
     "output_type": "stream",
     "text": [
      "node {\n",
      "  name: \"x\"\n",
      "  op: \"Placeholder\"\n",
      "  attr {\n",
      "    key: \"shape\"\n",
      "    value {\n",
      "      shape {\n",
      "        dim {\n",
      "          size: 1\n",
      "        }\n",
      "        dim {\n",
      "          size: 2\n",
      "        }\n",
      "      }\n",
      "    }\n",
      "  }\n",
      "  attr {\n",
      "    key: \"dtype\"\n",
      "    value {\n",
      "      type: DT_FLOAT\n",
      "    }\n",
      "  }\n",
      "  attr {\n",
      "    key: \"_user_specified_name\"\n",
      "    value {\n",
      "      s: \"x\"\n",
      "    }\n",
      "  }\n",
      "}\n",
      "node {\n",
      "  name: \"y\"\n",
      "  op: \"Placeholder\"\n",
      "  attr {\n",
      "    key: \"shape\"\n",
      "    value {\n",
      "      shape {\n",
      "        dim {\n",
      "          size: 2\n",
      "        }\n",
      "        dim {\n",
      "          size: 1\n",
      "        }\n",
      "      }\n",
      "    }\n",
      "  }\n",
      "  attr {\n",
      "    key: \"dtype\"\n",
      "    value {\n",
      "      type: DT_FLOAT\n",
      "    }\n",
      "  }\n",
      "  attr {\n",
      "    key: \"_user_specified_name\"\n",
      "    value {\n",
      "      s: \"y\"\n",
      "    }\n",
      "  }\n",
      "}\n",
      "node {\n",
      "  name: \"MatMul\"\n",
      "  op: \"MatMul\"\n",
      "  input: \"x\"\n",
      "  input: \"y\"\n",
      "  attr {\n",
      "    key: \"transpose_b\"\n",
      "    value {\n",
      "      b: false\n",
      "    }\n",
      "  }\n",
      "  attr {\n",
      "    key: \"transpose_a\"\n",
      "    value {\n",
      "      b: false\n",
      "    }\n",
      "  }\n",
      "  attr {\n",
      "    key: \"T\"\n",
      "    value {\n",
      "      type: DT_FLOAT\n",
      "    }\n",
      "  }\n",
      "}\n",
      "node {\n",
      "  name: \"Relu\"\n",
      "  op: \"Relu\"\n",
      "  input: \"MatMul\"\n",
      "  attr {\n",
      "    key: \"T\"\n",
      "    value {\n",
      "      type: DT_FLOAT\n",
      "    }\n",
      "  }\n",
      "}\n",
      "node {\n",
      "  name: \"Identity\"\n",
      "  op: \"Identity\"\n",
      "  input: \"Relu\"\n",
      "  attr {\n",
      "    key: \"T\"\n",
      "    value {\n",
      "      type: DT_FLOAT\n",
      "    }\n",
      "  }\n",
      "}\n",
      "versions {\n",
      "  producer: 1482\n",
      "}\n"
     ]
    }
   ],
   "source": [
    "# This is the graph itself.\n",
    "print(my_func_tf.get_concrete_function(x1, y1).graph.as_graph_def())"
   ],
   "metadata": {
    "collapsed": false,
    "ExecuteTime": {
     "end_time": "2024-01-27T11:57:17.978556Z",
     "start_time": "2024-01-27T11:57:17.913622Z"
    }
   },
   "id": "7cbb27b9caf103fd",
   "execution_count": 28
  },
  {
   "cell_type": "markdown",
   "source": [
    "https://www.tensorflow.org/tensorboard/graphs#graphs_of_tffunctions"
   ],
   "metadata": {
    "collapsed": false
   },
   "id": "a48e95df5becb5df"
  },
  {
   "cell_type": "code",
   "outputs": [
    {
     "name": "stderr",
     "output_type": "stream",
     "text": [
      "2024-01-27 12:01:48.286622: I tensorflow/tsl/profiler/lib/profiler_session.cc:104] Profiler session initializing.\n",
      "2024-01-27 12:01:48.286635: I tensorflow/tsl/profiler/lib/profiler_session.cc:119] Profiler session started.\n",
      "2024-01-27 12:01:48.287755: I tensorflow/tsl/profiler/lib/profiler_session.cc:70] Profiler session collecting data.\n",
      "2024-01-27 12:01:48.287821: I tensorflow/tsl/profiler/lib/profiler_session.cc:131] Profiler session tear down.\n"
     ]
    }
   ],
   "source": [
    "# The function to be traced.\n",
    "from datetime import datetime\n",
    "\n",
    "\n",
    "# The function to be traced.\n",
    "@tf.function\n",
    "def my_func(x, y):\n",
    "    # A simple hand-rolled layer.\n",
    "    return tf.nn.relu(tf.matmul(x, y))\n",
    "\n",
    "# Set up logging.\n",
    "stamp = datetime.now().strftime(\"%Y%m%d-%H%M%S\")\n",
    "logdir = 'logs/func/%s' % stamp\n",
    "writer = tf.summary.create_file_writer(logdir)\n",
    "\n",
    "# Sample data for your function.\n",
    "x = tf.random.uniform((3, 3))\n",
    "y = tf.random.uniform((3, 3))\n",
    "\n",
    "# Bracket the function call with\n",
    "# tf.summary.trace_on() and tf.summary.trace_export().\n",
    "tf.summary.trace_on(graph=True, profiler=True)\n",
    "# Call only one tf.function when tracing.\n",
    "z = my_func(x, y)\n",
    "with writer.as_default():\n",
    "    tf.summary.trace_export(\n",
    "        name=\"my_func_trace\",\n",
    "        step=0,\n",
    "        profiler_outdir=logdir)"
   ],
   "metadata": {
    "collapsed": false,
    "ExecuteTime": {
     "end_time": "2024-01-27T12:01:48.301308Z",
     "start_time": "2024-01-27T12:01:48.286607Z"
    }
   },
   "id": "2d92af2112a4b37b",
   "execution_count": 31
  },
  {
   "cell_type": "markdown",
   "source": [
    "Швидкість виконання графа в TensorFlow порівняно з інтерактивним виконанням в основному залежить від наступних факторів:\n",
    "\n",
    "- Оптимізація графа:\n",
    "Під час виконання графа TensorFlow може оптимізувати та перетворювати граф обчислень перед його виконанням. Цей процес оптимізації може включати усунення спільних підвиразів, складання констант та інші оптимізації на рівні графа.\n",
    "- Розміщення пристроїв та паралельне виконання:\n",
    "Графічне виконання TensorFlow дозволяє ефективно розміщувати пристрої та виконувати обчислення паралельно. Граф обчислень може бути розділений на підграфи, які можуть виконуватися паралельно на кількох пристроях, таких як GPU або TPU.\n",
    "- Компіляція у прискорений код:\n",
    "Коли використовується графічне виконання, TensorFlow має можливість компілювати граф обчислень в більш оптимізовану форму на низькому рівні, специфічні для певного обладнання. \n",
    "- Зменшення накладень Python:\n",
    "Інтерактивне виконання включає в себе виконання операцій імперативно, що означає, що кожна операція виконується негайно в Python. Це може вводити накладення Python та обмежувати можливості оптимізації. На відміну від цього, під час графічного виконання граф будується та оптимізується перед виконанням, що зменшує необхідність у частих взаємодіях із інтерпретатором Python."
   ],
   "metadata": {
    "collapsed": false
   },
   "id": "11de8b6e1feb43c4"
  },
  {
   "cell_type": "code",
   "outputs": [
    {
     "name": "stdout",
     "output_type": "stream",
     "text": [
      "Eager execution: 1.0112952080000923 seconds\n"
     ]
    }
   ],
   "source": [
    "import timeit\n",
    "\n",
    "x = tf.random.uniform(shape=[10, 10], minval=-1, maxval=2, dtype=tf.dtypes.int32)\n",
    "\n",
    "\n",
    "def power(x, y):\n",
    "    result = tf.eye(10, dtype=tf.dtypes.int32)\n",
    "    for _ in range(y):\n",
    "        result = tf.matmul(x, result)\n",
    "    return result\n",
    "\n",
    "\n",
    "print(\"Eager execution:\", timeit.timeit(lambda: power(x, 100), number=1000), \"seconds\")"
   ],
   "metadata": {
    "collapsed": false,
    "ExecuteTime": {
     "end_time": "2024-01-27T12:09:15.757936Z",
     "start_time": "2024-01-27T12:09:14.742146Z"
    }
   },
   "id": "461f4e25a5a89c04",
   "execution_count": 32
  },
  {
   "cell_type": "code",
   "outputs": [
    {
     "name": "stdout",
     "output_type": "stream",
     "text": [
      "Graph execution: 1.0251405000000204 seconds\n"
     ]
    }
   ],
   "source": [
    "power_as_graph = tf.function(power)\n",
    "print(\"Graph execution:\", timeit.timeit(lambda: power_as_graph(x, 100), number=1000), \"seconds\")"
   ],
   "metadata": {
    "collapsed": false,
    "ExecuteTime": {
     "end_time": "2024-01-27T12:09:28.944929Z",
     "start_time": "2024-01-27T12:09:27.917285Z"
    }
   },
   "id": "5dd7455e7f516b83",
   "execution_count": 33
  },
  {
   "cell_type": "markdown",
   "source": [
    "## Automatic differentiation / автоматичне визначення похідної"
   ],
   "metadata": {
    "collapsed": false
   },
   "id": "dcac399646baf0ff"
  },
  {
   "cell_type": "code",
   "outputs": [
    {
     "name": "stdout",
     "output_type": "stream",
     "text": [
      "tf.Tensor(0.104993574, shape=(), dtype=float32)\n"
     ]
    }
   ],
   "source": [
    "import tensorflow as tf\n",
    "\n",
    "\n",
    "def sigmoid(x):\n",
    "    return 1 / (1 + tf.exp(-x))\n",
    "\n",
    "\n",
    "x = tf.Variable(2.0)\n",
    "with tf.GradientTape() as tape:\n",
    "    y = sigmoid(x)\n",
    "    dydx = tape.gradient(y, x)\n",
    "    print(dydx)"
   ],
   "metadata": {
    "collapsed": false,
    "ExecuteTime": {
     "end_time": "2024-01-27T12:13:08.700810Z",
     "start_time": "2024-01-27T12:13:08.687106Z"
    }
   },
   "id": "64799468a899e29a",
   "execution_count": 34
  },
  {
   "cell_type": "code",
   "outputs": [
    {
     "data": {
      "text/plain": "<Figure size 640x480 with 1 Axes>",
      "image/png": "[encoded data removed]"
     },
     "metadata": {},
     "output_type": "display_data"
    }
   ],
   "source": [
    "import matplotlib.pyplot as plt\n",
    "\n",
    "# Define the input range\n",
    "x_values = np.linspace(-5, 5, 1000)\n",
    "y_values = sigmoid(x_values)\n",
    "\n",
    "# Tangent line equation: y = f'(x) * (x - x0) + f(x0)\n",
    "tangent_line = dydx * (x_values - x) + y\n",
    "\n",
    "# Plot the function and its tangent line\n",
    "plt.plot(x_values, y_values, label='Original Function')\n",
    "plt.plot(x_values, tangent_line, label='Tangent Line at x={}'.format(x), linestyle='--')\n",
    "plt.scatter(x, y, color='red')  # Mark the point on the function\n",
    "plt.show()"
   ],
   "metadata": {
    "collapsed": false,
    "ExecuteTime": {
     "end_time": "2024-01-27T12:14:39.202507Z",
     "start_time": "2024-01-27T12:14:38.852263Z"
    }
   },
   "id": "b4ac1c03777a4ec4",
   "execution_count": 35
  },
  {
   "cell_type": "markdown",
   "source": [
    "## Simple Neural Network"
   ],
   "metadata": {
    "collapsed": false
   },
   "id": "a42b13dc6cbdf5e0"
  },
  {
   "cell_type": "code",
   "outputs": [
    {
     "data": {
      "text/plain": "30.0"
     },
     "execution_count": 36,
     "metadata": {},
     "output_type": "execute_result"
    }
   ],
   "source": [
    "import tensorflow as tf\n",
    "\n",
    "\n",
    "# y = w1*x + b\n",
    "# y = 5*x + 5\n",
    "class SimpleModule(tf.Module):\n",
    "    def __init__(self, name=None):\n",
    "        super().__init__(name=name)\n",
    "        self.w = tf.Variable(5.0)\n",
    "        self.b = tf.Variable(5.0)\n",
    "\n",
    "    def __call__(self, x):\n",
    "        return self.w * x + self.b\n",
    "\n",
    "\n",
    "simple_module = SimpleModule(name=\"simple\")\n",
    "simple_module(tf.constant(5.0)).numpy()"
   ],
   "metadata": {
    "collapsed": false,
    "ExecuteTime": {
     "end_time": "2024-01-27T12:17:20.499243Z",
     "start_time": "2024-01-27T12:17:20.489961Z"
    }
   },
   "id": "d9871c68daab20bd",
   "execution_count": 36
  },
  {
   "cell_type": "markdown",
   "source": [
    "## Neural network (Perceptron / перцептрон)\n",
    "<img src=\"https://upload.wikimedia.org/wikipedia/commons/thumb/6/61/Colored_neural_network_uk.svg/1280px-Colored_neural_network_uk.svg.png\" alt=\"drawing\" width=\"400\"/>"
   ],
   "metadata": {
    "collapsed": false
   },
   "id": "bcfed63eadb22c18"
  },
  {
   "cell_type": "code",
   "outputs": [],
   "source": [
    "class DenseLayer(tf.Module):\n",
    "    def __init__(self, in_features, out_features, name=None):\n",
    "        super().__init__(name=name)\n",
    "        self.w = tf.Variable(\n",
    "            tf.random.normal([in_features, out_features]), name=\"w\"\n",
    "        )\n",
    "        # print(self.w)\n",
    "        self.b = tf.Variable(tf.zeros([out_features]), name=\"b\")  # Trainable variables\n",
    "        # print(self.b)\n",
    "\n",
    "    def __call__(self, x):\n",
    "        # y = w1*x + b\n",
    "        y = tf.matmul(x, self.w) + self.b\n",
    "        return tf.nn.relu(y)\n",
    "\n",
    "\n",
    "# Multi-layer perceptron\n",
    "class NN(tf.Module):\n",
    "    def __init__(self, name=None):\n",
    "        super().__init__(name=name)\n",
    "        self.layer_1 = DenseLayer(in_features=3, out_features=3)\n",
    "        self.layer_2 = DenseLayer(in_features=3, out_features=1)\n",
    "\n",
    "    def __call__(self, x):\n",
    "        print(\"Input layer: \", x)\n",
    "        print(\"Layer 1: \", \"tf.nn.relu(\", self.layer_1.w.numpy(), \"*\", x.numpy(), \" + \", self.layer_1.b.numpy()), \")\"\n",
    "        x = self.layer_1(x)\n",
    "        print(\"Layer 1 outputs: \", x)\n",
    "        print(\"Layer 2: \", \"tf.nn.relu(\", self.layer_2.w.numpy(), \"*\", x.numpy(), \" + \", self.layer_2.b.numpy()), \")\"\n",
    "        x = self.layer_2(x)\n",
    "        print(\"Layer 2 outputs: \", x)\n",
    "        return x\n",
    "\n",
    "\n",
    "nn = NN(name=\"neural_network\")"
   ],
   "metadata": {
    "collapsed": false,
    "ExecuteTime": {
     "end_time": "2024-01-27T12:31:10.142146Z",
     "start_time": "2024-01-27T12:31:10.111218Z"
    }
   },
   "id": "f8dc7592b6380782",
   "execution_count": 37
  },
  {
   "cell_type": "code",
   "outputs": [
    {
     "name": "stdout",
     "output_type": "stream",
     "text": [
      "Input layer:  tf.Tensor([[2. 2. 2.]], shape=(1, 3), dtype=float32)\n",
      "Layer 1:  tf.nn.relu( [[ 0.24212067 -0.16959572  0.14510536]\n",
      " [-0.17459947  0.23858781 -1.252725  ]\n",
      " [ 0.71636677 -0.32764444 -0.12893905]] * [[2. 2. 2.]]  +  [0. 0. 0.]\n",
      "Layer 1 outputs:  tf.Tensor([[1.567776 0.       0.      ]], shape=(1, 3), dtype=float32)\n",
      "Layer 2:  tf.nn.relu( [[ 0.25429597]\n",
      " [ 1.4526603 ]\n",
      " [-0.6498747 ]] * [[1.567776 0.       0.      ]]  +  [0.]\n",
      "Layer 2 outputs:  tf.Tensor([[0.3986791]], shape=(1, 1), dtype=float32)\n",
      "Results: tf.Tensor([[0.3986791]], shape=(1, 1), dtype=float32)\n"
     ]
    }
   ],
   "source": [
    "print(\"Results:\", nn(tf.constant([[2.0, 2.0, 2.0]])))"
   ],
   "metadata": {
    "collapsed": false,
    "ExecuteTime": {
     "end_time": "2024-01-27T12:31:20.961579Z",
     "start_time": "2024-01-27T12:31:20.951254Z"
    }
   },
   "id": "dc864b155b93d704",
   "execution_count": 38
  },
  {
   "cell_type": "code",
   "outputs": [],
   "source": [
    "# Representing activation functions in tenforflow\n",
    "\n",
    "\n",
    "def identity(x):\n",
    "    return x\n",
    "\n",
    "\n",
    "def step(x):\n",
    "    return tf.where(x > 0, 1, 0)\n",
    "\n",
    "\n",
    "def sigmoid(x):\n",
    "    return tf.math.sigmoid(x)\n",
    "\n",
    "\n",
    "def tanh(x):\n",
    "    return tf.math.tanh(x)\n",
    "\n",
    "\n",
    "def arctan(x):\n",
    "    return tf.math.atan(x)\n",
    "\n",
    "\n",
    "def relu(x):\n",
    "    return tf.nn.relu(x)\n",
    "\n",
    "\n",
    "def prelu(x, alpha=0.1):\n",
    "    return tf.maximum(0.0, x) + alpha * tf.minimum(0.0, x)\n",
    "\n",
    "\n",
    "def softsign(x):\n",
    "    return x / (1 + tf.abs(x))"
   ],
   "metadata": {
    "collapsed": false,
    "ExecuteTime": {
     "end_time": "2024-01-27T12:40:21.070981Z",
     "start_time": "2024-01-27T12:40:21.060632Z"
    }
   },
   "id": "980e9f3f5f6dcb7d",
   "execution_count": 39
  },
  {
   "cell_type": "markdown",
   "source": [
    "## Linear Model"
   ],
   "metadata": {
    "collapsed": false
   },
   "id": "307249deb3a8f8d2"
  },
  {
   "cell_type": "code",
   "outputs": [
    {
     "data": {
      "text/plain": "<Figure size 640x480 with 1 Axes>",
      "image/png": "[encoded data removed]"
     },
     "metadata": {},
     "output_type": "display_data"
    }
   ],
   "source": [
    "import tensorflow as tf\n",
    "\n",
    "import matplotlib.pyplot as plt\n",
    "\n",
    "colors = plt.rcParams['axes.prop_cycle'].by_key()['color']\n",
    "\n",
    "# The actual line\n",
    "TRUE_W = 3.0\n",
    "TRUE_B = 2.0\n",
    "\n",
    "NUM_EXAMPLES = 201\n",
    "\n",
    "# A vector of random x values\n",
    "x = tf.linspace(-2, 2, NUM_EXAMPLES)\n",
    "x = tf.cast(x, tf.float32)\n",
    "\n",
    "\n",
    "def f(x):\n",
    "    return x * TRUE_W + TRUE_B\n",
    "\n",
    "\n",
    "# Generate some noise\n",
    "noise = tf.random.normal(shape=[NUM_EXAMPLES])\n",
    "\n",
    "# Calculate y\n",
    "y = f(x) + noise\n",
    "\n",
    "# Plot all the data\n",
    "plt.plot(x, y, '.')\n",
    "plt.show()"
   ],
   "metadata": {
    "collapsed": false,
    "ExecuteTime": {
     "end_time": "2024-01-27T12:41:50.079239Z",
     "start_time": "2024-01-27T12:41:49.994563Z"
    }
   },
   "id": "a986e0b5412d5d9a",
   "execution_count": 40
  },
  {
   "cell_type": "code",
   "outputs": [
    {
     "name": "stdout",
     "output_type": "stream",
     "text": [
      "Weights and Biases: (<tf.Variable 'Variable:0' shape=() dtype=float32, numpy=0.0>, <tf.Variable 'Variable:0' shape=() dtype=float32, numpy=5.0>)\n"
     ]
    }
   ],
   "source": [
    "import tensorflow as tf\n",
    "\n",
    "\n",
    "# Module: https://www.tensorflow.org/api_docs/python/tf/Module\n",
    "class LinearModel(tf.Module):\n",
    "    def __init__(self, **kwargs):\n",
    "        super().__init__(**kwargs)\n",
    "        # Initialize the weights to `5.0` and the bias to `0.0`\n",
    "        # In practice, these should be randomly initialized\n",
    "        self.w = tf.Variable(5.0)\n",
    "        self.b = tf.Variable(0.0)\n",
    "\n",
    "    def __call__(self, x):\n",
    "        return self.w * x + self.b\n",
    "\n",
    "\n",
    "model = LinearModel()\n",
    "# List the variables tf.modules's built-in variable aggregation.\n",
    "print(\"Weights and Biases:\", model.variables)\n",
    "\n",
    "# Verify the model works\n",
    "assert model(3.0).numpy() == 15.0"
   ],
   "metadata": {
    "collapsed": false,
    "ExecuteTime": {
     "end_time": "2024-01-27T12:42:20.509975Z",
     "start_time": "2024-01-27T12:42:20.497597Z"
    }
   },
   "id": "1c3858683d407eb0",
   "execution_count": 41
  },
  {
   "cell_type": "code",
   "outputs": [],
   "source": [
    "def loss(target_y, predicted_y):  # середньоквадратична помилка\n",
    "    return tf.reduce_mean(tf.square(target_y - predicted_y))\n",
    "\n",
    "\n",
    "def train(model, x, y, learning_rate):\n",
    "    # backpropagation\n",
    "    with tf.GradientTape() as t:\n",
    "        current_loss = loss(y, model(x))\n",
    "        dw, db = t.gradient(current_loss, [model.w, model.b])\n",
    "        model.w.assign_sub(learning_rate * dw)\n",
    "        model.b.assign_sub(learning_rate * db)\n",
    "\n",
    "\n",
    "def training_loop(model, x, y):\n",
    "    for epoch in range(10):\n",
    "        train(model, x, y, learning_rate=0.1)\n",
    "        current_loss = loss(y, model(x))\n",
    "        print(f\"loss: {current_loss}\")"
   ],
   "metadata": {
    "collapsed": false,
    "ExecuteTime": {
     "end_time": "2024-01-27T12:43:49.158678Z",
     "start_time": "2024-01-27T12:43:49.146339Z"
    }
   },
   "id": "4d17683806d6f8e3",
   "execution_count": 42
  },
  {
   "cell_type": "code",
   "outputs": [
    {
     "name": "stdout",
     "output_type": "stream",
     "text": [
      "loss: 6.197547435760498\n",
      "loss: 3.99750018119812\n",
      "loss: 2.731400966644287\n",
      "loss: 1.9968703985214233\n",
      "loss: 1.5672239065170288\n",
      "loss: 1.3138471841812134\n",
      "loss: 1.1632161140441895\n",
      "loss: 1.0729676485061646\n",
      "loss: 1.018494963645935\n",
      "loss: 0.9853869676589966\n"
     ]
    }
   ],
   "source": [
    "linear_model = LinearModel()\n",
    "training_loop(linear_model, x, y)"
   ],
   "metadata": {
    "collapsed": false,
    "ExecuteTime": {
     "end_time": "2024-01-27T13:47:35.060805Z",
     "start_time": "2024-01-27T13:47:35.045201Z"
    }
   },
   "id": "77ababe71626068d",
   "execution_count": 43
  },
  {
   "cell_type": "code",
   "outputs": [
    {
     "data": {
      "text/plain": "<Figure size 640x480 with 1 Axes>",
      "image/png": "[encoded data removed]"
     },
     "metadata": {},
     "output_type": "display_data"
    }
   ],
   "source": [
    "y_pred = linear_model(x)\n",
    "# Plot all the data\n",
    "plt.plot(x, y, '.')\n",
    "plt.plot(x, y_pred, '.')\n",
    "\n",
    "plt.show()"
   ],
   "metadata": {
    "collapsed": false,
    "ExecuteTime": {
     "end_time": "2024-01-27T13:51:18.859499Z",
     "start_time": "2024-01-27T13:51:18.790622Z"
    }
   },
   "id": "fad7458d8a162904",
   "execution_count": 44
  },
  {
   "cell_type": "markdown",
   "source": [
    "# Pytorch"
   ],
   "metadata": {
    "collapsed": false
   },
   "id": "5c75854cd3acb251"
  },
  {
   "cell_type": "code",
   "outputs": [],
   "source": [
    "import torch"
   ],
   "metadata": {
    "collapsed": false,
    "ExecuteTime": {
     "end_time": "2024-01-27T13:54:23.418820Z",
     "start_time": "2024-01-27T13:54:23.404448Z"
    }
   },
   "id": "fe55c5f186708887",
   "execution_count": 46
  },
  {
   "cell_type": "code",
   "outputs": [
    {
     "data": {
      "text/plain": "False"
     },
     "execution_count": 47,
     "metadata": {},
     "output_type": "execute_result"
    }
   ],
   "source": [
    "torch.cuda.is_available()"
   ],
   "metadata": {
    "collapsed": false,
    "ExecuteTime": {
     "end_time": "2024-01-27T13:54:24.307856Z",
     "start_time": "2024-01-27T13:54:24.295474Z"
    }
   },
   "id": "6cf03302833957f0",
   "execution_count": 47
  },
  {
   "cell_type": "code",
   "outputs": [
    {
     "name": "stdout",
     "output_type": "stream",
     "text": [
      "Constant Tensor: tensor([1, 2, 3])\n",
      "Variable Tensor (Parameter): Parameter containing:\n",
      "tensor([1., 2., 3.], requires_grad=True)\n",
      "Variable Tensor (non-Parameter): tensor([1., 2., 3.], requires_grad=True)\n"
     ]
    }
   ],
   "source": [
    "\n",
    "\n",
    "# Using torch.tensor (similar to tf.constant)\n",
    "constant_tensor = torch.tensor([1, 2, 3])\n",
    "\n",
    "# Using torch.nn.Parameter (similar to tf.Variable)\n",
    "variable_tensor = torch.nn.Parameter(torch.tensor([1, 2, 3], dtype=torch.float32))\n",
    "\n",
    "# If you want to create a regular tensor (not a parameter) with requires_grad=True\n",
    "variable_tensor_non_param = torch.tensor([1, 2, 3], dtype=torch.float32, requires_grad=True)\n",
    "\n",
    "# Print the tensors\n",
    "print(\"Constant Tensor:\", constant_tensor)\n",
    "print(\"Variable Tensor (Parameter):\", variable_tensor)\n",
    "print(\"Variable Tensor (non-Parameter):\", variable_tensor_non_param)\n"
   ],
   "metadata": {
    "collapsed": false,
    "ExecuteTime": {
     "end_time": "2024-01-27T13:55:37.694995Z",
     "start_time": "2024-01-27T13:55:37.668586Z"
    }
   },
   "id": "c9d77aa8983e449a",
   "execution_count": 48
  },
  {
   "cell_type": "code",
   "outputs": [],
   "source": [
    "\n",
    "import torch.nn as nn\n",
    "\n",
    "\n",
    "class LinearModel(nn.Module):\n",
    "    def __init__(self):\n",
    "        super(LinearModel, self).__init__()\n",
    "        # Initialize the weights to `5.0` and the bias to `0.0`\n",
    "        # In practice, these should be randomly initialized\n",
    "        self.w = nn.Parameter(torch.tensor(5.0, dtype=torch.float32))\n",
    "        self.b = nn.Parameter(torch.tensor(0.0, dtype=torch.float32))\n",
    "\n",
    "    def forward(self, x):\n",
    "        return self.w * x + self.b\n",
    "\n",
    "\n",
    "def loss(target_y, predicted_y):  # Mean Squared Error\n",
    "    return torch.mean((target_y - predicted_y) ** 2)\n",
    "\n",
    "\n",
    "def train(model, x, y, learning_rate):\n",
    "    # Backpropagation, good explanation: https://medium.com/@mugeshk/backpropagation-algorithm-using-pytorch-ee1287888aca\n",
    "    current_loss = loss(y, model(x))\n",
    "    model.zero_grad()\n",
    "    current_loss.backward()  # https://pytorch.org/docs/stable/generated/torch.Tensor.backward.html\n",
    "\n",
    "    with torch.no_grad():\n",
    "        model.w -= learning_rate * model.w.grad\n",
    "        model.b -= learning_rate * model.b.grad\n",
    "\n",
    "\n",
    "def training_loop(model, x, y):\n",
    "    for epoch in range(10):\n",
    "        train(model, x, y, learning_rate=0.1)\n",
    "        current_loss = loss(y, model(x))\n",
    "        print(f\"loss: {current_loss.item()}\")\n",
    "\n",
    "# Please note that PyTorch uses dynamic computation graphs, so there's no need for a separate GradientTape as in TensorFlow. \n",
    "# The gradients are automatically calculated during the backward pass. \n",
    "# Also, the loss function and the training loop have been adjusted to use PyTorch syntax."
   ],
   "metadata": {
    "collapsed": false,
    "ExecuteTime": {
     "end_time": "2024-01-27T13:56:48.475260Z",
     "start_time": "2024-01-27T13:56:48.462155Z"
    }
   },
   "id": "56a96c2930b068b",
   "execution_count": 49
  },
  {
   "cell_type": "code",
   "outputs": [
    {
     "name": "stdout",
     "output_type": "stream",
     "text": [
      "loss: 6.66106653213501\n",
      "loss: 4.3346171379089355\n",
      "loss: 2.991436243057251\n",
      "loss: 2.209610939025879\n",
      "loss: 1.7507833242416382\n",
      "loss: 1.479311466217041\n",
      "loss: 1.3174092769622803\n",
      "loss: 1.2201133966445923\n",
      "loss: 1.161218285560608\n",
      "loss: 1.125327229499817\n"
     ]
    },
    {
     "data": {
      "text/plain": "<Figure size 640x480 with 1 Axes>",
      "image/png": "[encoded data removed]"
     },
     "metadata": {},
     "output_type": "display_data"
    }
   ],
   "source": [
    "# Example usage\n",
    "\n",
    "# A vector of random x values\n",
    "NUM_EXAMPLES = 201\n",
    "x = torch.linspace(-2, 2, steps=NUM_EXAMPLES, dtype=torch.float32)\n",
    "\n",
    "# Generate some noise\n",
    "noise = torch.randn(NUM_EXAMPLES)\n",
    "\n",
    "# The actual line\n",
    "TRUE_W = 3.0\n",
    "TRUE_B = 2.0\n",
    "\n",
    "\n",
    "def f(x):\n",
    "    return x * TRUE_W + TRUE_B\n",
    "\n",
    "\n",
    "# Calculate y\n",
    "y = f(x) + noise\n",
    "\n",
    "# instantiate the model\n",
    "linear_model = LinearModel()\n",
    "training_loop(linear_model, x, y)\n",
    "y_pred = linear_model(x)\n",
    "# Plot all the data\n",
    "plt.plot(x, y, '.')\n",
    "plt.plot(x, y_pred.detach().numpy(), '.')  # tensor.detach().numpy()\n",
    "\n",
    "plt.show()"
   ],
   "metadata": {
    "collapsed": false,
    "ExecuteTime": {
     "end_time": "2024-01-27T13:57:37.722977Z",
     "start_time": "2024-01-27T13:57:37.608336Z"
    }
   },
   "id": "bf97a24b8ba0af25",
   "execution_count": 50
  },
  {
   "cell_type": "markdown",
   "source": [
    "## Which framework to use? \n",
    "PyTorch and TensorFlow are two of the most popular deep learning frameworks, and while they share many similarities, there are some key differences between them:\n",
    "\n",
    "**Dynamic vs. Static Computational Graph:**\n",
    "\n",
    "- PyTorch: PyTorch uses a dynamic computational graph. This means that the graph is built on-the-fly as operations are executed. It allows for more flexibility and ease of debugging.\n",
    "- TensorFlow: TensorFlow traditionally used a static computational graph. However, with the introduction of TensorFlow 2.x, eager execution became the default mode, providing a dynamic graph similar to PyTorch. TensorFlow 2.x allows users to switch between static and dynamic graphs.\n",
    "\n",
    "**API Style:**\n",
    "- PyTorch: PyTorch uses a more imperative and Pythonic syntax. It is often considered more intuitive and easier to learn for researchers and beginners.\n",
    "- TensorFlow: TensorFlow has a more declarative and somewhat more verbose syntax. However, TensorFlow 2.x with eager execution is more similar to PyTorch in terms of syntax.\n",
    "  \n",
    "**Community and Adoption:**\n",
    "- PyTorch: PyTorch gained popularity in the research community, and many researchers appreciate its dynamic graph and ease of use. It is often the preferred choice for prototyping and experimentation.\n",
    "- TensorFlow: TensorFlow has been widely adopted in both research and industry. Its static graph mode was historically favored in production settings, and TensorFlow's ecosystem includes many tools for deploying models at scale.\n",
    "\n",
    "**Visualization Tools:**\n",
    "- PyTorch: PyTorch's models can also be visualized in TensorBoard.\n",
    "- TensorFlow: TensorFlow has TensorBoard, which is a powerful visualization tool for monitoring and debugging models during training. It includes features for graph visualization, loss curves, and more.\n",
    "\n",
    "**Ecosystem and Integration:**\n",
    "- PyTorch: PyTorch has a more concise and modular ecosystem. It is often praised for its ease of integration with other libraries and tools.\n",
    "- TensorFlow: TensorFlow has a more extensive ecosystem, including TensorFlow Extended (TFX) for end-to-end machine learning pipelines. It is well-integrated with TensorFlow Lite for mobile and edge devices.\n",
    "\n",
    "**Automatic Differentiation:**\n",
    "- PyTorch: PyTorch uses dynamic computation for automatic differentiation, making it easy to compute gradients of complex operations on-the-fly.\n",
    "- TensorFlow: TensorFlow's eager execution mode and TensorFlow 2.x make automatic differentiation more similar to PyTorch.\n",
    "\n",
    "Additional information: https://www.datacamp.com/tutorial/pytorch-vs-tensorflow-vs-keras"
   ],
   "metadata": {
    "collapsed": false
   },
   "id": "20f8db56b4383533"
  },
  {
   "cell_type": "code",
   "outputs": [],
   "source": [],
   "metadata": {
    "collapsed": false
   },
   "id": "b48c74c91152ef70"
  }
 ],
 "metadata": {
  "kernelspec": {
   "display_name": "Python 3",
   "language": "python",
   "name": "python3"
  },
  "language_info": {
   "codemirror_mode": {
    "name": "ipython",
    "version": 2
   },
   "file_extension": ".py",
   "mimetype": "text/x-python",
   "name": "python",
   "nbconvert_exporter": "python",
   "pygments_lexer": "ipython2",
   "version": "2.7.6"
  }
 },
 "nbformat": 4,
 "nbformat_minor": 5
}
