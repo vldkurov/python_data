{
 "cells": [
  {
   "attachments": {},
   "cell_type": "markdown",
   "id": "993dce8d-57b5-44aa-aed5-2b5610c7e867",
   "metadata": {},
   "source": [
    "# Neural Networks with Keras\n",
    "\n",
    "![keras](https://editor.analyticsvidhya.com/uploads/56846f3ff4855a71201b102f92a733fd5a875.png)"
   ]
  },
  {
   "cell_type": "markdown",
   "id": "d91f0591-2de0-4da5-9d17-b332fff0ff07",
   "metadata": {},
   "source": [
    "## Use Case 1: Iris Dataset"
   ]
  },
  {
   "cell_type": "markdown",
   "id": "03924de8-79a3-4918-9057-2d922c0b2a6c",
   "metadata": {},
   "source": [
    "### Binary classification"
   ]
  },
  {
   "cell_type": "code",
   "execution_count": 1,
   "id": "8697137e-a8d4-4f2c-b690-34dc834a38aa",
   "metadata": {
    "ExecuteTime": {
     "end_time": "2024-02-01T10:32:59.314964Z",
     "start_time": "2024-02-01T10:32:44.594838Z"
    }
   },
   "outputs": [],
   "source": [
    "from keras.models import Sequential\n",
    "from keras.layers import Dense\n",
    "from sklearn.datasets import load_iris\n",
    "from sklearn.model_selection import train_test_split\n",
    "from sklearn.preprocessing import StandardScaler\n",
    "from sklearn.metrics import accuracy_score\n",
    "from keras.utils import to_categorical\n",
    "\n",
    "import matplotlib.pyplot as plt\n",
    "import numpy as np\n",
    "\n",
    "# Load Iris dataset\n",
    "iris = load_iris()\n",
    "X, y = iris.data, iris.target\n",
    "\n",
    "# Binary classification: Setosa or not Setosa\n",
    "y_binary = (y == 0).astype(int)\n",
    "# One-hot encode the target variable"
   ]
  },
  {
   "cell_type": "code",
   "execution_count": 2,
   "id": "d8f45360-3767-46e3-852b-afaa3ce0b093",
   "metadata": {
    "ExecuteTime": {
     "end_time": "2024-02-01T10:32:59.326061Z",
     "start_time": "2024-02-01T10:32:59.318933Z"
    }
   },
   "outputs": [
    {
     "data": {
      "text/plain": "array([1, 1, 1, 1, 1, 1, 1, 1, 1, 1, 1, 1, 1, 1, 1, 1, 1, 1, 1, 1, 1, 1,\n       1, 1, 1, 1, 1, 1, 1, 1, 1, 1, 1, 1, 1, 1, 1, 1, 1, 1, 1, 1, 1, 1,\n       1, 1, 1, 1, 1, 1, 0, 0, 0, 0, 0, 0, 0, 0, 0, 0, 0, 0, 0, 0, 0, 0,\n       0, 0, 0, 0, 0, 0, 0, 0, 0, 0, 0, 0, 0, 0, 0, 0, 0, 0, 0, 0, 0, 0,\n       0, 0, 0, 0, 0, 0, 0, 0, 0, 0, 0, 0, 0, 0, 0, 0, 0, 0, 0, 0, 0, 0,\n       0, 0, 0, 0, 0, 0, 0, 0, 0, 0, 0, 0, 0, 0, 0, 0, 0, 0, 0, 0, 0, 0,\n       0, 0, 0, 0, 0, 0, 0, 0, 0, 0, 0, 0, 0, 0, 0, 0, 0, 0])"
     },
     "execution_count": 2,
     "metadata": {},
     "output_type": "execute_result"
    }
   ],
   "source": [
    "y_binary"
   ]
  },
  {
   "cell_type": "code",
   "execution_count": 3,
   "id": "6e92b7d5-a667-4132-9721-edf8e417f519",
   "metadata": {
    "ExecuteTime": {
     "end_time": "2024-02-01T10:32:59.332901Z",
     "start_time": "2024-02-01T10:32:59.319943Z"
    }
   },
   "outputs": [
    {
     "data": {
      "text/plain": "array([[0., 1.],\n       [0., 1.],\n       [0., 1.],\n       [0., 1.],\n       [0., 1.],\n       [0., 1.],\n       [0., 1.],\n       [0., 1.],\n       [0., 1.],\n       [0., 1.],\n       [0., 1.],\n       [0., 1.],\n       [0., 1.],\n       [0., 1.],\n       [0., 1.],\n       [0., 1.],\n       [0., 1.],\n       [0., 1.],\n       [0., 1.],\n       [0., 1.],\n       [0., 1.],\n       [0., 1.],\n       [0., 1.],\n       [0., 1.],\n       [0., 1.],\n       [0., 1.],\n       [0., 1.],\n       [0., 1.],\n       [0., 1.],\n       [0., 1.],\n       [0., 1.],\n       [0., 1.],\n       [0., 1.],\n       [0., 1.],\n       [0., 1.],\n       [0., 1.],\n       [0., 1.],\n       [0., 1.],\n       [0., 1.],\n       [0., 1.],\n       [0., 1.],\n       [0., 1.],\n       [0., 1.],\n       [0., 1.],\n       [0., 1.],\n       [0., 1.],\n       [0., 1.],\n       [0., 1.],\n       [0., 1.],\n       [0., 1.],\n       [1., 0.],\n       [1., 0.],\n       [1., 0.],\n       [1., 0.],\n       [1., 0.],\n       [1., 0.],\n       [1., 0.],\n       [1., 0.],\n       [1., 0.],\n       [1., 0.],\n       [1., 0.],\n       [1., 0.],\n       [1., 0.],\n       [1., 0.],\n       [1., 0.],\n       [1., 0.],\n       [1., 0.],\n       [1., 0.],\n       [1., 0.],\n       [1., 0.],\n       [1., 0.],\n       [1., 0.],\n       [1., 0.],\n       [1., 0.],\n       [1., 0.],\n       [1., 0.],\n       [1., 0.],\n       [1., 0.],\n       [1., 0.],\n       [1., 0.],\n       [1., 0.],\n       [1., 0.],\n       [1., 0.],\n       [1., 0.],\n       [1., 0.],\n       [1., 0.],\n       [1., 0.],\n       [1., 0.],\n       [1., 0.],\n       [1., 0.],\n       [1., 0.],\n       [1., 0.],\n       [1., 0.],\n       [1., 0.],\n       [1., 0.],\n       [1., 0.],\n       [1., 0.],\n       [1., 0.],\n       [1., 0.],\n       [1., 0.],\n       [1., 0.],\n       [1., 0.],\n       [1., 0.],\n       [1., 0.],\n       [1., 0.],\n       [1., 0.],\n       [1., 0.],\n       [1., 0.],\n       [1., 0.],\n       [1., 0.],\n       [1., 0.],\n       [1., 0.],\n       [1., 0.],\n       [1., 0.],\n       [1., 0.],\n       [1., 0.],\n       [1., 0.],\n       [1., 0.],\n       [1., 0.],\n       [1., 0.],\n       [1., 0.],\n       [1., 0.],\n       [1., 0.],\n       [1., 0.],\n       [1., 0.],\n       [1., 0.],\n       [1., 0.],\n       [1., 0.],\n       [1., 0.],\n       [1., 0.],\n       [1., 0.],\n       [1., 0.],\n       [1., 0.],\n       [1., 0.],\n       [1., 0.],\n       [1., 0.],\n       [1., 0.],\n       [1., 0.],\n       [1., 0.],\n       [1., 0.],\n       [1., 0.],\n       [1., 0.],\n       [1., 0.],\n       [1., 0.],\n       [1., 0.],\n       [1., 0.],\n       [1., 0.],\n       [1., 0.],\n       [1., 0.],\n       [1., 0.]], dtype=float32)"
     },
     "execution_count": 3,
     "metadata": {},
     "output_type": "execute_result"
    }
   ],
   "source": [
    "y_one_hot = to_categorical(y_binary, num_classes=2)\n",
    "y_one_hot"
   ]
  },
  {
   "cell_type": "code",
   "execution_count": 4,
   "id": "c064b172-f76a-4460-b657-eb930e5191ae",
   "metadata": {
    "ExecuteTime": {
     "end_time": "2024-02-01T10:33:00.412628Z",
     "start_time": "2024-02-01T10:32:59.325069Z"
    }
   },
   "outputs": [
    {
     "name": "stdout",
     "output_type": "stream",
     "text": [
      "Epoch 1/50\n",
      "12/12 [==============================] - 0s 11ms/step - loss: 0.9259 - accuracy: 0.2604 - val_loss: 1.0317 - val_accuracy: 0.0833\n",
      "Epoch 2/50\n",
      "12/12 [==============================] - 0s 1ms/step - loss: 0.8884 - accuracy: 0.1146 - val_loss: 0.9752 - val_accuracy: 0.0417\n",
      "Epoch 3/50\n",
      "12/12 [==============================] - 0s 1ms/step - loss: 0.8555 - accuracy: 0.0521 - val_loss: 0.9238 - val_accuracy: 0.0417\n",
      "Epoch 4/50\n",
      "12/12 [==============================] - 0s 1ms/step - loss: 0.8245 - accuracy: 0.0729 - val_loss: 0.8793 - val_accuracy: 0.0417\n",
      "Epoch 5/50\n",
      "12/12 [==============================] - 0s 1ms/step - loss: 0.7971 - accuracy: 0.1146 - val_loss: 0.8399 - val_accuracy: 0.1667\n",
      "Epoch 6/50\n",
      "12/12 [==============================] - 0s 1ms/step - loss: 0.7736 - accuracy: 0.1250 - val_loss: 0.8035 - val_accuracy: 0.2083\n",
      "Epoch 7/50\n",
      "12/12 [==============================] - 0s 1ms/step - loss: 0.7509 - accuracy: 0.1979 - val_loss: 0.7724 - val_accuracy: 0.2500\n",
      "Epoch 8/50\n",
      "12/12 [==============================] - 0s 1ms/step - loss: 0.7311 - accuracy: 0.3125 - val_loss: 0.7436 - val_accuracy: 0.3333\n",
      "Epoch 9/50\n",
      "12/12 [==============================] - 0s 1ms/step - loss: 0.7138 - accuracy: 0.4271 - val_loss: 0.7158 - val_accuracy: 0.4583\n",
      "Epoch 10/50\n",
      "12/12 [==============================] - 0s 1ms/step - loss: 0.6963 - accuracy: 0.5000 - val_loss: 0.6911 - val_accuracy: 0.5833\n",
      "Epoch 11/50\n",
      "12/12 [==============================] - 0s 1ms/step - loss: 0.6802 - accuracy: 0.5938 - val_loss: 0.6681 - val_accuracy: 0.7083\n",
      "Epoch 12/50\n",
      "12/12 [==============================] - 0s 1ms/step - loss: 0.6644 - accuracy: 0.6562 - val_loss: 0.6473 - val_accuracy: 0.7083\n",
      "Epoch 13/50\n",
      "12/12 [==============================] - 0s 1ms/step - loss: 0.6502 - accuracy: 0.6771 - val_loss: 0.6269 - val_accuracy: 0.8750\n",
      "Epoch 14/50\n",
      "12/12 [==============================] - 0s 1ms/step - loss: 0.6352 - accuracy: 0.7500 - val_loss: 0.6085 - val_accuracy: 0.9583\n",
      "Epoch 15/50\n",
      "12/12 [==============================] - 0s 1ms/step - loss: 0.6213 - accuracy: 0.8125 - val_loss: 0.5901 - val_accuracy: 0.9583\n",
      "Epoch 16/50\n",
      "12/12 [==============================] - 0s 1ms/step - loss: 0.6069 - accuracy: 0.8750 - val_loss: 0.5728 - val_accuracy: 0.9583\n",
      "Epoch 17/50\n",
      "12/12 [==============================] - 0s 1ms/step - loss: 0.5933 - accuracy: 0.9062 - val_loss: 0.5548 - val_accuracy: 1.0000\n",
      "Epoch 18/50\n",
      "12/12 [==============================] - 0s 1ms/step - loss: 0.5787 - accuracy: 0.9479 - val_loss: 0.5383 - val_accuracy: 1.0000\n",
      "Epoch 19/50\n",
      "12/12 [==============================] - 0s 1ms/step - loss: 0.5648 - accuracy: 0.9688 - val_loss: 0.5217 - val_accuracy: 1.0000\n",
      "Epoch 20/50\n",
      "12/12 [==============================] - 0s 1ms/step - loss: 0.5503 - accuracy: 0.9896 - val_loss: 0.5058 - val_accuracy: 1.0000\n",
      "Epoch 21/50\n",
      "12/12 [==============================] - 0s 1ms/step - loss: 0.5360 - accuracy: 1.0000 - val_loss: 0.4901 - val_accuracy: 1.0000\n",
      "Epoch 22/50\n",
      "12/12 [==============================] - 0s 1ms/step - loss: 0.5216 - accuracy: 1.0000 - val_loss: 0.4738 - val_accuracy: 1.0000\n",
      "Epoch 23/50\n",
      "12/12 [==============================] - 0s 1ms/step - loss: 0.5065 - accuracy: 1.0000 - val_loss: 0.4582 - val_accuracy: 1.0000\n",
      "Epoch 24/50\n",
      "12/12 [==============================] - 0s 1ms/step - loss: 0.4919 - accuracy: 1.0000 - val_loss: 0.4430 - val_accuracy: 1.0000\n",
      "Epoch 25/50\n",
      "12/12 [==============================] - 0s 1ms/step - loss: 0.4770 - accuracy: 1.0000 - val_loss: 0.4276 - val_accuracy: 1.0000\n",
      "Epoch 26/50\n",
      "12/12 [==============================] - 0s 1ms/step - loss: 0.4621 - accuracy: 1.0000 - val_loss: 0.4129 - val_accuracy: 1.0000\n",
      "Epoch 27/50\n",
      "12/12 [==============================] - 0s 1ms/step - loss: 0.4471 - accuracy: 1.0000 - val_loss: 0.3980 - val_accuracy: 1.0000\n",
      "Epoch 28/50\n",
      "12/12 [==============================] - 0s 1ms/step - loss: 0.4322 - accuracy: 1.0000 - val_loss: 0.3838 - val_accuracy: 1.0000\n",
      "Epoch 29/50\n",
      "12/12 [==============================] - 0s 1ms/step - loss: 0.4175 - accuracy: 1.0000 - val_loss: 0.3693 - val_accuracy: 1.0000\n",
      "Epoch 30/50\n",
      "12/12 [==============================] - 0s 1ms/step - loss: 0.4027 - accuracy: 1.0000 - val_loss: 0.3553 - val_accuracy: 1.0000\n",
      "Epoch 31/50\n",
      "12/12 [==============================] - 0s 1ms/step - loss: 0.3880 - accuracy: 1.0000 - val_loss: 0.3415 - val_accuracy: 1.0000\n",
      "Epoch 32/50\n",
      "12/12 [==============================] - 0s 1ms/step - loss: 0.3738 - accuracy: 1.0000 - val_loss: 0.3282 - val_accuracy: 1.0000\n",
      "Epoch 33/50\n",
      "12/12 [==============================] - 0s 1ms/step - loss: 0.3595 - accuracy: 1.0000 - val_loss: 0.3152 - val_accuracy: 1.0000\n",
      "Epoch 34/50\n",
      "12/12 [==============================] - 0s 1ms/step - loss: 0.3455 - accuracy: 1.0000 - val_loss: 0.3025 - val_accuracy: 1.0000\n",
      "Epoch 35/50\n",
      "12/12 [==============================] - 0s 1ms/step - loss: 0.3319 - accuracy: 1.0000 - val_loss: 0.2900 - val_accuracy: 1.0000\n",
      "Epoch 36/50\n",
      "12/12 [==============================] - 0s 1ms/step - loss: 0.3184 - accuracy: 1.0000 - val_loss: 0.2779 - val_accuracy: 1.0000\n",
      "Epoch 37/50\n",
      "12/12 [==============================] - 0s 1ms/step - loss: 0.3056 - accuracy: 1.0000 - val_loss: 0.2663 - val_accuracy: 1.0000\n",
      "Epoch 38/50\n",
      "12/12 [==============================] - 0s 1ms/step - loss: 0.2930 - accuracy: 1.0000 - val_loss: 0.2551 - val_accuracy: 1.0000\n",
      "Epoch 39/50\n",
      "12/12 [==============================] - 0s 1ms/step - loss: 0.2805 - accuracy: 1.0000 - val_loss: 0.2441 - val_accuracy: 1.0000\n",
      "Epoch 40/50\n",
      "12/12 [==============================] - 0s 1ms/step - loss: 0.2685 - accuracy: 1.0000 - val_loss: 0.2335 - val_accuracy: 1.0000\n",
      "Epoch 41/50\n",
      "12/12 [==============================] - 0s 1ms/step - loss: 0.2569 - accuracy: 1.0000 - val_loss: 0.2233 - val_accuracy: 1.0000\n",
      "Epoch 42/50\n",
      "12/12 [==============================] - 0s 1ms/step - loss: 0.2458 - accuracy: 1.0000 - val_loss: 0.2134 - val_accuracy: 1.0000\n",
      "Epoch 43/50\n",
      "12/12 [==============================] - 0s 1ms/step - loss: 0.2348 - accuracy: 1.0000 - val_loss: 0.2040 - val_accuracy: 1.0000\n",
      "Epoch 44/50\n",
      "12/12 [==============================] - 0s 1ms/step - loss: 0.2245 - accuracy: 1.0000 - val_loss: 0.1950 - val_accuracy: 1.0000\n",
      "Epoch 45/50\n",
      "12/12 [==============================] - 0s 1ms/step - loss: 0.2143 - accuracy: 1.0000 - val_loss: 0.1863 - val_accuracy: 1.0000\n",
      "Epoch 46/50\n",
      "12/12 [==============================] - 0s 1ms/step - loss: 0.2048 - accuracy: 1.0000 - val_loss: 0.1779 - val_accuracy: 1.0000\n",
      "Epoch 47/50\n",
      "12/12 [==============================] - 0s 1ms/step - loss: 0.1957 - accuracy: 1.0000 - val_loss: 0.1701 - val_accuracy: 1.0000\n",
      "Epoch 48/50\n",
      "12/12 [==============================] - 0s 1ms/step - loss: 0.1868 - accuracy: 1.0000 - val_loss: 0.1626 - val_accuracy: 1.0000\n",
      "Epoch 49/50\n",
      "12/12 [==============================] - 0s 1ms/step - loss: 0.1784 - accuracy: 1.0000 - val_loss: 0.1555 - val_accuracy: 1.0000\n",
      "Epoch 50/50\n",
      "12/12 [==============================] - 0s 1ms/step - loss: 0.1704 - accuracy: 1.0000 - val_loss: 0.1485 - val_accuracy: 1.0000\n",
      "1/1 [==============================] - 0s 26ms/step\n",
      "1/1 [==============================] - 0s 32ms/step - loss: 0.1517 - accuracy: 1.0000\n",
      "Test Accuracy: 1.0\n"
     ]
    }
   ],
   "source": [
    "# Split the data into training and testing sets\n",
    "X_train, X_test, y_train, y_test = train_test_split(X, y_one_hot, test_size=0.2, random_state=42)\n",
    "\n",
    "# Standardize the input features\n",
    "scaler = StandardScaler()\n",
    "X_train = scaler.fit_transform(X_train)\n",
    "X_test = scaler.transform(X_test)\n",
    "\n",
    "# Build a simple neural network\n",
    "model = Sequential()\n",
    "model.add(Dense(units=8, activation='relu', input_dim=X_train.shape[1]))\n",
    "model.add(Dense(units=2, activation='sigmoid'))\n",
    "\n",
    "# Compile the model\n",
    "model.compile(optimizer='adam', loss='binary_crossentropy', metrics=['accuracy'])\n",
    "\n",
    "# Train the model\n",
    "# model.fit(X_train, y_train, epochs=50, batch_size=8, verbose=1)\n",
    "# model.fit(X_train, y_train, epochs=50, batch_size=8, validation_split=0.2, verbose=1)\n",
    "\n",
    "history = model.fit(X_train, y_train, epochs=50, batch_size=8, validation_split=0.2, verbose=1)\n",
    "\n",
    "# Predict raw probabilities\n",
    "y_pred_prob = model.predict(X_test)\n",
    "y_pred = np.argmax(y_pred_prob, axis=1).reshape(-1, 1)\n",
    "\n",
    "# Evaluate the model on the test set\n",
    "test_loss, test_accuracy = model.evaluate(X_test, y_test)\n",
    "print(f\"Test Accuracy: {test_accuracy}\")\n"
   ]
  },
  {
   "cell_type": "code",
   "execution_count": 5,
   "id": "76619980-fc48-4791-bdaf-534d02f631d8",
   "metadata": {
    "ExecuteTime": {
     "end_time": "2024-02-01T10:33:00.446950Z",
     "start_time": "2024-02-01T10:33:00.413122Z"
    }
   },
   "outputs": [
    {
     "name": "stdout",
     "output_type": "stream",
     "text": [
      "1/1 [==============================] - 0s 6ms/step\n"
     ]
    },
    {
     "data": {
      "text/plain": "array([[0],\n       [1],\n       [0],\n       [0],\n       [0],\n       [1],\n       [0],\n       [0],\n       [0],\n       [0],\n       [0],\n       [1],\n       [1],\n       [1],\n       [1],\n       [0],\n       [0],\n       [0],\n       [0],\n       [0],\n       [1],\n       [0],\n       [1],\n       [0],\n       [0],\n       [0],\n       [0],\n       [0],\n       [1],\n       [1]])"
     },
     "execution_count": 5,
     "metadata": {},
     "output_type": "execute_result"
    }
   ],
   "source": [
    "y_pred_prob = model.predict(X_test)\n",
    "# y_pred_prob\n",
    "y_pred = np.argmax(y_pred_prob, axis=1).reshape(-1, 1)\n",
    "y_pred"
   ]
  },
  {
   "cell_type": "code",
   "execution_count": 6,
   "id": "5c1c5b2c-ebc4-464e-9dbe-3d0c66e922d2",
   "metadata": {
    "ExecuteTime": {
     "end_time": "2024-02-01T10:33:00.449127Z",
     "start_time": "2024-02-01T10:33:00.433916Z"
    }
   },
   "outputs": [
    {
     "name": "stdout",
     "output_type": "stream",
     "text": [
      "Model: \"sequential\"\n",
      "_________________________________________________________________\n",
      " Layer (type)                Output Shape              Param #   \n",
      "=================================================================\n",
      " dense (Dense)               (None, 8)                 40        \n",
      "                                                                 \n",
      " dense_1 (Dense)             (None, 2)                 18        \n",
      "                                                                 \n",
      "=================================================================\n",
      "Total params: 58 (232.00 Byte)\n",
      "Trainable params: 58 (232.00 Byte)\n",
      "Non-trainable params: 0 (0.00 Byte)\n",
      "_________________________________________________________________\n"
     ]
    }
   ],
   "source": [
    "model.summary()\n",
    "\n",
    "# dense -- (x*w + b) -- 4 input features, 8 output features, 8 bias -- 4*8 + 8 = 32 + 8 = 40\n",
    "# dense_1 -- (x*w + b) -- 8 input features, 2 output features, 2 bias -- 8*2 + 2 = 16 + 2 = 18\n"
   ]
  },
  {
   "cell_type": "code",
   "execution_count": 7,
   "id": "27b23b0f-0813-4b77-ad8f-0da24e254ca9",
   "metadata": {
    "ExecuteTime": {
     "end_time": "2024-02-01T10:33:00.450328Z",
     "start_time": "2024-02-01T10:33:00.441240Z"
    }
   },
   "outputs": [
    {
     "data": {
      "text/plain": "4"
     },
     "execution_count": 7,
     "metadata": {},
     "output_type": "execute_result"
    }
   ],
   "source": [
    "X_train.shape[1]"
   ]
  },
  {
   "cell_type": "code",
   "execution_count": 8,
   "id": "1d65ad8e-260f-4562-a17d-164e1f777151",
   "metadata": {
    "ExecuteTime": {
     "end_time": "2024-02-01T10:33:02.339540Z",
     "start_time": "2024-02-01T10:33:00.446317Z"
    }
   },
   "outputs": [
    {
     "name": "stdout",
     "output_type": "stream",
     "text": [
      "4343/4343 [==============================] - 1s 229us/step\n"
     ]
    },
    {
     "data": {
      "text/plain": "<Figure size 640x480 with 1 Axes>",
      "image/png": "[encoded data removed]"
     },
     "metadata": {},
     "output_type": "display_data"
    }
   ],
   "source": [
    "# understand the underlying data\n",
    "from sklearn.decomposition import PCA\n",
    "\n",
    "def display_decision_boundary(X, y_true, model):\n",
    "    pca = PCA(n_components=2)\n",
    "    # train\n",
    "    X_pca = pca.fit_transform(X)\n",
    "    \n",
    "    # Plot decision boundary in the 2D PCA space\n",
    "    h = .02  # step size in the mesh\n",
    "    x_min, x_max = X_pca[:, 0].min() - 1, X_pca[:, 0].max() + 1\n",
    "    y_min, y_max = X_pca[:, 1].min() - 1, X_pca[:, 1].max() + 1\n",
    "    xx, yy = np.meshgrid(np.arange(x_min, x_max, h), np.arange(y_min, y_max, h))\n",
    "    Z = model.predict(pca.inverse_transform(np.c_[xx.ravel(), yy.ravel()]))\n",
    "    # Predict raw probabilities\n",
    "    y_pred = np.argmax(Z, axis=1).reshape(-1, 1)\n",
    "\n",
    "    # Put the result into a color plot\n",
    "    Z = y_pred.reshape(xx.shape)\n",
    "    \n",
    "    plt.contourf(xx, yy, Z, cmap=plt.cm.RdBu, alpha=0.8)\n",
    "    plt.scatter(X_pca[:, 0], X_pca[:, 1], c=np.argmax(y_true, axis=1).reshape(-1, 1), edgecolors='k', cmap=plt.cm.RdBu, marker='o', s=80)\n",
    "    plt.title('Keras Decision Boundary in 2D PCA Space')\n",
    "    plt.xlabel('Principal Component 1')\n",
    "    plt.ylabel('Principal Component 2')\n",
    "    plt.show()\n",
    "\n",
    "display_decision_boundary(X_train, y_train, model)"
   ]
  },
  {
   "cell_type": "code",
   "execution_count": 9,
   "id": "da95fc43-fb8f-4577-a033-47a27d489036",
   "metadata": {
    "ExecuteTime": {
     "end_time": "2024-02-01T10:33:03.622152Z",
     "start_time": "2024-02-01T10:33:02.339297Z"
    }
   },
   "outputs": [
    {
     "name": "stdout",
     "output_type": "stream",
     "text": [
      "3608/3608 [==============================] - 1s 226us/step\n"
     ]
    },
    {
     "data": {
      "text/plain": "<Figure size 640x480 with 1 Axes>",
      "image/png": "[encoded data removed]"
     },
     "metadata": {},
     "output_type": "display_data"
    }
   ],
   "source": [
    "import numpy as np\n",
    "\n",
    "display_decision_boundary(X_test, y_test, model)"
   ]
  },
  {
   "cell_type": "code",
   "execution_count": 10,
   "id": "b2a8d94e-c790-4ea2-a8a5-b4c2b92c2200",
   "metadata": {
    "ExecuteTime": {
     "end_time": "2024-02-01T10:33:03.692442Z",
     "start_time": "2024-02-01T10:33:03.635767Z"
    }
   },
   "outputs": [
    {
     "data": {
      "text/plain": "<Figure size 640x480 with 1 Axes>",
      "image/png": "[encoded data removed]"
     },
     "metadata": {},
     "output_type": "display_data"
    }
   ],
   "source": [
    "# Plot training and validation loss\n",
    "plt.plot(history.history['loss'], label='Training Loss')\n",
    "plt.plot(history.history['val_loss'], label='Validation Loss')\n",
    "plt.legend()\n",
    "plt.show()"
   ]
  },
  {
   "cell_type": "code",
   "execution_count": 11,
   "id": "512ffc00-ebce-4a24-9f76-9479ca0a09fd",
   "metadata": {
    "ExecuteTime": {
     "end_time": "2024-02-01T10:33:03.765493Z",
     "start_time": "2024-02-01T10:33:03.709123Z"
    }
   },
   "outputs": [
    {
     "data": {
      "text/plain": "<Figure size 640x480 with 1 Axes>",
      "image/png": "[encoded data removed]"
     },
     "metadata": {},
     "output_type": "display_data"
    }
   ],
   "source": [
    "# Plot training and validation accuracy\n",
    "plt.plot(history.history['accuracy'], label='Training Accuracy')\n",
    "plt.plot(history.history['val_accuracy'], label='Validation Accuracy')\n",
    "plt.legend()\n",
    "plt.show()"
   ]
  },
  {
   "cell_type": "code",
   "execution_count": 12,
   "id": "3c43bcb1-4249-4fda-b47e-501d03ef041d",
   "metadata": {
    "ExecuteTime": {
     "end_time": "2024-02-01T10:33:04.748418Z",
     "start_time": "2024-02-01T10:33:03.767820Z"
    }
   },
   "outputs": [
    {
     "name": "stdout",
     "output_type": "stream",
     "text": [
      "Epoch 1/50\n",
      "12/12 [==============================] - 0s 5ms/step - loss: 0.6749 - accuracy: 0.6771 - val_loss: 0.5989 - val_accuracy: 1.0000\n",
      "Epoch 2/50\n",
      "12/12 [==============================] - 0s 1ms/step - loss: 0.6327 - accuracy: 0.7396 - val_loss: 0.5732 - val_accuracy: 1.0000\n",
      "Epoch 3/50\n",
      "12/12 [==============================] - 0s 1ms/step - loss: 0.6133 - accuracy: 0.7812 - val_loss: 0.5486 - val_accuracy: 1.0000\n",
      "Epoch 4/50\n",
      "12/12 [==============================] - 0s 1ms/step - loss: 0.6063 - accuracy: 0.7812 - val_loss: 0.5250 - val_accuracy: 1.0000\n",
      "Epoch 5/50\n",
      "12/12 [==============================] - 0s 1ms/step - loss: 0.5999 - accuracy: 0.7708 - val_loss: 0.5022 - val_accuracy: 1.0000\n",
      "Epoch 6/50\n",
      "12/12 [==============================] - 0s 1ms/step - loss: 0.5537 - accuracy: 0.8438 - val_loss: 0.4801 - val_accuracy: 1.0000\n",
      "Epoch 7/50\n",
      "12/12 [==============================] - 0s 1ms/step - loss: 0.5150 - accuracy: 0.8438 - val_loss: 0.4605 - val_accuracy: 1.0000\n",
      "Epoch 8/50\n",
      "12/12 [==============================] - 0s 1ms/step - loss: 0.5171 - accuracy: 0.8333 - val_loss: 0.4408 - val_accuracy: 1.0000\n",
      "Epoch 9/50\n",
      "12/12 [==============================] - 0s 1ms/step - loss: 0.4959 - accuracy: 0.8333 - val_loss: 0.4216 - val_accuracy: 1.0000\n",
      "Epoch 10/50\n",
      "12/12 [==============================] - 0s 1ms/step - loss: 0.4960 - accuracy: 0.8542 - val_loss: 0.4046 - val_accuracy: 1.0000\n",
      "Epoch 11/50\n",
      "12/12 [==============================] - 0s 1ms/step - loss: 0.4855 - accuracy: 0.8542 - val_loss: 0.3879 - val_accuracy: 1.0000\n",
      "Epoch 12/50\n",
      "12/12 [==============================] - 0s 1ms/step - loss: 0.4653 - accuracy: 0.8750 - val_loss: 0.3717 - val_accuracy: 1.0000\n",
      "Epoch 13/50\n",
      "12/12 [==============================] - 0s 1ms/step - loss: 0.4577 - accuracy: 0.8438 - val_loss: 0.3556 - val_accuracy: 1.0000\n",
      "Epoch 14/50\n",
      "12/12 [==============================] - 0s 1ms/step - loss: 0.4322 - accuracy: 0.8646 - val_loss: 0.3398 - val_accuracy: 1.0000\n",
      "Epoch 15/50\n",
      "12/12 [==============================] - 0s 1ms/step - loss: 0.3933 - accuracy: 0.9062 - val_loss: 0.3232 - val_accuracy: 1.0000\n",
      "Epoch 16/50\n",
      "12/12 [==============================] - 0s 1ms/step - loss: 0.4293 - accuracy: 0.8750 - val_loss: 0.3075 - val_accuracy: 1.0000\n",
      "Epoch 17/50\n",
      "12/12 [==============================] - 0s 1ms/step - loss: 0.3831 - accuracy: 0.8854 - val_loss: 0.2932 - val_accuracy: 1.0000\n",
      "Epoch 18/50\n",
      "12/12 [==============================] - 0s 1ms/step - loss: 0.3656 - accuracy: 0.8854 - val_loss: 0.2789 - val_accuracy: 1.0000\n",
      "Epoch 19/50\n",
      "12/12 [==============================] - 0s 1ms/step - loss: 0.3918 - accuracy: 0.8750 - val_loss: 0.2658 - val_accuracy: 1.0000\n",
      "Epoch 20/50\n",
      "12/12 [==============================] - 0s 1ms/step - loss: 0.3690 - accuracy: 0.8958 - val_loss: 0.2540 - val_accuracy: 1.0000\n",
      "Epoch 21/50\n",
      "12/12 [==============================] - 0s 1ms/step - loss: 0.3444 - accuracy: 0.8854 - val_loss: 0.2419 - val_accuracy: 1.0000\n",
      "Epoch 22/50\n",
      "12/12 [==============================] - 0s 1ms/step - loss: 0.3589 - accuracy: 0.8333 - val_loss: 0.2301 - val_accuracy: 1.0000\n",
      "Epoch 23/50\n",
      "12/12 [==============================] - 0s 995us/step - loss: 0.3564 - accuracy: 0.8646 - val_loss: 0.2201 - val_accuracy: 1.0000\n",
      "Epoch 24/50\n",
      "12/12 [==============================] - 0s 1ms/step - loss: 0.3183 - accuracy: 0.9062 - val_loss: 0.2099 - val_accuracy: 1.0000\n",
      "Epoch 25/50\n",
      "12/12 [==============================] - 0s 1ms/step - loss: 0.3037 - accuracy: 0.8958 - val_loss: 0.1996 - val_accuracy: 1.0000\n",
      "Epoch 26/50\n",
      "12/12 [==============================] - 0s 1ms/step - loss: 0.3236 - accuracy: 0.8854 - val_loss: 0.1899 - val_accuracy: 1.0000\n",
      "Epoch 27/50\n",
      "12/12 [==============================] - 0s 1ms/step - loss: 0.2657 - accuracy: 0.9375 - val_loss: 0.1805 - val_accuracy: 1.0000\n",
      "Epoch 28/50\n",
      "12/12 [==============================] - 0s 1ms/step - loss: 0.2786 - accuracy: 0.9375 - val_loss: 0.1714 - val_accuracy: 1.0000\n",
      "Epoch 29/50\n",
      "12/12 [==============================] - 0s 1ms/step - loss: 0.2790 - accuracy: 0.9062 - val_loss: 0.1633 - val_accuracy: 1.0000\n",
      "Epoch 30/50\n",
      "12/12 [==============================] - 0s 1ms/step - loss: 0.2868 - accuracy: 0.8958 - val_loss: 0.1559 - val_accuracy: 1.0000\n",
      "Epoch 31/50\n",
      "12/12 [==============================] - 0s 1ms/step - loss: 0.2503 - accuracy: 0.9167 - val_loss: 0.1488 - val_accuracy: 1.0000\n",
      "Epoch 32/50\n",
      "12/12 [==============================] - 0s 1ms/step - loss: 0.2572 - accuracy: 0.9688 - val_loss: 0.1421 - val_accuracy: 1.0000\n",
      "Epoch 33/50\n",
      "12/12 [==============================] - 0s 1ms/step - loss: 0.2254 - accuracy: 0.9583 - val_loss: 0.1353 - val_accuracy: 1.0000\n",
      "Epoch 34/50\n",
      "12/12 [==============================] - 0s 1ms/step - loss: 0.2186 - accuracy: 0.9688 - val_loss: 0.1289 - val_accuracy: 1.0000\n",
      "Epoch 35/50\n",
      "12/12 [==============================] - 0s 1ms/step - loss: 0.2288 - accuracy: 0.9479 - val_loss: 0.1229 - val_accuracy: 1.0000\n",
      "Epoch 36/50\n",
      "12/12 [==============================] - 0s 1ms/step - loss: 0.2421 - accuracy: 0.9479 - val_loss: 0.1172 - val_accuracy: 1.0000\n",
      "Epoch 37/50\n",
      "12/12 [==============================] - 0s 1ms/step - loss: 0.2328 - accuracy: 0.9479 - val_loss: 0.1119 - val_accuracy: 1.0000\n",
      "Epoch 38/50\n",
      "12/12 [==============================] - 0s 1ms/step - loss: 0.2092 - accuracy: 0.9583 - val_loss: 0.1069 - val_accuracy: 1.0000\n",
      "Epoch 39/50\n",
      "12/12 [==============================] - 0s 1ms/step - loss: 0.2189 - accuracy: 0.9375 - val_loss: 0.1022 - val_accuracy: 1.0000\n",
      "Epoch 40/50\n",
      "12/12 [==============================] - 0s 1ms/step - loss: 0.2274 - accuracy: 0.9583 - val_loss: 0.0973 - val_accuracy: 1.0000\n",
      "Epoch 41/50\n",
      "12/12 [==============================] - 0s 991us/step - loss: 0.2149 - accuracy: 0.9583 - val_loss: 0.0930 - val_accuracy: 1.0000\n",
      "Epoch 42/50\n",
      "12/12 [==============================] - 0s 1ms/step - loss: 0.2001 - accuracy: 0.9479 - val_loss: 0.0886 - val_accuracy: 1.0000\n",
      "Epoch 43/50\n",
      "12/12 [==============================] - 0s 1ms/step - loss: 0.2340 - accuracy: 0.9375 - val_loss: 0.0846 - val_accuracy: 1.0000\n",
      "Epoch 44/50\n",
      "12/12 [==============================] - 0s 1ms/step - loss: 0.1756 - accuracy: 0.9896 - val_loss: 0.0809 - val_accuracy: 1.0000\n",
      "Epoch 45/50\n",
      "12/12 [==============================] - 0s 1ms/step - loss: 0.2068 - accuracy: 0.9271 - val_loss: 0.0773 - val_accuracy: 1.0000\n",
      "Epoch 46/50\n",
      "12/12 [==============================] - 0s 1ms/step - loss: 0.2080 - accuracy: 0.9479 - val_loss: 0.0737 - val_accuracy: 1.0000\n",
      "Epoch 47/50\n",
      "12/12 [==============================] - 0s 1ms/step - loss: 0.1710 - accuracy: 0.9688 - val_loss: 0.0704 - val_accuracy: 1.0000\n",
      "Epoch 48/50\n",
      "12/12 [==============================] - 0s 1ms/step - loss: 0.1821 - accuracy: 0.9583 - val_loss: 0.0673 - val_accuracy: 1.0000\n",
      "Epoch 49/50\n",
      "12/12 [==============================] - 0s 1ms/step - loss: 0.2123 - accuracy: 0.9583 - val_loss: 0.0643 - val_accuracy: 1.0000\n",
      "Epoch 50/50\n",
      "12/12 [==============================] - 0s 999us/step - loss: 0.1903 - accuracy: 0.9479 - val_loss: 0.0617 - val_accuracy: 1.0000\n",
      "1/1 [==============================] - 0s 16ms/step\n",
      "1/1 [==============================] - 0s 32ms/step - loss: 0.0625 - accuracy: 1.0000\n",
      "Test Accuracy: 1.0\n"
     ]
    }
   ],
   "source": [
    "from keras.layers import Dropout\n",
    "\n",
    "# Build a neural network with dropout\n",
    "model = Sequential()\n",
    "model.add(Dense(units=8, activation='relu', input_dim=X_train.shape[1]))\n",
    "model.add(Dropout(0.5))  # Add dropout layer\n",
    "model.add(Dense(units=2, activation='sigmoid'))\n",
    "\n",
    "# Compile the model\n",
    "model.compile(optimizer='adam', loss='binary_crossentropy', metrics=['accuracy'])\n",
    "\n",
    "# Train the model\n",
    "# model.fit(X_train, y_train, epochs=50, batch_size=8, verbose=1)\n",
    "# model.fit(X_train, y_train, epochs=50, batch_size=8, validation_split=0.2, verbose=1)\n",
    "\n",
    "history = model.fit(X_train, y_train, epochs=50, batch_size=8, validation_split=0.2, verbose=1)\n",
    "\n",
    "# Predict raw probabilities\n",
    "y_pred_prob = model.predict(X_test)\n",
    "y_pred = np.argmax(y_pred_prob, axis=1).reshape(-1, 1)\n",
    "\n",
    "# Evaluate the model on the test set\n",
    "test_loss, test_accuracy = model.evaluate(X_test, y_test)\n",
    "print(f\"Test Accuracy: {test_accuracy}\")\n"
   ]
  },
  {
   "cell_type": "code",
   "execution_count": 13,
   "id": "b56a816d-657a-43ec-adba-3640ae708a61",
   "metadata": {
    "ExecuteTime": {
     "end_time": "2024-02-01T10:33:04.823703Z",
     "start_time": "2024-02-01T10:33:04.759345Z"
    }
   },
   "outputs": [
    {
     "data": {
      "text/plain": "<Figure size 640x480 with 1 Axes>",
      "image/png": "[encoded data removed]"
     },
     "metadata": {},
     "output_type": "display_data"
    }
   ],
   "source": [
    "# Plot training and validation loss\n",
    "plt.plot(history.history['loss'], label='Training Loss')\n",
    "plt.plot(history.history['val_loss'], label='Validation Loss')\n",
    "plt.legend()\n",
    "plt.show()"
   ]
  },
  {
   "cell_type": "code",
   "execution_count": 14,
   "id": "c8bb9d92-f22f-4f9f-b697-39ac2bd18ffe",
   "metadata": {
    "ExecuteTime": {
     "end_time": "2024-02-01T10:33:04.891109Z",
     "start_time": "2024-02-01T10:33:04.825407Z"
    }
   },
   "outputs": [
    {
     "data": {
      "text/plain": "<Figure size 640x480 with 1 Axes>",
      "image/png": "[encoded data removed]"
     },
     "metadata": {},
     "output_type": "display_data"
    }
   ],
   "source": [
    "# Plot training and validation accuracy\n",
    "plt.plot(history.history['accuracy'], label='Training Accuracy')\n",
    "plt.plot(history.history['val_accuracy'], label='Validation Accuracy')\n",
    "plt.legend()\n",
    "plt.show()"
   ]
  },
  {
   "cell_type": "markdown",
   "id": "d5fe7411-c66c-45aa-aa3d-169da7636e64",
   "metadata": {},
   "source": [
    "### Multi-class prediction"
   ]
  },
  {
   "cell_type": "code",
   "execution_count": 15,
   "id": "fc5377f4-af00-4315-bed0-8a978b28923c",
   "metadata": {
    "ExecuteTime": {
     "end_time": "2024-02-01T10:33:04.894231Z",
     "start_time": "2024-02-01T10:33:04.892165Z"
    }
   },
   "outputs": [
    {
     "ename": "SyntaxError",
     "evalue": "invalid syntax (295444321.py, line 1)",
     "output_type": "error",
     "traceback": [
      "\u001B[0;36m  Cell \u001B[0;32mIn[15], line 1\u001B[0;36m\u001B[0m\n\u001B[0;31m    https://colab.research.google.com/drive/1BhKRmnAx4KZsXazfl1oJ-NN7p1XYfUz9?hl=de#scrollTo=ixeJHZIiHjvh\u001B[0m\n\u001B[0m          ^\u001B[0m\n\u001B[0;31mSyntaxError\u001B[0m\u001B[0;31m:\u001B[0m invalid syntax\n"
     ]
    }
   ],
   "source": [
    "https://colab.research.google.com/drive/1BhKRmnAx4KZsXazfl1oJ-NN7p1XYfUz9?hl=de#scrollTo=ixeJHZIiHjvh"
   ]
  },
  {
   "cell_type": "code",
   "execution_count": null,
   "id": "e4e0c5b9-316c-41b4-9514-942089466586",
   "metadata": {
    "ExecuteTime": {
     "end_time": "2024-02-01T10:33:04.943008Z",
     "start_time": "2024-02-01T10:33:04.896977Z"
    }
   },
   "outputs": [],
   "source": [
    "# One-hot encode the target variable\n",
    "y_one_hot = to_categorical(y, num_classes=3)\n",
    "y_one_hot"
   ]
  },
  {
   "cell_type": "code",
   "execution_count": null,
   "id": "207aa13d-cf74-442e-b580-ab20dc0328cf",
   "metadata": {
    "ExecuteTime": {
     "start_time": "2024-02-01T10:33:04.904318Z"
    }
   },
   "outputs": [],
   "source": [
    "from keras.models import Sequential\n",
    "from keras.layers import Dense\n",
    "from sklearn.datasets import load_iris\n",
    "from sklearn.model_selection import train_test_split\n",
    "from sklearn.preprocessing import StandardScaler\n",
    "from keras.utils import to_categorical\n",
    "import time\n",
    "\n",
    "# Load Iris dataset\n",
    "iris = load_iris()\n",
    "X, y = iris.data, iris.target\n",
    "\n",
    "# One-hot encode the target variable\n",
    "y_one_hot = to_categorical(y, num_classes=3)\n",
    "\n",
    "# Split the data into training and testing sets\n",
    "X_train, X_test, y_train, y_test = train_test_split(X, y_one_hot, test_size=0.2, random_state=42)\n",
    "\n",
    "# Standardize the input features\n",
    "scaler = StandardScaler()\n",
    "X_train = scaler.fit_transform(X_train)\n",
    "X_test = scaler.transform(X_test)\n",
    "\n",
    "\n",
    "## TODO compare CPU and GPU\n",
    "\n",
    "time_start = time.time()\n",
    "\n",
    "# Build a neural network for multi-class classification\n",
    "model = Sequential()\n",
    "model.add(Dense(units=8, activation='relu', input_dim=X_train.shape[1]))\n",
    "model.add(Dropout(0.5))  # Add dropout layer\n",
    "model.add(Dense(units=3, activation='softmax'))  # Three units for three classes\n",
    "\n",
    "# Compile the model\n",
    "model.compile(optimizer='adam', loss='categorical_crossentropy', metrics=['accuracy'])\n",
    "\n",
    "# Train the model\n",
    "history = model.fit(X_train, y_train, epochs=50, batch_size=8, validation_split=0.2, verbose=1)\n",
    "\n",
    "# Evaluate the model on the test set\n",
    "test_loss, test_accuracy = model.evaluate(X_test, y_test)\n",
    "print(f\"Test Accuracy: {test_accuracy}\")\n",
    "time_end = time.time()\n",
    "\n",
    "print(f\"This took {time_end-time_start} seconds to run.\")"
   ]
  },
  {
   "cell_type": "code",
   "execution_count": null,
   "id": "d0713327-5605-4ac4-88b1-f20141cf2cd6",
   "metadata": {
    "ExecuteTime": {
     "start_time": "2024-02-01T10:33:04.906166Z"
    }
   },
   "outputs": [],
   "source": [
    "display_decision_boundary(X_train, y_train, model)"
   ]
  },
  {
   "cell_type": "markdown",
   "id": "0a55095a-480e-4639-9b56-373c9e678257",
   "metadata": {},
   "source": [
    "### Callbacks\n",
    "\n",
    "#### Model Checkpoint"
   ]
  },
  {
   "cell_type": "code",
   "execution_count": null,
   "id": "393b19f3-8319-41c1-a564-4a26c5845482",
   "metadata": {
    "ExecuteTime": {
     "start_time": "2024-02-01T10:33:04.908410Z"
    }
   },
   "outputs": [],
   "source": [
    "from tensorflow.keras.callbacks import ModelCheckpoint\n",
    "\n",
    "# Build a neural network for multi-class classification\n",
    "model = Sequential()\n",
    "model.add(Dense(units=8, activation='relu', input_dim=X_train.shape[1]))\n",
    "model.add(Dropout(0.5))  # Add dropout layer\n",
    "model.add(Dense(units=3, activation='softmax'))  # Three units for three classes\n",
    "\n",
    "# Compile the model\n",
    "model.compile(optimizer='adam', loss='categorical_crossentropy', metrics=['accuracy'])\n",
    "\n",
    "# Configure the checkpointing\n",
    "# https://www.tensorflow.org/guide/keras/serialization_and_saving#apis\n",
    "checkpoint = ModelCheckpoint('best_model.h5', monitor='val_accuracy', mode='max', save_best_only=True, verbose=1)\n",
    "\n",
    "# Train the model\n",
    "history = model.fit(X_train, y_train, epochs=50, batch_size=8, validation_split=0.2, callbacks=[checkpoint], verbose=1)\n",
    "\n",
    "# Evaluate the model on the test set\n",
    "test_loss, test_accuracy = model.evaluate(X_test, y_test)\n",
    "print(f\"Test Accuracy: {test_accuracy}\")"
   ]
  },
  {
   "cell_type": "code",
   "execution_count": null,
   "id": "5797ea90-e6b1-4424-8db9-5b36e46f873a",
   "metadata": {
    "ExecuteTime": {
     "start_time": "2024-02-01T10:33:04.910458Z"
    }
   },
   "outputs": [],
   "source": [
    "import tensorflow as tf\n",
    "best_model = tf.keras.models.load_model('best_model.h5')"
   ]
  },
  {
   "cell_type": "code",
   "execution_count": null,
   "id": "9cae689c-dd6a-4541-9df2-7ede0fac28fb",
   "metadata": {
    "ExecuteTime": {
     "start_time": "2024-02-01T10:33:04.912235Z"
    }
   },
   "outputs": [],
   "source": [
    "best_model.summary()"
   ]
  },
  {
   "cell_type": "code",
   "execution_count": null,
   "id": "48af1f27-04a6-493d-9782-14de934dcdd8",
   "metadata": {
    "ExecuteTime": {
     "start_time": "2024-02-01T10:33:04.914112Z"
    }
   },
   "outputs": [],
   "source": [
    "# Plot training and validation accuracy\n",
    "plt.plot(history.history['accuracy'], label='Training Accuracy')\n",
    "plt.plot(history.history['val_accuracy'], label='Validation Accuracy')\n",
    "plt.legend()\n",
    "plt.show()"
   ]
  },
  {
   "cell_type": "code",
   "execution_count": null,
   "id": "06ccea20-2d0f-4e56-abd6-77194cad752e",
   "metadata": {
    "ExecuteTime": {
     "start_time": "2024-02-01T10:33:04.915668Z"
    }
   },
   "outputs": [],
   "source": [
    "from tensorflow.keras.callbacks import EarlyStopping, TensorBoard\n",
    "!rm -rf ./logs/\n",
    "\n",
    "# Build a neural network for multi-class classification\n",
    "model = Sequential()\n",
    "model.add(Dense(units=8, activation='relu', input_dim=X_train.shape[1]))\n",
    "model.add(Dropout(0.5))  # Add dropout layer\n",
    "model.add(Dense(units=3, activation='softmax'))  # Three units for three classes\n",
    "\n",
    "# Compile the model\n",
    "model.compile(optimizer='adam', loss='categorical_crossentropy', metrics=['accuracy'])\n",
    "\n",
    "# Configure the checkpointing\n",
    "early_stopping = EarlyStopping(patience=2, monitor='val_accuracy')\n",
    "model_checkpoint = ModelCheckpoint('best_model.h5', monitor='val_accuracy', mode='max', save_best_only=True, verbose=1)\n",
    "tensorboard = TensorBoard(log_dir='./logs')\n",
    "\n",
    "callback_list = [\n",
    "    early_stopping,\n",
    "    model_checkpoint,\n",
    "    tensorboard\n",
    "]\n",
    "\n",
    "# Train the model\n",
    "history = model.fit(X_train, y_train, epochs=50, batch_size=8, validation_split=0.2, callbacks=[callback_list], verbose=0) # Suppress chatty output; use Tensorboard instead\n",
    "\n",
    "# Evaluate the model on the test set\n",
    "test_loss, test_accuracy = model.evaluate(X_test, y_test)\n",
    "print(f\"Test Accuracy: {test_accuracy}\")\n",
    "\n",
    "# !tensorboard --logdir logs\n",
    "\n"
   ]
  },
  {
   "cell_type": "code",
   "execution_count": null,
   "id": "06de7510-8acc-4a9c-9cbe-6244482bb940",
   "metadata": {
    "ExecuteTime": {
     "start_time": "2024-02-01T10:33:04.917406Z"
    }
   },
   "outputs": [],
   "source": [
    "from tensorflow.keras.callbacks import LearningRateScheduler, CSVLogger\n",
    "from tensorflow.keras.optimizers.legacy import SGD\n",
    "\n",
    "import tensorflow as tf\n",
    "from datetime import datetime\n",
    "\n",
    "!rm -rf ./logs/\n",
    "\n",
    "now = datetime.now().strftime(\"%Y%m%d-%H%M%S\")\n",
    "\n",
    "logdir = f\"logs/{now}\"\n",
    "file_writer = tf.summary.create_file_writer(logdir + \"/metrics\")\n",
    "file_writer.set_as_default()\n",
    "\n",
    "def lr_schedule(epoch):\n",
    "  \"\"\"\n",
    "  Returns a custom learning rate that decreases as epochs progress.\n",
    "  \"\"\"\n",
    "  learning_rate = 0.2\n",
    "  if epoch > 10:\n",
    "    learning_rate = 0.02\n",
    "  if epoch > 20:\n",
    "    learning_rate = 0.01\n",
    "  if epoch > 50:\n",
    "    learning_rate = 0.005\n",
    "\n",
    "  tf.summary.scalar('learning rate', data=learning_rate, step=epoch)\n",
    "  return learning_rate\n",
    "\n",
    "lr_callback = LearningRateScheduler(lr_schedule)\n",
    "logger = CSVLogger(f\"model_run_{now}.csv\", separator=\",\", append=False)\n",
    "\n",
    "model_checkpoint = ModelCheckpoint('best_model.h5', monitor='val_accuracy', mode='max', save_best_only=True, verbose=1)\n",
    "tensorboard = TensorBoard(log_dir=logdir)\n",
    "\n",
    "checkpoints = [\n",
    "    logger,\n",
    "    model_checkpoint,\n",
    "    tensorboard,\n",
    "    lr_callback\n",
    "]\n",
    "\n",
    "# Build a neural network for multi-class classification\n",
    "model = Sequential()\n",
    "model.add(Dense(units=8, activation='relu', input_dim=X_train.shape[1]))\n",
    "model.add(Dropout(0.5))  # Add dropout layer\n",
    "model.add(Dense(units=3, activation='softmax'))  # Three units for three classes\n",
    "\n",
    "model.compile(\n",
    "    loss='categorical_crossentropy', metrics=['accuracy'],\n",
    "    optimizer=SGD(),\n",
    ")\n",
    "\n",
    "# Train the model\n",
    "history = model.fit(X_train, y_train, epochs=50, batch_size=8, validation_split=0.2, callbacks=[checkpoints], verbose=0) # Suppress chatty output; use Tensorboard instead\n",
    "\n",
    "# Evaluate the model on the test set\n",
    "test_loss, test_accuracy = model.evaluate(X_test, y_test)\n",
    "print(f\"Test Accuracy: {test_accuracy}\")"
   ]
  },
  {
   "cell_type": "markdown",
   "id": "ae4d7b3f-6b6d-446b-8af2-9809a8777b5d",
   "metadata": {},
   "source": [
    "### Hyperparameter Optimization with Tensorboard"
   ]
  },
  {
   "cell_type": "code",
   "execution_count": null,
   "id": "cd5cc262-8f70-4021-bc59-e36d1b7aeaf6",
   "metadata": {
    "ExecuteTime": {
     "start_time": "2024-02-01T10:33:04.919156Z"
    }
   },
   "outputs": [],
   "source": [
    "# HP Opt\n",
    "# https://www.tensorflow.org/tensorboard/hyperparameter_tuning_with_hparams\n",
    "import tensorflow as tf\n",
    "from tensorboard.plugins.hparams import api as hp\n",
    "\n",
    "!rm -rf ./logs/\n",
    "\n",
    "HP_NUM_UNITS = hp.HParam('num_units', hp.Discrete([16, 32]))\n",
    "HP_DROPOUT = hp.HParam('dropout', hp.RealInterval(0.3, 0.5))\n",
    "HP_OPTIMIZER = hp.HParam('optimizer', hp.Discrete(['adam', 'sgd']))\n",
    "\n",
    "METRIC_ACCURACY = 'accuracy'\n",
    "\n",
    "with tf.summary.create_file_writer('logs/hparam_tuning').as_default():\n",
    "  hp.hparams_config(\n",
    "    hparams=[HP_NUM_UNITS, HP_DROPOUT, HP_OPTIMIZER],\n",
    "    metrics=[hp.Metric(METRIC_ACCURACY, display_name='Accuracy')],\n",
    "  )"
   ]
  },
  {
   "cell_type": "code",
   "execution_count": null,
   "id": "50aa8abb-7e5b-4eed-b878-dc27f27a5377",
   "metadata": {
    "ExecuteTime": {
     "start_time": "2024-02-01T10:33:04.921313Z"
    }
   },
   "outputs": [],
   "source": [
    "def train_test_model(hparams):\n",
    "    model = tf.keras.models.Sequential([\n",
    "        tf.keras.layers.Dense(hparams[HP_NUM_UNITS], activation=tf.nn.relu, input_dim=X_train.shape[1]),\n",
    "        tf.keras.layers.Dropout(hparams[HP_DROPOUT]),\n",
    "        tf.keras.layers.Dense(3, activation=tf.nn.softmax)\n",
    "    ])    \n",
    "    model.compile(\n",
    "        optimizer=hparams[HP_OPTIMIZER],\n",
    "        loss='categorical_crossentropy', metrics=['accuracy'],\n",
    "    )\n",
    "    \n",
    "    # Train the model\n",
    "    model.fit(X_train, y_train, epochs=20, batch_size=8, verbose=1) # Reduce amount of epochs to speed things up\n",
    "    \n",
    "    # Evaluate the model on the test set\n",
    "    test_loss, test_accuracy = model.evaluate(X_test, y_test)\n",
    "    print(f\"Test Accuracy: {test_accuracy}\")\n",
    "    return test_accuracy\n"
   ]
  },
  {
   "cell_type": "code",
   "execution_count": null,
   "id": "01cbcfac-bda0-463c-ab6a-27076c38915b",
   "metadata": {
    "ExecuteTime": {
     "start_time": "2024-02-01T10:33:04.923025Z"
    }
   },
   "outputs": [],
   "source": [
    "def run(run_dir, hparams):\n",
    "  with tf.summary.create_file_writer(run_dir).as_default():\n",
    "    hp.hparams(hparams)  # record the values used in this trial\n",
    "    accuracy = train_test_model(hparams)\n",
    "    tf.summary.scalar(METRIC_ACCURACY, accuracy, step=1)"
   ]
  },
  {
   "cell_type": "code",
   "execution_count": null,
   "id": "b9796757-dde9-4c02-9408-3b5de295461b",
   "metadata": {
    "ExecuteTime": {
     "start_time": "2024-02-01T10:33:04.924839Z"
    }
   },
   "outputs": [],
   "source": [
    "session_num = 0\n",
    "\n",
    "for num_units in HP_NUM_UNITS.domain.values:\n",
    "  for dropout_rate in (HP_DROPOUT.domain.min_value, HP_DROPOUT.domain.max_value):\n",
    "    for optimizer in HP_OPTIMIZER.domain.values:\n",
    "      hparams = {\n",
    "          HP_NUM_UNITS: num_units,\n",
    "          HP_DROPOUT: dropout_rate,\n",
    "          HP_OPTIMIZER: optimizer,\n",
    "      }\n",
    "      run_name = \"run-%d\" % session_num\n",
    "      print('--- Starting trial: %s' % run_name)\n",
    "      print({h.name: hparams[h] for h in hparams})\n",
    "      run('logs/hparam_tuning/' + run_name, hparams)\n",
    "      session_num += 1"
   ]
  },
  {
   "cell_type": "code",
   "execution_count": null,
   "id": "7fab3998-3648-4488-8094-8a790e35baf4",
   "metadata": {
    "ExecuteTime": {
     "start_time": "2024-02-01T10:33:04.926615Z"
    }
   },
   "outputs": [],
   "source": [
    "!tensorboard --logdir logs/hparam_tuning"
   ]
  },
  {
   "cell_type": "markdown",
   "id": "d7c36176-e1fc-4afe-825f-8f6b5bf86acd",
   "metadata": {},
   "source": [
    "## Use Case 2: IMDB Reviews"
   ]
  },
  {
   "cell_type": "code",
   "execution_count": null,
   "id": "f609d366-49d7-407f-ae09-ee8c2140b4d4",
   "metadata": {
    "ExecuteTime": {
     "start_time": "2024-02-01T10:33:04.928563Z"
    }
   },
   "outputs": [],
   "source": [
    "from keras.datasets import imdb"
   ]
  },
  {
   "cell_type": "code",
   "execution_count": null,
   "id": "c423c4bb-241b-4c5d-b8be-d56b2d333025",
   "metadata": {
    "ExecuteTime": {
     "start_time": "2024-02-01T10:33:04.930435Z"
    }
   },
   "outputs": [],
   "source": [
    "NUM_WORDS = 10000\n",
    "(train_data, train_labels), (test_data, test_labels) = imdb.load_data(num_words=NUM_WORDS) # в кожній завантаженій рецензії ми залишимо лише ті слова, які зустрічаються не менше 10000 разів, більш рідкісні будуть проігноровані. \n",
    "# Завдяки такому обмеженню ми отримаємо тензори адекватних розмірів."
   ]
  },
  {
   "cell_type": "code",
   "execution_count": null,
   "id": "bf92ca19-0d20-48f4-9812-53e7f1392346",
   "metadata": {
    "ExecuteTime": {
     "start_time": "2024-02-01T10:33:04.932199Z"
    }
   },
   "outputs": [],
   "source": [
    "print(train_data[0])"
   ]
  },
  {
   "cell_type": "code",
   "execution_count": null,
   "id": "7f57b5be-7999-4299-8824-0e88cc474409",
   "metadata": {
    "ExecuteTime": {
     "start_time": "2024-02-01T10:33:04.933814Z"
    }
   },
   "outputs": [],
   "source": [
    "word_index = imdb.get_word_index()\n",
    "word_index.items()"
   ]
  },
  {
   "cell_type": "code",
   "execution_count": null,
   "id": "7795b80e-09ac-476f-aef2-1f310721e3a4",
   "metadata": {
    "ExecuteTime": {
     "start_time": "2024-02-01T10:33:04.935526Z"
    }
   },
   "outputs": [],
   "source": [
    "reverse_word_index = dict([(value, key) for (key, value) in word_index.items()])\n",
    "reverse_word_index"
   ]
  },
  {
   "cell_type": "code",
   "execution_count": null,
   "id": "576029da-860a-4301-9aa3-e84c303ef941",
   "metadata": {
    "ExecuteTime": {
     "start_time": "2024-02-01T10:33:04.937344Z"
    }
   },
   "outputs": [],
   "source": [
    "decoded_review = ' '.join([reverse_word_index.get(i - 3, '?') for i in train_data[10]])\n",
    "print(decoded_review)"
   ]
  },
  {
   "cell_type": "code",
   "execution_count": null,
   "id": "fa7e0387-a82f-4f29-b457-e4b1928220c9",
   "metadata": {
    "ExecuteTime": {
     "start_time": "2024-02-01T10:33:04.938966Z"
    }
   },
   "outputs": [],
   "source": [
    "def decode(item):\n",
    "    return ' '.join([reverse_word_index.get(i - 3, '?') for i in item])\n",
    "\n",
    "decode(train_data[0])"
   ]
  },
  {
   "cell_type": "code",
   "execution_count": null,
   "id": "6b43a14b-96aa-451b-9123-8b1177696480",
   "metadata": {
    "ExecuteTime": {
     "start_time": "2024-02-01T10:33:04.940042Z"
    }
   },
   "outputs": [],
   "source": [
    "print(train_data.shape)"
   ]
  },
  {
   "cell_type": "code",
   "execution_count": null,
   "id": "eb898678-e6cf-4a73-8cec-dc82aca2849a",
   "metadata": {
    "ExecuteTime": {
     "start_time": "2024-02-01T10:33:04.941122Z"
    }
   },
   "outputs": [],
   "source": [
    "import numpy as np\n",
    "\n",
    "def vectorize_sequences(sequences, dimension=NUM_WORDS):\n",
    "    results = np.zeros((len(sequences), dimension))\n",
    "    for i, sequence in enumerate(sequences):\n",
    "        results[i, sequence] = 1.0\n",
    "    return results\n",
    "\n",
    "x_train = vectorize_sequences(train_data)\n",
    "y_train = np.asarray(train_labels).astype('float32')\n",
    "\n",
    "x_test = vectorize_sequences(test_data)\n",
    "y_test = np.asarray(test_labels).astype('float32')"
   ]
  },
  {
   "cell_type": "code",
   "execution_count": null,
   "id": "d93e28a2-0bb7-4ccd-8c80-5f68e32a7a8c",
   "metadata": {
    "ExecuteTime": {
     "start_time": "2024-02-01T10:33:04.942457Z"
    }
   },
   "outputs": [],
   "source": [
    "x_train  # bag of words"
   ]
  },
  {
   "cell_type": "code",
   "execution_count": null,
   "id": "4d1af444-3a85-490e-83c0-7e8a9d7fce5e",
   "metadata": {
    "ExecuteTime": {
     "end_time": "2024-02-01T10:33:05.012403Z",
     "start_time": "2024-02-01T10:33:04.943590Z"
    }
   },
   "outputs": [],
   "source": [
    "print(x_train.shape)"
   ]
  },
  {
   "cell_type": "code",
   "execution_count": null,
   "id": "a92fc382-5664-4be2-8551-b7040c29c9e6",
   "metadata": {
    "ExecuteTime": {
     "start_time": "2024-02-01T10:33:04.944389Z"
    }
   },
   "outputs": [],
   "source": [
    "from keras.models import Sequential\n",
    "from keras.layers import Dense\n",
    "from keras import optimizers\n",
    "from keras import losses\n",
    "\n",
    "model = Sequential([\n",
    "    Dense(16, activation='relu', input_shape=(NUM_WORDS,)),\n",
    "    Dense(16, activation='relu'),\n",
    "    Dense(1, activation='sigmoid'),\n",
    "])\n",
    "\n",
    "model.compile(\n",
    "    optimizer='rmsprop',\n",
    "    loss=losses.binary_crossentropy,\n",
    "    metrics=['accuracy']\n",
    ")"
   ]
  },
  {
   "cell_type": "code",
   "execution_count": null,
   "id": "d11169e7-1514-40aa-84a4-34ebad4bf670",
   "metadata": {
    "ExecuteTime": {
     "start_time": "2024-02-01T10:33:04.945286Z"
    }
   },
   "outputs": [],
   "source": [
    "model.summary()"
   ]
  },
  {
   "cell_type": "code",
   "execution_count": null,
   "id": "0c6e7253-fbed-4f00-b814-859152d74820",
   "metadata": {
    "ExecuteTime": {
     "start_time": "2024-02-01T10:33:04.946199Z"
    }
   },
   "outputs": [],
   "source": [
    "x_val = x_train[:10000]\n",
    "partial_x_train = x_train[10000:]\n",
    "\n",
    "y_val = y_train[:10000]\n",
    "partial_y_train = y_train[10000:]\n",
    "\n",
    "!rm -rf ./logs/\n",
    "tensorboard = TensorBoard(log_dir='./logs')\n",
    "\n",
    "\n",
    "history = model.fit(\n",
    "    partial_x_train,\n",
    "    partial_y_train,\n",
    "    epochs=20,\n",
    "    batch_size=512,\n",
    "    callbacks = tensorboard,\n",
    "    validation_data=(x_val, y_val)\n",
    ")"
   ]
  },
  {
   "cell_type": "code",
   "execution_count": null,
   "id": "5cea725d-6ad1-4089-8c07-1abf47228612",
   "metadata": {
    "ExecuteTime": {
     "start_time": "2024-02-01T10:33:04.947078Z"
    }
   },
   "outputs": [],
   "source": [
    "!tensorboard --logdir logs"
   ]
  },
  {
   "cell_type": "code",
   "execution_count": null,
   "id": "39ded356-5837-4d27-9df2-d95a8b86c101",
   "metadata": {
    "ExecuteTime": {
     "start_time": "2024-02-01T10:33:04.948719Z"
    }
   },
   "outputs": [],
   "source": [
    "print(history.history.keys())"
   ]
  },
  {
   "cell_type": "code",
   "execution_count": null,
   "id": "e56af3f1-3cab-46c9-a1a6-d9b8ad87fee6",
   "metadata": {
    "ExecuteTime": {
     "start_time": "2024-02-01T10:33:04.950221Z"
    }
   },
   "outputs": [],
   "source": [
    "import matplotlib.pyplot as plt\n",
    "\n",
    "\n",
    "history_dict = history.history\n",
    "loss_values = history_dict['loss']\n",
    "val_loss_values = history_dict['val_loss']\n",
    "\n",
    "epochs = range(1, len(history_dict['accuracy']) + 1)\n",
    "\n",
    "plt.plot(epochs, loss_values, 'bo', label='Training loss')\n",
    "plt.plot(epochs, val_loss_values, 'b', label='Validation loss')\n",
    "plt.title('Training and validation loss')\n",
    "plt.xlabel('Epochs')\n",
    "plt.ylabel('Loss')\n",
    "plt.legend()\n",
    "plt.show()\n",
    "\n",
    "plt.clf()\n",
    "val_acc_values = history_dict['val_accuracy']\n",
    "plt.plot(epochs, history_dict['accuracy'], 'bo', label='Training acc')\n",
    "plt.plot(epochs, history_dict['val_accuracy'], 'b', label='Validation acc')\n",
    "plt.title('Training and validation accuracy')\n",
    "plt.xlabel('Epochs')\n",
    "plt.ylabel('Loss')\n",
    "plt.legend()"
   ]
  },
  {
   "cell_type": "code",
   "execution_count": null,
   "id": "6f8722c4-8824-41a3-b4b6-ce92376eb4e9",
   "metadata": {
    "ExecuteTime": {
     "start_time": "2024-02-01T10:33:04.951068Z"
    }
   },
   "outputs": [],
   "source": [
    "results = model.evaluate(x_test, y_test)\n",
    "print(results)"
   ]
  },
  {
   "cell_type": "code",
   "execution_count": null,
   "id": "20c15c9d-c336-4eb1-a9e3-cbcb79e35ef0",
   "metadata": {
    "ExecuteTime": {
     "start_time": "2024-02-01T10:33:04.951862Z"
    }
   },
   "outputs": [],
   "source": [
    "model = Sequential()\n",
    "model.add(Dense(16, activation='relu', input_shape=(10000,)))\n",
    "model.add(Dense(16, activation='relu'))\n",
    "model.add(Dense(1, activation='sigmoid'))\n",
    "model.compile(\n",
    "    optimizer='rmsprop',\n",
    "    loss='binary_crossentropy',\n",
    "    metrics=['accuracy']\n",
    ")\n",
    "model.fit(x_train, y_train, epochs=4, batch_size=512)\n",
    "results = model.evaluate(x_test, y_test)\n",
    "print(results)"
   ]
  },
  {
   "cell_type": "code",
   "execution_count": null,
   "id": "a3d0d1d7-2f2e-41e2-91df-1aaccf1b7422",
   "metadata": {
    "ExecuteTime": {
     "start_time": "2024-02-01T10:33:04.952609Z"
    }
   },
   "outputs": [],
   "source": [
    "result = model.predict(x_test[0, :].reshape(1, 10000))\n",
    "print(result)"
   ]
  },
  {
   "cell_type": "code",
   "execution_count": null,
   "id": "a5b25e7b-31bd-49bd-aad1-04a9d37695aa",
   "metadata": {
    "ExecuteTime": {
     "start_time": "2024-02-01T10:33:04.953417Z"
    }
   },
   "outputs": [],
   "source": [
    "decode(test_data[0])"
   ]
  },
  {
   "cell_type": "code",
   "execution_count": null,
   "id": "e7b5ff3d-5afe-4f04-8f91-253746de57e9",
   "metadata": {
    "ExecuteTime": {
     "start_time": "2024-02-01T10:33:04.954223Z"
    }
   },
   "outputs": [],
   "source": [
    "test_labels[0]"
   ]
  },
  {
   "cell_type": "code",
   "execution_count": null,
   "id": "c4c194e7-416c-44d7-853f-e5777b8063c0",
   "metadata": {
    "ExecuteTime": {
     "start_time": "2024-02-01T10:33:04.954961Z"
    }
   },
   "outputs": [],
   "source": [
    "model.save(\"my_model.keras\")"
   ]
  },
  {
   "cell_type": "code",
   "execution_count": null,
   "id": "3adf628f-3ecf-433f-a5b6-5d28b6702e50",
   "metadata": {
    "ExecuteTime": {
     "start_time": "2024-02-01T10:33:04.955661Z"
    }
   },
   "outputs": [],
   "source": [
    "import keras\n",
    "model = keras.models.load_model(\"my_model.keras\")"
   ]
  },
  {
   "cell_type": "code",
   "execution_count": null,
   "id": "0d4907ae-05b2-4aaf-bbae-bae2f9df094a",
   "metadata": {
    "ExecuteTime": {
     "start_time": "2024-02-01T10:33:04.956404Z"
    }
   },
   "outputs": [],
   "source": [
    "model.summary()"
   ]
  },
  {
   "cell_type": "code",
   "execution_count": null,
   "id": "b38e5342-d649-42dc-8ad7-b1e15ba014f9",
   "metadata": {
    "ExecuteTime": {
     "start_time": "2024-02-01T10:33:04.957085Z"
    }
   },
   "outputs": [],
   "source": []
  }
 ],
 "metadata": {
  "kernelspec": {
   "display_name": "Python 3 (ipykernel)",
   "language": "python",
   "name": "python3"
  },
  "language_info": {
   "codemirror_mode": {
    "name": "ipython",
    "version": 3
   },
   "file_extension": ".py",
   "mimetype": "text/x-python",
   "name": "python",
   "nbconvert_exporter": "python",
   "pygments_lexer": "ipython3",
   "version": "3.11.6"
  }
 },
 "nbformat": 4,
 "nbformat_minor": 5
}
