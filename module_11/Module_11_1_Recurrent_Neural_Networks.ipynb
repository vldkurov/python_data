{
 "cells": [
  {
   "cell_type": "markdown",
   "id": "2c8fb7ac-e6e7-4752-a550-2f2edc5e4fef",
   "metadata": {},
   "source": [
    "# Recurrent Neural Networks"
   ]
  },
  {
   "cell_type": "markdown",
   "id": "bae96df3-e7b7-4002-814c-61092fd206a2",
   "metadata": {},
   "source": [
    "https://github.com/saqemlas/deep-learning-specialization/blob/main/5_SequenceModels/week_1/Assignment/Building_a_Recurrent_Neural_Network_Step_by_Step.ipynb"
   ]
  },
  {
   "cell_type": "code",
   "execution_count": 1,
   "id": "d8f5ee6e-fc61-4210-b20c-3a9367f102a6",
   "metadata": {
    "ExecuteTime": {
     "end_time": "2024-02-15T10:58:22.327283Z",
     "start_time": "2024-02-15T10:58:18.545345Z"
    }
   },
   "outputs": [],
   "source": [
    "import matplotlib.pyplot as plt\n",
    "from keras.datasets import imdb\n",
    "from keras.utils import pad_sequences\n",
    "from keras.models import Sequential\n",
    "from keras.layers import Embedding, SimpleRNN, Dense"
   ]
  },
  {
   "cell_type": "code",
   "execution_count": 2,
   "id": "b62aa15d-4891-4958-99fc-8ad52728bb77",
   "metadata": {
    "ExecuteTime": {
     "end_time": "2024-02-15T10:58:25.777810Z",
     "start_time": "2024-02-15T10:58:25.759727Z"
    }
   },
   "outputs": [],
   "source": [
    "max_features = 10000  # кількість слів, що розглядаються як особливості\n",
    "maxlen = 500  # обмеження кількості слів в тексті\n",
    "batch_size = 32"
   ]
  },
  {
   "cell_type": "code",
   "execution_count": 3,
   "id": "08c33a17-ff61-4aff-9397-ab5a9fe58936",
   "metadata": {
    "ExecuteTime": {
     "end_time": "2024-02-15T10:58:51.829758Z",
     "start_time": "2024-02-15T10:58:51.811652Z"
    }
   },
   "outputs": [],
   "source": [
    "start_char = 1\n",
    "oov_char = 2  # out of vocabulary\n",
    "index_from = 3"
   ]
  },
  {
   "cell_type": "code",
   "execution_count": 4,
   "id": "4d73a1a0-d42f-49b7-817d-7362b27afa43",
   "metadata": {
    "ExecuteTime": {
     "end_time": "2024-02-15T12:04:52.210683Z",
     "start_time": "2024-02-15T12:04:50.645381Z"
    }
   },
   "outputs": [],
   "source": [
    "(input_train, y_train), (input_test, y_test) = imdb.load_data(num_words=max_features, maxlen=maxlen, start_char=start_char, oov_char=oov_char, index_from=index_from)\n",
    "# Завантаження тренувальних та тестових даних зі вказанням обмеження на кількість слів"
   ]
  },
  {
   "cell_type": "code",
   "execution_count": 5,
   "id": "a3bec5d8-80b3-4422-a0cd-2c38dc8da825",
   "metadata": {
    "ExecuteTime": {
     "end_time": "2024-02-15T12:05:14.653827Z",
     "start_time": "2024-02-15T12:05:14.626038Z"
    }
   },
   "outputs": [
    {
     "data": {
      "text/plain": "[1,\n 14,\n 22,\n 16,\n 43,\n 530,\n 973,\n 1622,\n 1385,\n 65,\n 458,\n 4468,\n 66,\n 3941,\n 4,\n 173,\n 36,\n 256,\n 5,\n 25,\n 100,\n 43,\n 838,\n 112,\n 50,\n 670,\n 2,\n 9,\n 35,\n 480,\n 284,\n 5,\n 150,\n 4,\n 172,\n 112,\n 167,\n 2,\n 336,\n 385,\n 39,\n 4,\n 172,\n 4536,\n 1111,\n 17,\n 546,\n 38,\n 13,\n 447,\n 4,\n 192,\n 50,\n 16,\n 6,\n 147,\n 2025,\n 19,\n 14,\n 22,\n 4,\n 1920,\n 4613,\n 469,\n 4,\n 22,\n 71,\n 87,\n 12,\n 16,\n 43,\n 530,\n 38,\n 76,\n 15,\n 13,\n 1247,\n 4,\n 22,\n 17,\n 515,\n 17,\n 12,\n 16,\n 626,\n 18,\n 2,\n 5,\n 62,\n 386,\n 12,\n 8,\n 316,\n 8,\n 106,\n 5,\n 4,\n 2223,\n 5244,\n 16,\n 480,\n 66,\n 3785,\n 33,\n 4,\n 130,\n 12,\n 16,\n 38,\n 619,\n 5,\n 25,\n 124,\n 51,\n 36,\n 135,\n 48,\n 25,\n 1415,\n 33,\n 6,\n 22,\n 12,\n 215,\n 28,\n 77,\n 52,\n 5,\n 14,\n 407,\n 16,\n 82,\n 2,\n 8,\n 4,\n 107,\n 117,\n 5952,\n 15,\n 256,\n 4,\n 2,\n 7,\n 3766,\n 5,\n 723,\n 36,\n 71,\n 43,\n 530,\n 476,\n 26,\n 400,\n 317,\n 46,\n 7,\n 4,\n 2,\n 1029,\n 13,\n 104,\n 88,\n 4,\n 381,\n 15,\n 297,\n 98,\n 32,\n 2071,\n 56,\n 26,\n 141,\n 6,\n 194,\n 7486,\n 18,\n 4,\n 226,\n 22,\n 21,\n 134,\n 476,\n 26,\n 480,\n 5,\n 144,\n 30,\n 5535,\n 18,\n 51,\n 36,\n 28,\n 224,\n 92,\n 25,\n 104,\n 4,\n 226,\n 65,\n 16,\n 38,\n 1334,\n 88,\n 12,\n 16,\n 283,\n 5,\n 16,\n 4472,\n 113,\n 103,\n 32,\n 15,\n 16,\n 5345,\n 19,\n 178,\n 32]"
     },
     "execution_count": 5,
     "metadata": {},
     "output_type": "execute_result"
    }
   ],
   "source": [
    "input_train[0]"
   ]
  },
  {
   "cell_type": "code",
   "execution_count": 7,
   "id": "1394e877-217a-4e8f-aa8c-84356b32ac27",
   "metadata": {
    "ExecuteTime": {
     "end_time": "2024-02-15T12:07:11.398029Z",
     "start_time": "2024-02-15T12:07:11.382433Z"
    }
   },
   "outputs": [
    {
     "data": {
      "text/plain": "147"
     },
     "execution_count": 7,
     "metadata": {},
     "output_type": "execute_result"
    }
   ],
   "source": [
    "len(input_train[3])"
   ]
  },
  {
   "cell_type": "code",
   "execution_count": 8,
   "id": "6ea58070-b6b3-4da7-98f7-df49f1ed41e7",
   "metadata": {
    "ExecuteTime": {
     "end_time": "2024-02-15T12:07:12.475830Z",
     "start_time": "2024-02-15T12:07:12.413941Z"
    }
   },
   "outputs": [
    {
     "data": {
      "text/plain": "{'fawn': 34701,\n 'tsukino': 52006,\n 'nunnery': 52007,\n 'sonja': 16816,\n 'vani': 63951,\n 'woods': 1408,\n 'spiders': 16115,\n 'hanging': 2345,\n 'woody': 2289,\n 'trawling': 52008,\n \"hold's\": 52009,\n 'comically': 11307,\n 'localized': 40830,\n 'disobeying': 30568,\n \"'royale\": 52010,\n \"harpo's\": 40831,\n 'canet': 52011,\n 'aileen': 19313,\n 'acurately': 52012,\n \"diplomat's\": 52013,\n 'rickman': 25242,\n 'arranged': 6746,\n 'rumbustious': 52014,\n 'familiarness': 52015,\n \"spider'\": 52016,\n 'hahahah': 68804,\n \"wood'\": 52017,\n 'transvestism': 40833,\n \"hangin'\": 34702,\n 'bringing': 2338,\n 'seamier': 40834,\n 'wooded': 34703,\n 'bravora': 52018,\n 'grueling': 16817,\n 'wooden': 1636,\n 'wednesday': 16818,\n \"'prix\": 52019,\n 'altagracia': 34704,\n 'circuitry': 52020,\n 'crotch': 11585,\n 'busybody': 57766,\n \"tart'n'tangy\": 52021,\n 'burgade': 14129,\n 'thrace': 52023,\n \"tom's\": 11038,\n 'snuggles': 52025,\n 'francesco': 29114,\n 'complainers': 52027,\n 'templarios': 52125,\n '272': 40835,\n '273': 52028,\n 'zaniacs': 52130,\n '275': 34706,\n 'consenting': 27631,\n 'snuggled': 40836,\n 'inanimate': 15492,\n 'uality': 52030,\n 'bronte': 11926,\n 'errors': 4010,\n 'dialogs': 3230,\n \"yomada's\": 52031,\n \"madman's\": 34707,\n 'dialoge': 30585,\n 'usenet': 52033,\n 'videodrome': 40837,\n \"kid'\": 26338,\n 'pawed': 52034,\n \"'girlfriend'\": 30569,\n \"'pleasure\": 52035,\n \"'reloaded'\": 52036,\n \"kazakos'\": 40839,\n 'rocque': 52037,\n 'mailings': 52038,\n 'brainwashed': 11927,\n 'mcanally': 16819,\n \"tom''\": 52039,\n 'kurupt': 25243,\n 'affiliated': 21905,\n 'babaganoosh': 52040,\n \"noe's\": 40840,\n 'quart': 40841,\n 'kids': 359,\n 'uplifting': 5034,\n 'controversy': 7093,\n 'kida': 21906,\n 'kidd': 23379,\n \"error'\": 52041,\n 'neurologist': 52042,\n 'spotty': 18510,\n 'cobblers': 30570,\n 'projection': 9878,\n 'fastforwarding': 40842,\n 'sters': 52043,\n \"eggar's\": 52044,\n 'etherything': 52045,\n 'gateshead': 40843,\n 'airball': 34708,\n 'unsinkable': 25244,\n 'stern': 7180,\n \"cervi's\": 52046,\n 'dnd': 40844,\n 'dna': 11586,\n 'insecurity': 20598,\n \"'reboot'\": 52047,\n 'trelkovsky': 11037,\n 'jaekel': 52048,\n 'sidebars': 52049,\n \"sforza's\": 52050,\n 'distortions': 17633,\n 'mutinies': 52051,\n 'sermons': 30602,\n '7ft': 40846,\n 'boobage': 52052,\n \"o'bannon's\": 52053,\n 'populations': 23380,\n 'chulak': 52054,\n 'mesmerize': 27633,\n 'quinnell': 52055,\n 'yahoo': 10307,\n 'meteorologist': 52057,\n 'beswick': 42577,\n 'boorman': 15493,\n 'voicework': 40847,\n \"ster'\": 52058,\n 'blustering': 22922,\n 'hj': 52059,\n 'intake': 27634,\n 'morally': 5621,\n 'jumbling': 40849,\n 'bowersock': 52060,\n \"'porky's'\": 52061,\n 'gershon': 16821,\n 'ludicrosity': 40850,\n 'coprophilia': 52062,\n 'expressively': 40851,\n \"india's\": 19500,\n \"post's\": 34710,\n 'wana': 52063,\n 'wang': 5283,\n 'wand': 30571,\n 'wane': 25245,\n 'edgeways': 52321,\n 'titanium': 34711,\n 'pinta': 40852,\n 'want': 178,\n 'pinto': 30572,\n 'whoopdedoodles': 52065,\n 'tchaikovsky': 21908,\n 'travel': 2103,\n \"'victory'\": 52066,\n 'copious': 11928,\n 'gouge': 22433,\n \"chapters'\": 52067,\n 'barbra': 6702,\n 'uselessness': 30573,\n \"wan'\": 52068,\n 'assimilated': 27635,\n 'petiot': 16116,\n 'most\\x85and': 52069,\n 'dinosaurs': 3930,\n 'wrong': 352,\n 'seda': 52070,\n 'stollen': 52071,\n 'sentencing': 34712,\n 'ouroboros': 40853,\n 'assimilates': 40854,\n 'colorfully': 40855,\n 'glenne': 27636,\n 'dongen': 52072,\n 'subplots': 4760,\n 'kiloton': 52073,\n 'chandon': 23381,\n \"effect'\": 34713,\n 'snugly': 27637,\n 'kuei': 40856,\n 'welcomed': 9092,\n 'dishonor': 30071,\n 'concurrence': 52075,\n 'stoicism': 23382,\n \"guys'\": 14896,\n \"beroemd'\": 52077,\n 'butcher': 6703,\n \"melfi's\": 40857,\n 'aargh': 30623,\n 'playhouse': 20599,\n 'wickedly': 11308,\n 'fit': 1180,\n 'labratory': 52078,\n 'lifeline': 40859,\n 'screaming': 1927,\n 'fix': 4287,\n 'cineliterate': 52079,\n 'fic': 52080,\n 'fia': 52081,\n 'fig': 34714,\n 'fmvs': 52082,\n 'fie': 52083,\n 'reentered': 52084,\n 'fin': 30574,\n 'doctresses': 52085,\n 'fil': 52086,\n 'zucker': 12606,\n 'ached': 31931,\n 'counsil': 52088,\n 'paterfamilias': 52089,\n 'songwriter': 13885,\n 'shivam': 34715,\n 'hurting': 9654,\n 'effects': 299,\n 'slauther': 52090,\n \"'flame'\": 52091,\n 'sommerset': 52092,\n 'interwhined': 52093,\n 'whacking': 27638,\n 'bartok': 52094,\n 'barton': 8775,\n 'frewer': 21909,\n \"fi'\": 52095,\n 'ingrid': 6192,\n 'stribor': 30575,\n 'approporiately': 52096,\n 'wobblyhand': 52097,\n 'tantalisingly': 52098,\n 'ankylosaurus': 52099,\n 'parasites': 17634,\n 'childen': 52100,\n \"jenkins'\": 52101,\n 'metafiction': 52102,\n 'golem': 17635,\n 'indiscretion': 40860,\n \"reeves'\": 23383,\n \"inamorata's\": 57781,\n 'brittannica': 52104,\n 'adapt': 7916,\n \"russo's\": 30576,\n 'guitarists': 48246,\n 'abbott': 10553,\n 'abbots': 40861,\n 'lanisha': 17649,\n 'magickal': 40863,\n 'mattter': 52105,\n \"'willy\": 52106,\n 'pumpkins': 34716,\n 'stuntpeople': 52107,\n 'estimate': 30577,\n 'ugghhh': 40864,\n 'gameplay': 11309,\n \"wern't\": 52108,\n \"n'sync\": 40865,\n 'sickeningly': 16117,\n 'chiara': 40866,\n 'disturbed': 4011,\n 'portmanteau': 40867,\n 'ineffectively': 52109,\n \"duchonvey's\": 82143,\n \"nasty'\": 37519,\n 'purpose': 1285,\n 'lazers': 52112,\n 'lightened': 28105,\n 'kaliganj': 52113,\n 'popularism': 52114,\n \"damme's\": 18511,\n 'stylistics': 30578,\n 'mindgaming': 52115,\n 'spoilerish': 46449,\n \"'corny'\": 52117,\n 'boerner': 34718,\n 'olds': 6792,\n 'bakelite': 52118,\n 'renovated': 27639,\n 'forrester': 27640,\n \"lumiere's\": 52119,\n 'gaskets': 52024,\n 'needed': 884,\n 'smight': 34719,\n 'master': 1297,\n \"edie's\": 25905,\n 'seeber': 40868,\n 'hiya': 52120,\n 'fuzziness': 52121,\n 'genesis': 14897,\n 'rewards': 12607,\n 'enthrall': 30579,\n \"'about\": 40869,\n \"recollection's\": 52122,\n 'mutilated': 11039,\n 'fatherlands': 52123,\n \"fischer's\": 52124,\n 'positively': 5399,\n '270': 34705,\n 'ahmed': 34720,\n 'zatoichi': 9836,\n 'bannister': 13886,\n 'anniversaries': 52127,\n \"helm's\": 30580,\n \"'work'\": 52128,\n 'exclaimed': 34721,\n \"'unfunny'\": 52129,\n '274': 52029,\n 'feeling': 544,\n \"wanda's\": 52131,\n 'dolan': 33266,\n '278': 52133,\n 'peacoat': 52134,\n 'brawny': 40870,\n 'mishra': 40871,\n 'worlders': 40872,\n 'protags': 52135,\n 'skullcap': 52136,\n 'dastagir': 57596,\n 'affairs': 5622,\n 'wholesome': 7799,\n 'hymen': 52137,\n 'paramedics': 25246,\n 'unpersons': 52138,\n 'heavyarms': 52139,\n 'affaire': 52140,\n 'coulisses': 52141,\n 'hymer': 40873,\n 'kremlin': 52142,\n 'shipments': 30581,\n 'pixilated': 52143,\n \"'00s\": 30582,\n 'diminishing': 18512,\n 'cinematic': 1357,\n 'resonates': 14898,\n 'simplify': 40874,\n \"nature'\": 40875,\n 'temptresses': 40876,\n 'reverence': 16822,\n 'resonated': 19502,\n 'dailey': 34722,\n '2\\x85': 52144,\n 'treize': 27641,\n 'majo': 52145,\n 'kiya': 21910,\n 'woolnough': 52146,\n 'thanatos': 39797,\n 'sandoval': 35731,\n 'dorama': 40879,\n \"o'shaughnessy\": 52147,\n 'tech': 4988,\n 'fugitives': 32018,\n 'teck': 30583,\n \"'e'\": 76125,\n 'doesn’t': 40881,\n 'purged': 52149,\n 'saying': 657,\n \"martians'\": 41095,\n 'norliss': 23418,\n 'dickey': 27642,\n 'dicker': 52152,\n \"'sependipity\": 52153,\n 'padded': 8422,\n 'ordell': 57792,\n \"sturges'\": 40882,\n 'independentcritics': 52154,\n 'tempted': 5745,\n \"atkinson's\": 34724,\n 'hounded': 25247,\n 'apace': 52155,\n 'clicked': 15494,\n \"'humor'\": 30584,\n \"martino's\": 17177,\n \"'supporting\": 52156,\n 'warmongering': 52032,\n \"zemeckis's\": 34725,\n 'lube': 21911,\n 'shocky': 52157,\n 'plate': 7476,\n 'plata': 40883,\n 'sturgess': 40884,\n \"nerds'\": 40885,\n 'plato': 20600,\n 'plath': 34726,\n 'platt': 40886,\n 'mcnab': 52159,\n 'clumsiness': 27643,\n 'altogether': 3899,\n 'massacring': 42584,\n 'bicenntinial': 52160,\n 'skaal': 40887,\n 'droning': 14360,\n 'lds': 8776,\n 'jaguar': 21912,\n \"cale's\": 34727,\n 'nicely': 1777,\n 'mummy': 4588,\n \"lot's\": 18513,\n 'patch': 10086,\n 'kerkhof': 50202,\n \"leader's\": 52161,\n \"'movie\": 27644,\n 'uncomfirmed': 52162,\n 'heirloom': 40888,\n 'wrangle': 47360,\n 'emotion\\x85': 52163,\n \"'stargate'\": 52164,\n 'pinoy': 40889,\n 'conchatta': 40890,\n 'broeke': 41128,\n 'advisedly': 40891,\n \"barker's\": 17636,\n 'descours': 52166,\n 'lots': 772,\n 'lotr': 9259,\n 'irs': 9879,\n 'lott': 52167,\n 'xvi': 40892,\n 'irk': 34728,\n 'irl': 52168,\n 'ira': 6887,\n 'belzer': 21913,\n 'irc': 52169,\n 'ire': 27645,\n 'requisites': 40893,\n 'discipline': 7693,\n 'lyoko': 52961,\n 'extend': 11310,\n 'nature': 873,\n \"'dickie'\": 52170,\n 'optimist': 40894,\n 'lapping': 30586,\n 'superficial': 3900,\n 'vestment': 52171,\n 'extent': 2823,\n 'tendons': 52172,\n \"heller's\": 52173,\n 'quagmires': 52174,\n 'miyako': 52175,\n 'moocow': 20601,\n \"coles'\": 52176,\n 'lookit': 40895,\n 'ravenously': 52177,\n 'levitating': 40896,\n 'perfunctorily': 52178,\n 'lookin': 30587,\n \"lot'\": 40898,\n 'lookie': 52179,\n 'fearlessly': 34870,\n 'libyan': 52181,\n 'fondles': 40899,\n 'gopher': 35714,\n 'wearying': 40901,\n \"nz's\": 52182,\n 'minuses': 27646,\n 'puposelessly': 52183,\n 'shandling': 52184,\n 'decapitates': 31268,\n 'humming': 11929,\n \"'nother\": 40902,\n 'smackdown': 21914,\n 'underdone': 30588,\n 'frf': 40903,\n 'triviality': 52185,\n 'fro': 25248,\n 'bothers': 8777,\n \"'kensington\": 52186,\n 'much': 73,\n 'muco': 34730,\n 'wiseguy': 22615,\n \"richie's\": 27648,\n 'tonino': 40904,\n 'unleavened': 52187,\n 'fry': 11587,\n \"'tv'\": 40905,\n 'toning': 40906,\n 'obese': 14361,\n 'sensationalized': 30589,\n 'spiv': 40907,\n 'spit': 6259,\n 'arkin': 7364,\n 'charleton': 21915,\n 'jeon': 16823,\n 'boardroom': 21916,\n 'doubts': 4989,\n 'spin': 3084,\n 'hepo': 53083,\n 'wildcat': 27649,\n 'venoms': 10584,\n 'misconstrues': 52191,\n 'mesmerising': 18514,\n 'misconstrued': 40908,\n 'rescinds': 52192,\n 'prostrate': 52193,\n 'majid': 40909,\n 'climbed': 16479,\n 'canoeing': 34731,\n 'majin': 52195,\n 'animie': 57804,\n 'sylke': 40910,\n 'conditioned': 14899,\n 'waddell': 40911,\n '3\\x85': 52196,\n 'hyperdrive': 41188,\n 'conditioner': 34732,\n 'bricklayer': 53153,\n 'hong': 2576,\n 'memoriam': 52198,\n 'inventively': 30592,\n \"levant's\": 25249,\n 'portobello': 20638,\n 'remand': 52200,\n 'mummified': 19504,\n 'honk': 27650,\n 'spews': 19505,\n 'visitations': 40912,\n 'mummifies': 52201,\n 'cavanaugh': 25250,\n 'zeon': 23385,\n \"jungle's\": 40913,\n 'viertel': 34733,\n 'frenchmen': 27651,\n 'torpedoes': 52202,\n 'schlessinger': 52203,\n 'torpedoed': 34734,\n 'blister': 69876,\n 'cinefest': 52204,\n 'furlough': 34735,\n 'mainsequence': 52205,\n 'mentors': 40914,\n 'academic': 9094,\n 'stillness': 20602,\n 'academia': 40915,\n 'lonelier': 52206,\n 'nibby': 52207,\n \"losers'\": 52208,\n 'cineastes': 40916,\n 'corporate': 4449,\n 'massaging': 40917,\n 'bellow': 30593,\n 'absurdities': 19506,\n 'expetations': 53241,\n 'nyfiken': 40918,\n 'mehras': 75638,\n 'lasse': 52209,\n 'visability': 52210,\n 'militarily': 33946,\n \"elder'\": 52211,\n 'gainsbourg': 19023,\n 'hah': 20603,\n 'hai': 13420,\n 'haj': 34736,\n 'hak': 25251,\n 'hal': 4311,\n 'ham': 4892,\n 'duffer': 53259,\n 'haa': 52213,\n 'had': 66,\n 'advancement': 11930,\n 'hag': 16825,\n \"hand'\": 25252,\n 'hay': 13421,\n 'mcnamara': 20604,\n \"mozart's\": 52214,\n 'duffel': 30731,\n 'haq': 30594,\n 'har': 13887,\n 'has': 44,\n 'hat': 2401,\n 'hav': 40919,\n 'haw': 30595,\n 'figtings': 52215,\n 'elders': 15495,\n 'underpanted': 52216,\n 'pninson': 52217,\n 'unequivocally': 27652,\n \"barbara's\": 23673,\n \"bello'\": 52219,\n 'indicative': 12997,\n 'yawnfest': 40920,\n 'hexploitation': 52220,\n \"loder's\": 52221,\n 'sleuthing': 27653,\n \"justin's\": 32622,\n \"'ball\": 52222,\n \"'summer\": 52223,\n \"'demons'\": 34935,\n \"mormon's\": 52225,\n \"laughton's\": 34737,\n 'debell': 52226,\n 'shipyard': 39724,\n 'unabashedly': 30597,\n 'disks': 40401,\n 'crowd': 2290,\n 'crowe': 10087,\n \"vancouver's\": 56434,\n 'mosques': 34738,\n 'crown': 6627,\n 'culpas': 52227,\n 'crows': 27654,\n 'surrell': 53344,\n 'flowless': 52229,\n 'sheirk': 52230,\n \"'three\": 40923,\n \"peterson'\": 52231,\n 'ooverall': 52232,\n 'perchance': 40924,\n 'bottom': 1321,\n 'chabert': 53363,\n 'sneha': 52233,\n 'inhuman': 13888,\n 'ichii': 52234,\n 'ursla': 52235,\n 'completly': 30598,\n 'moviedom': 40925,\n 'raddick': 52236,\n 'brundage': 51995,\n 'brigades': 40926,\n 'starring': 1181,\n \"'goal'\": 52237,\n 'caskets': 52238,\n 'willcock': 52239,\n \"threesome's\": 52240,\n \"mosque'\": 52241,\n \"cover's\": 52242,\n 'spaceships': 17637,\n 'anomalous': 40927,\n 'ptsd': 27655,\n 'shirdan': 52243,\n 'obscenity': 21962,\n 'lemmings': 30599,\n 'duccio': 30600,\n \"levene's\": 52244,\n \"'gorby'\": 52245,\n \"teenager's\": 25255,\n 'marshall': 5340,\n 'honeymoon': 9095,\n 'shoots': 3231,\n 'despised': 12258,\n 'okabasho': 52246,\n 'fabric': 8289,\n 'cannavale': 18515,\n 'raped': 3537,\n \"tutt's\": 52247,\n 'grasping': 17638,\n 'despises': 18516,\n \"thief's\": 40928,\n 'rapes': 8926,\n 'raper': 52248,\n \"eyre'\": 27656,\n 'walchek': 52249,\n \"elmo's\": 23386,\n 'perfumes': 40929,\n 'spurting': 21918,\n \"exposition'\\x85\": 52250,\n 'denoting': 52251,\n 'thesaurus': 34740,\n \"shoot'\": 40930,\n 'bonejack': 49759,\n 'simpsonian': 52253,\n 'hebetude': 30601,\n \"hallow's\": 34741,\n 'desperation\\x85': 52254,\n 'incinerator': 34742,\n 'congratulations': 10308,\n 'humbled': 52255,\n \"else's\": 5924,\n 'trelkovski': 40845,\n \"rape'\": 52256,\n \"'chapters'\": 59386,\n '1600s': 52257,\n 'martian': 7253,\n 'nicest': 25256,\n 'eyred': 52259,\n 'passenger': 9457,\n 'disgrace': 6041,\n 'moderne': 52260,\n 'barrymore': 5120,\n 'yankovich': 52261,\n 'moderns': 40931,\n 'studliest': 52262,\n 'bedsheet': 52263,\n 'decapitation': 14900,\n 'slurring': 52264,\n \"'nunsploitation'\": 52265,\n \"'character'\": 34743,\n 'cambodia': 9880,\n 'rebelious': 52266,\n 'pasadena': 27657,\n 'crowne': 40932,\n \"'bedchamber\": 52267,\n 'conjectural': 52268,\n 'appologize': 52269,\n 'halfassing': 52270,\n 'paycheque': 57816,\n 'palms': 20606,\n \"'islands\": 52271,\n 'hawked': 40933,\n 'palme': 21919,\n 'conservatively': 40934,\n 'larp': 64007,\n 'palma': 5558,\n 'smelling': 21920,\n 'aragorn': 12998,\n 'hawker': 52272,\n 'hawkes': 52273,\n 'explosions': 3975,\n 'loren': 8059,\n \"pyle's\": 52274,\n 'shootout': 6704,\n \"mike's\": 18517,\n \"driscoll's\": 52275,\n 'cogsworth': 40935,\n \"britian's\": 52276,\n 'childs': 34744,\n \"portrait's\": 52277,\n 'chain': 3626,\n 'whoever': 2497,\n 'puttered': 52278,\n 'childe': 52279,\n 'maywether': 52280,\n 'chair': 3036,\n \"rance's\": 52281,\n 'machu': 34745,\n 'ballet': 4517,\n 'grapples': 34746,\n 'summerize': 76152,\n 'freelance': 30603,\n \"andrea's\": 52283,\n '\\x91very': 52284,\n 'coolidge': 45879,\n 'mache': 18518,\n 'balled': 52285,\n 'grappled': 40937,\n 'macha': 18519,\n 'underlining': 21921,\n 'macho': 5623,\n 'oversight': 19507,\n 'machi': 25257,\n 'verbally': 11311,\n 'tenacious': 21922,\n 'windshields': 40938,\n 'paychecks': 18557,\n 'jerk': 3396,\n \"good'\": 11931,\n 'prancer': 34748,\n 'prances': 21923,\n 'olympus': 52286,\n 'lark': 21924,\n 'embark': 10785,\n 'gloomy': 7365,\n 'jehaan': 52287,\n 'turaqui': 52288,\n \"child'\": 20607,\n 'locked': 2894,\n 'pranced': 52289,\n 'exact': 2588,\n 'unattuned': 52290,\n 'minute': 783,\n 'skewed': 16118,\n 'hodgins': 40940,\n 'skewer': 34749,\n 'think\\x85': 52291,\n 'rosenstein': 38765,\n 'helmit': 52292,\n 'wrestlemanias': 34750,\n 'hindered': 16826,\n \"martha's\": 30604,\n 'cheree': 52293,\n \"pluckin'\": 52294,\n 'ogles': 40941,\n 'heavyweight': 11932,\n 'aada': 82190,\n 'chopping': 11312,\n 'strongboy': 61534,\n 'hegemonic': 41342,\n 'adorns': 40942,\n 'xxth': 41346,\n 'nobuhiro': 34751,\n 'capitães': 52298,\n 'kavogianni': 52299,\n 'antwerp': 13422,\n 'celebrated': 6538,\n 'roarke': 52300,\n 'baggins': 40943,\n 'cheeseburgers': 31270,\n 'matras': 52301,\n \"nineties'\": 52302,\n \"'craig'\": 52303,\n 'celebrates': 12999,\n 'unintentionally': 3383,\n 'drafted': 14362,\n 'climby': 52304,\n '303': 52305,\n 'oldies': 18520,\n 'climbs': 9096,\n 'honour': 9655,\n 'plucking': 34752,\n '305': 30074,\n 'address': 5514,\n 'menjou': 40944,\n \"'freak'\": 42592,\n 'dwindling': 19508,\n 'benson': 9458,\n 'white’s': 52307,\n 'shamelessness': 40945,\n 'impacted': 21925,\n 'upatz': 52308,\n 'cusack': 3840,\n \"flavia's\": 37567,\n 'effette': 52309,\n 'influx': 34753,\n 'boooooooo': 52310,\n 'dimitrova': 52311,\n 'houseman': 13423,\n 'bigas': 25259,\n 'boylen': 52312,\n 'phillipenes': 52313,\n 'fakery': 40946,\n \"grandpa's\": 27658,\n 'darnell': 27659,\n 'undergone': 19509,\n 'handbags': 52315,\n 'perished': 21926,\n 'pooped': 37778,\n 'vigour': 27660,\n 'opposed': 3627,\n 'etude': 52316,\n \"caine's\": 11799,\n 'doozers': 52317,\n 'photojournals': 34754,\n 'perishes': 52318,\n 'constrains': 34755,\n 'migenes': 40948,\n 'consoled': 30605,\n 'alastair': 16827,\n 'wvs': 52319,\n 'ooooooh': 52320,\n 'approving': 34756,\n 'consoles': 40949,\n 'disparagement': 52064,\n 'futureistic': 52322,\n 'rebounding': 52323,\n \"'date\": 52324,\n 'gregoire': 52325,\n 'rutherford': 21927,\n 'americanised': 34757,\n 'novikov': 82196,\n 'following': 1042,\n 'munroe': 34758,\n \"morita'\": 52326,\n 'christenssen': 52327,\n 'oatmeal': 23106,\n 'fossey': 25260,\n 'livered': 40950,\n 'listens': 13000,\n \"'marci\": 76164,\n \"otis's\": 52330,\n 'thanking': 23387,\n 'maude': 16019,\n 'extensions': 34759,\n 'ameteurish': 52332,\n \"commender's\": 52333,\n 'agricultural': 27661,\n 'convincingly': 4518,\n 'fueled': 17639,\n 'mahattan': 54014,\n \"paris's\": 40952,\n 'vulkan': 52336,\n 'stapes': 52337,\n 'odysessy': 52338,\n 'harmon': 12259,\n 'surfing': 4252,\n 'halloran': 23494,\n 'unbelieveably': 49580,\n \"'offed'\": 52339,\n 'quadrant': 30607,\n 'inhabiting': 19510,\n 'nebbish': 34760,\n 'forebears': 40953,\n 'skirmish': 34761,\n 'ocassionally': 52340,\n \"'resist\": 52341,\n 'impactful': 21928,\n 'spicier': 52342,\n 'touristy': 40954,\n \"'football'\": 52343,\n 'webpage': 40955,\n 'exurbia': 52345,\n 'jucier': 52346,\n 'professors': 14901,\n 'structuring': 34762,\n 'jig': 30608,\n 'overlord': 40956,\n 'disconnect': 25261,\n 'sniffle': 82201,\n 'slimeball': 40957,\n 'jia': 40958,\n 'milked': 16828,\n 'banjoes': 40959,\n 'jim': 1237,\n 'workforces': 52348,\n 'jip': 52349,\n 'rotweiller': 52350,\n 'mundaneness': 34763,\n \"'ninja'\": 52351,\n \"dead'\": 11040,\n \"cipriani's\": 40960,\n 'modestly': 20608,\n \"professor'\": 52352,\n 'shacked': 40961,\n 'bashful': 34764,\n 'sorter': 23388,\n 'overpowering': 16120,\n 'workmanlike': 18521,\n 'henpecked': 27662,\n 'sorted': 18522,\n \"jōb's\": 52354,\n \"'always\": 52355,\n \"'baptists\": 34765,\n 'dreamcatchers': 52356,\n \"'silence'\": 52357,\n 'hickory': 21929,\n 'fun\\x97yet': 52358,\n 'breakumentary': 52359,\n 'didn': 15496,\n 'didi': 52360,\n 'pealing': 52361,\n 'dispite': 40962,\n \"italy's\": 25262,\n 'instability': 21930,\n 'quarter': 6539,\n 'quartet': 12608,\n 'padmé': 52362,\n \"'bleedmedry\": 52363,\n 'pahalniuk': 52364,\n 'honduras': 52365,\n 'bursting': 10786,\n \"pablo's\": 41465,\n 'irremediably': 52367,\n 'presages': 40963,\n 'bowlegged': 57832,\n 'dalip': 65183,\n 'entering': 6260,\n 'newsradio': 76172,\n 'presaged': 54150,\n \"giallo's\": 27663,\n 'bouyant': 40964,\n 'amerterish': 52368,\n 'rajni': 18523,\n 'leeves': 30610,\n 'macauley': 34767,\n 'seriously': 612,\n 'sugercoma': 52369,\n 'grimstead': 52370,\n \"'fairy'\": 52371,\n 'zenda': 30611,\n \"'twins'\": 52372,\n 'realisation': 17640,\n 'highsmith': 27664,\n 'raunchy': 7817,\n 'incentives': 40965,\n 'flatson': 52374,\n 'snooker': 35097,\n 'crazies': 16829,\n 'crazier': 14902,\n 'grandma': 7094,\n 'napunsaktha': 52375,\n 'workmanship': 30612,\n 'reisner': 52376,\n \"sanford's\": 61306,\n '\\x91doña': 52377,\n 'modest': 6108,\n \"everything's\": 19153,\n 'hamer': 40966,\n \"couldn't'\": 52379,\n 'quibble': 13001,\n 'socking': 52380,\n 'tingler': 21931,\n 'gutman': 52381,\n 'lachlan': 40967,\n 'tableaus': 52382,\n 'headbanger': 52383,\n 'spoken': 2847,\n 'cerebrally': 34768,\n \"'road\": 23490,\n 'tableaux': 21932,\n \"proust's\": 40968,\n 'periodical': 40969,\n \"shoveller's\": 52385,\n 'tamara': 25263,\n 'affords': 17641,\n 'concert': 3249,\n \"yara's\": 87955,\n 'someome': 52386,\n 'lingering': 8424,\n \"abraham's\": 41511,\n 'beesley': 34769,\n 'cherbourg': 34770,\n 'kagan': 28624,\n 'snatch': 9097,\n \"miyazaki's\": 9260,\n 'absorbs': 25264,\n \"koltai's\": 40970,\n 'tingled': 64027,\n 'crossroads': 19511,\n 'rehab': 16121,\n 'falworth': 52389,\n 'sequals': 52390,\n ...}"
     },
     "execution_count": 8,
     "metadata": {},
     "output_type": "execute_result"
    }
   ],
   "source": [
    "word_index = imdb.get_word_index()\n",
    "word_index"
   ]
  },
  {
   "cell_type": "code",
   "execution_count": 9,
   "id": "45bf0cda-41bb-4568-9e78-d4beec3b6402",
   "metadata": {
    "ExecuteTime": {
     "end_time": "2024-02-15T12:07:40.437192Z",
     "start_time": "2024-02-15T12:07:40.404187Z"
    }
   },
   "outputs": [
    {
     "data": {
      "text/plain": "\"[START] worst mistake of my life br br i picked this movie up at target for 5 because i figured hey it's sandler i can get some cheap laughs i was wrong completely wrong mid way through the film all three of my friends were asleep and i was still suffering worst plot worst script worst movie i have ever seen i wanted to hit my head up against a wall for an hour then i'd stop and you know why because it felt damn good upon bashing my head in i stuck that damn movie in the [OOV] and watched it burn and that felt better than anything else i've ever done it took american psycho army of darkness and kill bill just to get over that crap i hate you sandler for actually going through with this and ruining a whole day of my life\""
     },
     "execution_count": 9,
     "metadata": {},
     "output_type": "execute_result"
    }
   ],
   "source": [
    "# Reverse the word index to obtain a dict mapping indices to words\n",
    "# And add `index_from` to indices to sync with `x_train`\n",
    "inverted_word_index = dict(\n",
    "    (i + index_from, word) for (word, i) in word_index.items()\n",
    ")\n",
    "# Update `inverted_word_index` to include `start_char` and `oov_char`\n",
    "inverted_word_index[start_char] = \"[START]\"\n",
    "inverted_word_index[oov_char] = \"[OOV]\"\n",
    "# Decode the first sequence in the dataset\n",
    "decoded_sequence = \" \".join(inverted_word_index[i] for i in input_train[3])\n",
    "decoded_sequence"
   ]
  },
  {
   "cell_type": "code",
   "execution_count": 10,
   "id": "8057a563-175c-4ff7-a9df-fb4aabf485b2",
   "metadata": {
    "ExecuteTime": {
     "end_time": "2024-02-15T12:09:03.099767Z",
     "start_time": "2024-02-15T12:09:02.721120Z"
    }
   },
   "outputs": [],
   "source": [
    "input_train = pad_sequences(input_train, maxlen=maxlen)\n",
    "input_test = pad_sequences(input_test, maxlen=maxlen)\n",
    "# Застосування заздалегідь обраної максимальної довжини до послідовних даних тренувального та тестового наборів"
   ]
  },
  {
   "cell_type": "code",
   "execution_count": 11,
   "id": "372004ee-86fc-40b2-8720-cefa0a072078",
   "metadata": {
    "ExecuteTime": {
     "end_time": "2024-02-15T12:09:08.114167Z",
     "start_time": "2024-02-15T12:09:08.100804Z"
    }
   },
   "outputs": [
    {
     "data": {
      "text/plain": "array([[   0,    0,    0, ...,    7,   61,  113],\n       [   0,    0,    0, ...,    2,   10,   10],\n       [   0,    0,    0, ...,   55,   52, 1901],\n       ...,\n       [   0,    0,    0, ...,    4, 3586,    2],\n       [   0,    0,    0, ...,   12,    9,   23],\n       [   0,    0,    0, ...,  204,  131,    9]], dtype=int32)"
     },
     "execution_count": 11,
     "metadata": {},
     "output_type": "execute_result"
    }
   ],
   "source": [
    "input_train[3:]"
   ]
  },
  {
   "cell_type": "code",
   "execution_count": 12,
   "id": "dfbe7d52-b231-4887-a5b7-881046423f89",
   "metadata": {
    "ExecuteTime": {
     "end_time": "2024-02-15T12:09:19.426974Z",
     "start_time": "2024-02-15T12:09:19.412220Z"
    }
   },
   "outputs": [
    {
     "data": {
      "text/plain": "500"
     },
     "execution_count": 12,
     "metadata": {},
     "output_type": "execute_result"
    }
   ],
   "source": [
    "len(input_train[0])"
   ]
  },
  {
   "cell_type": "code",
   "execution_count": 13,
   "id": "41f19b32-0c8e-484e-ab1b-cb31106deb74",
   "metadata": {
    "ExecuteTime": {
     "end_time": "2024-02-15T12:18:19.888023Z",
     "start_time": "2024-02-15T12:18:19.873291Z"
    }
   },
   "outputs": [
    {
     "data": {
      "text/plain": "array([   0,    0,    0,    0,    0,    0,    0,    0,    0,    0,    0,\n          0,    0,    0,    0,    0,    0,    0,    0,    0,    0,    0,\n          0,    0,    0,    0,    0,    0,    0,    0,    0,    0,    0,\n          0,    0,    0,    0,    0,    0,    0,    0,    0,    0,    0,\n          0,    0,    0,    0,    0,    0,    0,    0,    0,    0,    0,\n          0,    0,    0,    0,    0,    0,    0,    0,    0,    0,    0,\n          0,    0,    0,    0,    0,    0,    0,    0,    0,    0,    0,\n          0,    0,    0,    0,    0,    0,    0,    0,    0,    0,    0,\n          0,    0,    0,    0,    0,    0,    0,    0,    0,    0,    0,\n          0,    0,    0,    0,    0,    0,    0,    0,    0,    0,    0,\n          0,    0,    0,    0,    0,    0,    0,    0,    0,    0,    0,\n          0,    0,    0,    0,    0,    0,    0,    0,    0,    0,    0,\n          0,    0,    0,    0,    0,    0,    0,    0,    0,    0,    0,\n          0,    0,    0,    0,    0,    0,    0,    0,    0,    0,    0,\n          0,    0,    0,    0,    0,    0,    0,    0,    0,    0,    0,\n          0,    0,    0,    0,    0,    0,    0,    0,    0,    0,    0,\n          0,    0,    0,    0,    0,    0,    0,    0,    0,    0,    0,\n          0,    0,    0,    0,    0,    0,    0,    0,    0,    0,    0,\n          0,    0,    0,    0,    0,    0,    0,    0,    0,    0,    0,\n          0,    0,    0,    0,    0,    0,    0,    0,    0,    0,    0,\n          0,    0,    0,    0,    0,    0,    0,    0,    0,    0,    0,\n          0,    0,    0,    0,    0,    0,    0,    0,    0,    0,    0,\n          0,    0,    0,    0,    0,    0,    0,    0,    0,    0,    0,\n          0,    0,    0,    0,    0,    0,    0,    0,    0,    0,    0,\n          0,    0,    0,    0,    0,    0,    0,    0,    0,    0,    0,\n          0,    0,    0,    0,    0,    0,    0,    0,    0,    0,    0,\n          0,    0,    0,    0,    0,    0,    0,    0,    0,    0,    0,\n          0,    0,    0,    0,    0,    0,    0,    0,    0,    0,    0,\n          0,    0,    0,    0,    0,    0,    0,    0,    0,    0,    0,\n          0,    0,    0,    0,    0,    0,    0,    0,    0,    0,    0,\n          0,    0,    0,    0,    0,    0,    0,    0,    0,    0,    0,\n          0,    0,    0,    0,    0,    0,    0,    0,    0,    0,    0,\n          0,    1,  249, 1323,    7,   61,  113,   10,   10,   13, 1637,\n         14,   20,   56,   33, 2401,   18,  457,   88,   13, 2626, 1400,\n         45, 3171,   13,   70,   79,   49,  706,  919,   13,   16,  355,\n        340,  355, 1696,   96,  143,    4,   22,   32,  289,    7,   61,\n        369,   71, 2359,    5,   13,   16,  131, 2073,  249,  114,  249,\n        229,  249,   20,   13,   28,  126,  110,   13,  473,    8,  569,\n         61,  419,   56,  429,    6, 1513,   18,   35,  534,   95,  474,\n        570,    5,   25,  124,  138,   88,   12,  421, 1543,   52,  725,\n       6397,   61,  419,   11,   13, 1571,   15, 1543,   20,   11,    4,\n          2,    5,  296,   12, 3524,    5,   15,  421,  128,   74,  233,\n        334,  207,  126,  224,   12,  562,  298, 2167, 1272,    7, 2601,\n          5,  516,  988,   43,    8,   79,  120,   15,  595,   13,  784,\n         25, 3171,   18,  165,  170,  143,   19,   14,    5, 7224,    6,\n        226,  251,    7,   61,  113], dtype=int32)"
     },
     "execution_count": 13,
     "metadata": {},
     "output_type": "execute_result"
    }
   ],
   "source": [
    "input_train[3]"
   ]
  },
  {
   "cell_type": "code",
   "execution_count": 14,
   "id": "a998476d-f769-49e4-98a9-244ddb100be0",
   "metadata": {
    "ExecuteTime": {
     "end_time": "2024-02-15T12:18:35.587795Z",
     "start_time": "2024-02-15T12:18:35.335291Z"
    }
   },
   "outputs": [],
   "source": [
    "model = Sequential()\n",
    "# Створення порожньої моделі Sequential\n",
    "\n",
    "# Додавання Embedding шар для перетворення слів в вектори фіксованої довжини\n",
    "model.add(Embedding(max_features, 32))\n",
    "# Параметри: кількість слів для розгляду як особливості та розмір вектора, що представляє кожне слово\n",
    "\n",
    "# Додавання SimpleRNN шару з 32 вузлами\n",
    "model.add(SimpleRNN(32))\n",
    "# Параметр: кількість вузлів (розмір прихованого стану)\n",
    "\n",
    "# Додавання Dense шару з одним вузлом та активацією sigmoid\n",
    "model.add(Dense(1, activation='sigmoid'))\n",
    "# Параметри: кількість вузлів (вихідний розмір) та функція активації (sigmoid для бінарної класифікації)"
   ]
  },
  {
   "cell_type": "code",
   "execution_count": 15,
   "id": "cef55fa2-62e4-444f-84d7-f958958af6e2",
   "metadata": {
    "ExecuteTime": {
     "end_time": "2024-02-15T12:18:37.750820Z",
     "start_time": "2024-02-15T12:18:37.745133Z"
    }
   },
   "outputs": [],
   "source": [
    "model.compile(optimizer='rmsprop', loss='binary_crossentropy', metrics=['acc'])"
   ]
  },
  {
   "cell_type": "code",
   "execution_count": 16,
   "id": "7691ecfd-ba51-4e7b-a6d6-579f0b9aae20",
   "metadata": {
    "ExecuteTime": {
     "end_time": "2024-02-15T12:18:38.996325Z",
     "start_time": "2024-02-15T12:18:38.973889Z"
    }
   },
   "outputs": [
    {
     "name": "stdout",
     "output_type": "stream",
     "text": [
      "Model: \"sequential\"\n",
      "_________________________________________________________________\n",
      " Layer (type)                Output Shape              Param #   \n",
      "=================================================================\n",
      " embedding (Embedding)       (None, None, 32)          320000    \n",
      "                                                                 \n",
      " simple_rnn (SimpleRNN)      (None, 32)                2080      \n",
      "                                                                 \n",
      " dense (Dense)               (None, 1)                 33        \n",
      "                                                                 \n",
      "=================================================================\n",
      "Total params: 322113 (1.23 MB)\n",
      "Trainable params: 322113 (1.23 MB)\n",
      "Non-trainable params: 0 (0.00 Byte)\n",
      "_________________________________________________________________\n"
     ]
    }
   ],
   "source": [
    "model.summary()"
   ]
  },
  {
   "cell_type": "code",
   "execution_count": 17,
   "id": "d51a7550-b2f8-4b1a-b5a6-8a1d2d565c48",
   "metadata": {
    "ExecuteTime": {
     "end_time": "2024-02-15T12:21:12.525120Z",
     "start_time": "2024-02-15T12:21:12.506658Z"
    }
   },
   "outputs": [
    {
     "data": {
      "text/plain": "32"
     },
     "execution_count": 17,
     "metadata": {},
     "output_type": "execute_result"
    }
   ],
   "source": [
    "#len(model.layers[0].weights[0][0])\n",
    "len(model.layers[0].weights[0][0])# one vector of length 32 per word -> this is learnt"
   ]
  },
  {
   "cell_type": "code",
   "execution_count": 18,
   "id": "ef9cc598-a527-454c-889a-5e709be51f4e",
   "metadata": {
    "ExecuteTime": {
     "end_time": "2024-02-15T12:21:44.028432Z",
     "start_time": "2024-02-15T12:21:13.853768Z"
    }
   },
   "outputs": [
    {
     "name": "stdout",
     "output_type": "stream",
     "text": [
      "Epoch 1/5\n",
      "126/126 [==============================] - 7s 49ms/step - loss: 0.6707 - acc: 0.5694 - val_loss: 0.5662 - val_acc: 0.7509\n",
      "Epoch 2/5\n",
      "126/126 [==============================] - 6s 47ms/step - loss: 0.4492 - acc: 0.8021 - val_loss: 0.3930 - val_acc: 0.8322\n",
      "Epoch 3/5\n",
      "126/126 [==============================] - 6s 46ms/step - loss: 0.3100 - acc: 0.8763 - val_loss: 0.4655 - val_acc: 0.8189\n",
      "Epoch 4/5\n",
      "126/126 [==============================] - 6s 46ms/step - loss: 0.2363 - acc: 0.9101 - val_loss: 0.3752 - val_acc: 0.8408\n",
      "Epoch 5/5\n",
      "126/126 [==============================] - 6s 46ms/step - loss: 0.1706 - acc: 0.9371 - val_loss: 1.4382 - val_acc: 0.6134\n"
     ]
    }
   ],
   "source": [
    "history = model.fit(input_train, y_train, epochs=5, batch_size=128, validation_split=0.3)\n",
    "# Запускаємо навчання моделі на тренувальних даних для 5 епох з розміром пакету 128 та розбиттям на тренувальну та валідаційну підмножини"
   ]
  },
  {
   "cell_type": "code",
   "execution_count": 19,
   "id": "0fe1bf9f-2883-41a9-bd57-c6a5e65d6c27",
   "metadata": {
    "ExecuteTime": {
     "end_time": "2024-02-15T12:23:10.297329Z",
     "start_time": "2024-02-15T12:23:09.994498Z"
    }
   },
   "outputs": [
    {
     "data": {
      "text/plain": "<Figure size 640x480 with 1 Axes>",
      "image/png": "[encoded data removed]"
     },
     "metadata": {},
     "output_type": "display_data"
    },
    {
     "data": {
      "text/plain": "<Figure size 640x480 with 1 Axes>",
      "image/png": "[encoded data removed]"
     },
     "metadata": {},
     "output_type": "display_data"
    }
   ],
   "source": [
    "acc = history.history['acc']\n",
    "val_acc = history.history['val_acc']\n",
    "loss = history.history['loss']\n",
    "val_loss = history.history['val_loss']\n",
    "\n",
    "epochs = range(1, len(acc) + 1)\n",
    "\n",
    "plt.plot(epochs, acc, 'bo', label='Точність на тренуванні')  # Графік точності на тренувальних данних\n",
    "plt.plot(epochs, val_acc, 'b', label='Точність на валідації')  # Графік точності на валідаційних данних\n",
    "plt.title('Точність тренування і валідації')  # Заголовок графіку\n",
    "plt.legend()  # Показати легенду\n",
    "\n",
    "plt.figure()\n",
    "\n",
    "plt.plot(epochs, loss, 'bo', label='Втрати на тренуванні')  # Графік втрат на тренувальних данних\n",
    "plt.plot(epochs, val_loss, 'b', label='Втрати на валідації')  # Графік втрат на валідаційних данних\n",
    "plt.title('Втрати тренування і валідації')  # Заголовок графіку\n",
    "plt.legend()  # Показати легенду\n",
    "\n",
    "plt.show()  # Відобразити графіки"
   ]
  },
  {
   "cell_type": "markdown",
   "id": "3fd374e1-524c-45ff-8b30-e7af28a5a657",
   "metadata": {},
   "source": [
    "## Embedding\n",
    "![embedding](https://textbook.edu.goit.global/python/data-science-remaster/v1/img/module-11/example3.png)"
   ]
  },
  {
   "cell_type": "code",
   "execution_count": 20,
   "id": "172c4b48-ddba-4836-81c9-9e570b08ffdb",
   "metadata": {
    "ExecuteTime": {
     "end_time": "2024-02-15T12:32:53.862379Z",
     "start_time": "2024-02-15T12:32:53.860267Z"
    }
   },
   "outputs": [],
   "source": [
    "# Let's take a detailed look at how the Embedding layer and the SimpleRNN layer can be implemented\n",
    "import numpy as np\n",
    "\n",
    "# Custom implementation of the Embedding layer\n",
    "class CustomEmbedding:\n",
    "    def __init__(self, input_dim, output_dim):\n",
    "        self.input_dim = input_dim\n",
    "        self.output_dim = output_dim\n",
    "        # Initialize embedding matrix with random values\n",
    "        self.embeddings_matrix = np.random.randn(input_dim, output_dim)\n",
    "\n",
    "    def forward(self, input_sequence):\n",
    "        # Retrieve embeddings for input sequence\n",
    "        embeddings = [self.embeddings_matrix[word_index] for word_index in input_sequence]\n",
    "        return np.array(embeddings)"
   ]
  },
  {
   "cell_type": "markdown",
   "id": "47aa1964-2214-4927-a31c-71af22984c29",
   "metadata": {},
   "source": [
    "## RNN and hidden layers\n",
    "\n",
    "## Sequence classification\n",
    "![embedding](https://textbook.edu.goit.global/python/data-science-remaster/v1/img/module-11/example3.png)"
   ]
  },
  {
   "cell_type": "code",
   "execution_count": 21,
   "id": "0136d33e-f622-4345-8156-aa3f173a911c",
   "metadata": {
    "ExecuteTime": {
     "end_time": "2024-02-15T12:38:07.480221Z",
     "start_time": "2024-02-15T12:38:07.474625Z"
    }
   },
   "outputs": [],
   "source": [
    "# Custom implementation of the SimpleRNN layer\n",
    "class CustomSimpleRNN:\n",
    "    def __init__(self, input_dim, hidden_dim):\n",
    "        self.input_dim = input_dim\n",
    "        self.hidden_dim = hidden_dim\n",
    "        # Initialize weights for input-to-hidden and hidden-to-hidden connections\n",
    "        self.Wx = np.random.randn(input_dim, hidden_dim)\n",
    "        self.Wh = np.random.randn(hidden_dim, hidden_dim)\n",
    "        # Initialize bias\n",
    "        self.b = np.zeros((1, hidden_dim))\n",
    "        # Initialize hidden state\n",
    "        self.h = None\n",
    "\n",
    "    def forward(self, input_sequence):\n",
    "        # Initialize hidden state with zeros\n",
    "        self.h = np.zeros((1, self.hidden_dim))\n",
    "        # Iterate over each timestep in input sequence\n",
    "        for input_t in input_sequence:\n",
    "            # Compute hidden state at current timestep\n",
    "            self.h = np.tanh(np.dot(input_t, self.Wx) + np.dot(self.h, self.Wh) + self.b)\n",
    "        return self.h\n",
    "\n"
   ]
  },
  {
   "cell_type": "code",
   "execution_count": 22,
   "id": "16b22be0-392e-4f38-a91b-682b473a105e",
   "metadata": {
    "ExecuteTime": {
     "end_time": "2024-02-15T12:42:03.059717Z",
     "start_time": "2024-02-15T12:42:03.050576Z"
    }
   },
   "outputs": [],
   "source": [
    "# Custom implementation of the Dense layer - for a sequence classification\n",
    "class CustomDense:\n",
    "    def __init__(self, input_dim, output_dim, activation):\n",
    "        self.input_dim = input_dim\n",
    "        self.output_dim = output_dim\n",
    "        self.activation = activation\n",
    "        # Initialize weights and bias\n",
    "        self.W = np.random.randn(input_dim, output_dim)\n",
    "        self.b = np.zeros((1, output_dim))\n",
    "\n",
    "    def forward(self, x):\n",
    "        # Compute affine transformation\n",
    "        z = np.dot(x, self.W) + self.b\n",
    "        # Apply activation function\n",
    "        if self.activation == 'sigmoid':\n",
    "            return 1 / (1 + np.exp(-z))\n",
    "        elif self.activation == 'relu':\n",
    "            return np.maximum(0, z)"
   ]
  },
  {
   "cell_type": "code",
   "execution_count": 23,
   "id": "cace5e5c-9052-44a0-af16-19dfc3197909",
   "metadata": {
    "ExecuteTime": {
     "end_time": "2024-02-15T12:43:12.832447Z",
     "start_time": "2024-02-15T12:43:12.816811Z"
    }
   },
   "outputs": [],
   "source": [
    "# Instantiate custom layers\n",
    "custom_embedding_layer = CustomEmbedding(input_dim=max_features, output_dim=32)  # max_features = 10000\n",
    "custom_simple_rnn_layer = CustomSimpleRNN(input_dim=32, hidden_dim=32)\n",
    "custom_dense_layer = CustomDense(input_dim=32, output_dim=1, activation='sigmoid')\n"
   ]
  },
  {
   "cell_type": "code",
   "execution_count": 24,
   "id": "4aeef876-a0a3-413b-9be0-235d9c180de7",
   "metadata": {
    "ExecuteTime": {
     "end_time": "2024-02-15T12:43:59.526733Z",
     "start_time": "2024-02-15T12:43:59.517523Z"
    }
   },
   "outputs": [
    {
     "data": {
      "text/plain": "array([   0,    0,    0,    0,    0,    0,    0,    0,    0,    0,    0,\n          0,    0,    0,    0,    0,    0,    0,    0,    0,    0,    0,\n          0,    0,    0,    0,    0,    0,    0,    0,    0,    0,    0,\n          0,    0,    0,    0,    0,    0,    0,    0,    0,    0,    0,\n          0,    0,    0,    0,    0,    0,    0,    0,    0,    0,    0,\n          0,    0,    0,    0,    0,    0,    0,    0,    0,    0,    0,\n          0,    0,    0,    0,    0,    0,    0,    0,    0,    0,    0,\n          0,    0,    0,    0,    0,    0,    0,    0,    0,    0,    0,\n          0,    0,    0,    0,    0,    0,    0,    0,    0,    0,    0,\n          0,    0,    0,    0,    0,    0,    0,    0,    0,    0,    0,\n          0,    0,    0,    0,    0,    0,    0,    0,    0,    0,    0,\n          0,    0,    0,    0,    0,    0,    0,    0,    0,    0,    0,\n          0,    0,    0,    0,    0,    0,    0,    0,    0,    0,    0,\n          0,    0,    0,    0,    0,    0,    0,    0,    0,    0,    0,\n          0,    0,    0,    0,    0,    0,    0,    0,    0,    0,    0,\n          0,    0,    0,    0,    0,    0,    0,    0,    0,    0,    0,\n          0,    0,    0,    0,    0,    0,    0,    0,    0,    0,    0,\n          0,    0,    0,    0,    0,    0,    0,    0,    0,    0,    0,\n          0,    0,    0,    0,    0,    0,    0,    0,    0,    0,    0,\n          0,    0,    0,    0,    0,    0,    0,    0,    0,    0,    0,\n          0,    0,    0,    0,    0,    0,    0,    0,    0,    0,    0,\n          0,    0,    0,    0,    0,    0,    0,    0,    0,    0,    0,\n          0,    0,    0,    0,    0,    0,    0,    0,    0,    0,    0,\n          0,    0,    0,    0,    0,    0,    0,    0,    0,    0,    0,\n          0,    0,    0,    0,    0,    0,    0,    0,    0,    0,    0,\n          0,    0,    0,    0,    0,    0,    0,    1,   14,   22,   16,\n         43,  530,  973, 1622, 1385,   65,  458, 4468,   66, 3941,    4,\n        173,   36,  256,    5,   25,  100,   43,  838,  112,   50,  670,\n          2,    9,   35,  480,  284,    5,  150,    4,  172,  112,  167,\n          2,  336,  385,   39,    4,  172, 4536, 1111,   17,  546,   38,\n         13,  447,    4,  192,   50,   16,    6,  147, 2025,   19,   14,\n         22,    4, 1920, 4613,  469,    4,   22,   71,   87,   12,   16,\n         43,  530,   38,   76,   15,   13, 1247,    4,   22,   17,  515,\n         17,   12,   16,  626,   18,    2,    5,   62,  386,   12,    8,\n        316,    8,  106,    5,    4, 2223, 5244,   16,  480,   66, 3785,\n         33,    4,  130,   12,   16,   38,  619,    5,   25,  124,   51,\n         36,  135,   48,   25, 1415,   33,    6,   22,   12,  215,   28,\n         77,   52,    5,   14,  407,   16,   82,    2,    8,    4,  107,\n        117, 5952,   15,  256,    4,    2,    7, 3766,    5,  723,   36,\n         71,   43,  530,  476,   26,  400,  317,   46,    7,    4,    2,\n       1029,   13,  104,   88,    4,  381,   15,  297,   98,   32, 2071,\n         56,   26,  141,    6,  194, 7486,   18,    4,  226,   22,   21,\n        134,  476,   26,  480,    5,  144,   30, 5535,   18,   51,   36,\n         28,  224,   92,   25,  104,    4,  226,   65,   16,   38, 1334,\n         88,   12,   16,  283,    5,   16, 4472,  113,  103,   32,   15,\n         16, 5345,   19,  178,   32], dtype=int32)"
     },
     "execution_count": 24,
     "metadata": {},
     "output_type": "execute_result"
    }
   ],
   "source": [
    "input_train[0]"
   ]
  },
  {
   "cell_type": "code",
   "execution_count": 25,
   "id": "7fed5def-b114-4575-b757-60ff76d810af",
   "metadata": {
    "ExecuteTime": {
     "end_time": "2024-02-15T12:44:13.879670Z",
     "start_time": "2024-02-15T12:44:13.854240Z"
    }
   },
   "outputs": [
    {
     "data": {
      "text/plain": "500"
     },
     "execution_count": 25,
     "metadata": {},
     "output_type": "execute_result"
    }
   ],
   "source": [
    "# Forward pass through custom layers\n",
    "\n",
    "embedded_sequence = custom_embedding_layer.forward(input_train[0])\n",
    "len(embedded_sequence) # each word encoded into a 32-element vector"
   ]
  },
  {
   "cell_type": "code",
   "execution_count": 26,
   "id": "7e10afdc-9e5c-47d7-b872-896c2336c02a",
   "metadata": {
    "ExecuteTime": {
     "end_time": "2024-02-15T12:44:37.327442Z",
     "start_time": "2024-02-15T12:44:37.317505Z"
    }
   },
   "outputs": [
    {
     "data": {
      "text/plain": "array([-0.02427622, -0.59266735,  0.95348982, -0.12090245, -0.70819499,\n       -1.00416052, -0.61124679,  2.47383753,  0.24138428,  0.49653167,\n        0.3116135 ,  0.09038337, -0.35481501, -0.62345902,  0.4198833 ,\n        0.1789225 , -0.38146282, -1.23188713, -0.36845052,  1.36450782,\n       -1.2083639 ,  1.0685264 , -1.41897531, -0.75829054,  0.53937495,\n        0.80555487, -0.97696419,  1.98258627, -0.09878577, -0.38293328,\n       -0.35292298, -0.77868694])"
     },
     "execution_count": 26,
     "metadata": {},
     "output_type": "execute_result"
    }
   ],
   "source": [
    "embedded_sequence[-1]"
   ]
  },
  {
   "cell_type": "code",
   "execution_count": 27,
   "id": "d12ab213-c0ae-4a76-929c-af6122647a2c",
   "metadata": {
    "ExecuteTime": {
     "end_time": "2024-02-15T12:44:56.704180Z",
     "start_time": "2024-02-15T12:44:56.686416Z"
    }
   },
   "outputs": [
    {
     "data": {
      "text/plain": "array([[ 1.        ,  0.66809328,  1.        ,  1.        ,  0.11314049,\n         1.        , -0.96406881,  0.99991806, -1.        ,  0.99999797,\n         0.99999762, -1.        , -0.99999864, -1.        ,  1.        ,\n        -0.99999999, -0.99999999, -1.        , -1.        ,  0.99999585,\n        -0.98146938,  1.        ,  0.50335117, -0.99457094,  0.99993529,\n        -0.91353794, -0.99999829,  0.99999775, -0.99998623, -0.96857198,\n         0.99990245,  1.        ]])"
     },
     "execution_count": 27,
     "metadata": {},
     "output_type": "execute_result"
    }
   ],
   "source": [
    "rnn_output = custom_simple_rnn_layer.forward(embedded_sequence)\n",
    "rnn_output"
   ]
  },
  {
   "cell_type": "code",
   "execution_count": 28,
   "id": "112d0f21-06e7-48be-b949-c15bb3c56936",
   "metadata": {
    "ExecuteTime": {
     "end_time": "2024-02-15T12:45:22.363829Z",
     "start_time": "2024-02-15T12:45:22.348205Z"
    }
   },
   "outputs": [
    {
     "data": {
      "text/plain": "array([[3.78079499e-05]])"
     },
     "execution_count": 28,
     "metadata": {},
     "output_type": "execute_result"
    }
   ],
   "source": [
    "predictions = custom_dense_layer.forward(rnn_output)\n",
    "predictions"
   ]
  },
  {
   "cell_type": "code",
   "execution_count": 29,
   "id": "4d6aa200-59cd-4aef-86d1-a19031ed9d38",
   "metadata": {
    "ExecuteTime": {
     "end_time": "2024-02-15T12:45:55.079599Z",
     "start_time": "2024-02-15T12:45:55.065198Z"
    }
   },
   "outputs": [
    {
     "data": {
      "text/plain": "array([-0.99996219])"
     },
     "execution_count": 29,
     "metadata": {},
     "output_type": "execute_result"
    }
   ],
   "source": [
    "# Backward pass through custom layers\n",
    "loss = predictions - y_train[0]  # Gradient of loss with respect to dense layer output\n",
    "loss[0]"
   ]
  },
  {
   "cell_type": "code",
   "execution_count": 30,
   "id": "6f91a78e-d606-4f72-a86b-f28c37fcfb4d",
   "metadata": {
    "ExecuteTime": {
     "end_time": "2024-02-15T12:45:56.755188Z",
     "start_time": "2024-02-15T12:45:56.740300Z"
    }
   },
   "outputs": [
    {
     "data": {
      "text/plain": "1"
     },
     "execution_count": 30,
     "metadata": {},
     "output_type": "execute_result"
    }
   ],
   "source": [
    "y_train[0]"
   ]
  },
  {
   "cell_type": "code",
   "execution_count": 31,
   "id": "0a005fd5-ff2f-421d-b913-dc54625aa372",
   "metadata": {
    "ExecuteTime": {
     "end_time": "2024-02-15T12:46:20.772150Z",
     "start_time": "2024-02-15T12:46:20.752196Z"
    }
   },
   "outputs": [
    {
     "data": {
      "text/plain": "array([[-0.20504731, -1.36750062, -0.58419838, ...,  0.73088843,\n        -0.87547033,  0.66333351],\n       [ 0.37263077, -0.91650201,  0.54731989, ..., -0.69189857,\n         0.09537483, -0.0388694 ],\n       [ 0.3693715 , -0.22248256,  1.52595486, ..., -0.26762191,\n         0.44117429,  1.68611761],\n       ...,\n       [ 0.5983791 ,  0.647718  ,  0.25237109, ...,  1.24852616,\n         0.73417784, -0.55432101],\n       [-0.35531856,  0.65543911, -1.94459058, ...,  0.90696173,\n        -0.20849336,  0.86794673],\n       [-1.68918193, -1.42029741,  0.31146709, ...,  0.54313975,\n        -1.12201992, -1.17875564]])"
     },
     "execution_count": 31,
     "metadata": {},
     "output_type": "execute_result"
    }
   ],
   "source": [
    "custom_simple_rnn_layer.Wh"
   ]
  },
  {
   "cell_type": "markdown",
   "id": "bc9e3d59-eb91-4426-9f47-e28d30cdcb21",
   "metadata": {},
   "source": [
    "### Token classification"
   ]
  },
  {
   "cell_type": "code",
   "execution_count": 32,
   "id": "0f79d17c-9130-48d2-965e-2e58478fdb90",
   "metadata": {
    "ExecuteTime": {
     "end_time": "2024-02-15T15:29:49.786106Z",
     "start_time": "2024-02-15T15:29:49.782802Z"
    }
   },
   "outputs": [],
   "source": [
    "import numpy as np\n",
    "\n",
    "# для порівняння:\n",
    "\"\"\"\n",
    "class CustomSimpleRNN:\n",
    "    def __init__(self, input_dim, hidden_dim):\n",
    "        self.input_dim = input_dim\n",
    "        self.hidden_dim = hidden_dim\n",
    "        self.Wx = np.random.randn(input_dim, hidden_dim)\n",
    "        self.Wh = np.random.randn(hidden_dim, hidden_dim)\n",
    "        self.b = np.zeros((1, hidden_dim))\n",
    "        self.h = None\n",
    "\n",
    "    def forward(self, input_sequence):\n",
    "        # Initialize hidden state with zeros\n",
    "        self.h = np.zeros((1, self.hidden_dim))\n",
    "        for input_t in input_sequence:\n",
    "            self.h = np.tanh(np.dot(input_t, self.Wx) + np.dot(self.h, self.Wh) + self.b)\n",
    "        return self.h\n",
    "\"\"\"\n",
    "class CustomSimpleRNN:\n",
    "    def __init__(self, input_dim, hidden_dim):\n",
    "        self.input_dim = input_dim\n",
    "        self.hidden_dim = hidden_dim\n",
    "        self.Wx = np.random.randn(input_dim, hidden_dim)\n",
    "        self.Wh = np.random.randn(hidden_dim, hidden_dim)\n",
    "        self.b = np.zeros((1, hidden_dim))\n",
    "        self.h = None\n",
    "\n",
    "    def forward(self, input_sequence):\n",
    "        self.h = np.zeros((len(input_sequence), self.hidden_dim))\n",
    "        for t in range(len(input_sequence)):\n",
    "            self.h[t] = np.tanh(np.dot(input_sequence[t], self.Wx) + np.dot(self.h[t-1], self.Wh) + self.b)\n",
    "        return self.h\n"
   ]
  },
  {
   "cell_type": "code",
   "execution_count": 33,
   "id": "0965ba84-60f8-41f5-89c5-5577d2f6f85d",
   "metadata": {
    "ExecuteTime": {
     "end_time": "2024-02-15T15:29:56.303660Z",
     "start_time": "2024-02-15T15:29:56.291112Z"
    }
   },
   "outputs": [],
   "source": [
    "class CustomDense:\n",
    "    def __init__(self, input_dim, output_dim):\n",
    "        self.input_dim = input_dim\n",
    "        self.output_dim = output_dim\n",
    "        self.W = np.random.randn(input_dim, output_dim)\n",
    "        self.b = np.zeros((1, output_dim))\n",
    "\n",
    "    def forward(self, x):\n",
    "        z = np.dot(x, self.W) + self.b\n",
    "        return z\n",
    "    \n",
    "    def softmax(self, z):\n",
    "        exp_z = np.exp(z - np.max(z, axis=1, keepdims=True))\n",
    "        return exp_z / np.sum(exp_z, axis=1, keepdims=True)\n",
    "\n",
    "    def softmax_output(self, x):\n",
    "        z = np.dot(x, self.W) + self.b\n",
    "        return self.softmax(z)"
   ]
  },
  {
   "cell_type": "code",
   "execution_count": 34,
   "id": "88a6cf85-f065-410d-868d-5ca74238081b",
   "metadata": {
    "ExecuteTime": {
     "end_time": "2024-02-15T15:30:41.034334Z",
     "start_time": "2024-02-15T15:30:41.018834Z"
    }
   },
   "outputs": [
    {
     "data": {
      "text/plain": "array([[-0.17103821,  2.1644288 , -0.72609163, ..., -0.98694648,\n         0.36662407, -0.35051182],\n       [-0.17103821,  2.1644288 , -0.72609163, ..., -0.98694648,\n         0.36662407, -0.35051182],\n       [-0.17103821,  2.1644288 , -0.72609163, ..., -0.98694648,\n         0.36662407, -0.35051182],\n       ...,\n       [ 0.60859491, -1.16792042, -1.70853846, ...,  0.17542058,\n        -0.62520004,  0.21857234],\n       [ 0.88911654, -0.40858865,  0.14337145, ...,  0.13377274,\n        -1.73637714, -0.60587366],\n       [ 1.59144754,  0.69009627,  0.59880658, ..., -0.78183305,\n        -0.22950839, -0.30606702]])"
     },
     "execution_count": 34,
     "metadata": {},
     "output_type": "execute_result"
    }
   ],
   "source": [
    "# Instantiate custom layers\n",
    "custom_embedding_layer = CustomEmbedding(input_dim=max_features, output_dim=32)\n",
    "custom_simple_rnn_layer = CustomSimpleRNN(input_dim=32, hidden_dim=32)\n",
    "# Output dimension is set to the number of tokens in the input sequence\n",
    "num_classes = 2  # Assuming `maxlen` is the maximum length of input sequence\n",
    "custom_dense_layer = CustomDense(input_dim=32, output_dim=num_classes)\n",
    "\n",
    "# Forward pass through custom layers\n",
    "embedded_sequence = custom_embedding_layer.forward(input_train[0])\n",
    "embedded_sequence"
   ]
  },
  {
   "cell_type": "code",
   "execution_count": 35,
   "id": "6609c54d-8e8d-412e-9cbd-1fcfd2abc117",
   "metadata": {
    "ExecuteTime": {
     "end_time": "2024-02-15T15:32:21.116618Z",
     "start_time": "2024-02-15T15:32:21.109343Z"
    }
   },
   "outputs": [
    {
     "data": {
      "text/plain": "32"
     },
     "execution_count": 35,
     "metadata": {},
     "output_type": "execute_result"
    }
   ],
   "source": [
    "rnn_output = custom_simple_rnn_layer.forward(embedded_sequence)\n",
    "len(rnn_output[0])"
   ]
  },
  {
   "cell_type": "code",
   "execution_count": 36,
   "id": "6bd0ee1f-452d-4f18-adfe-0415fdd1b771",
   "metadata": {
    "ExecuteTime": {
     "end_time": "2024-02-15T15:32:22.644974Z",
     "start_time": "2024-02-15T15:32:22.629564Z"
    }
   },
   "outputs": [
    {
     "data": {
      "text/plain": "array([[ 6.63169839e+00,  2.39429042e+00],\n       [ 1.00378236e+00,  1.54652338e+00],\n       [-1.65296110e+00, -3.80224242e+00],\n       [-6.71860038e+00, -5.88553382e+00],\n       [ 7.80589504e-02,  6.52347566e-01],\n       [-3.89636184e+00,  3.07798848e+00],\n       [-2.59805065e+00,  1.97641515e+00],\n       [-3.19687264e+00, -5.08058207e+00],\n       [-6.19740610e+00, -6.26225737e+00],\n       [-2.61509634e+00, -1.53151066e+00],\n       [-6.15733530e+00,  4.84215623e+00],\n       [-5.62805241e+00,  1.40844783e+00],\n       [-6.77331255e+00, -6.96947509e+00],\n       [ 3.93078616e+00, -3.27829182e-01],\n       [-5.19620378e+00,  1.65728345e+00],\n       [-5.50268494e+00,  5.09719407e+00],\n       [-6.34139596e+00, -3.23141822e+00],\n       [-8.36384431e+00, -3.36356183e+00],\n       [-6.76135247e+00, -7.69939210e-01],\n       [-6.75737992e+00,  2.28779806e+00],\n       [-7.95362720e+00,  3.08258439e+00],\n       [-8.88913018e+00, -2.55210805e-01],\n       [-3.64917347e+00, -3.48717846e+00],\n       [ 2.17157836e+00,  5.55743991e-01],\n       [-6.64180074e+00, -3.04274580e+00],\n       [-1.58687040e+00,  1.44003787e+00],\n       [-5.34225329e+00,  3.29988767e+00],\n       [-6.41659570e+00,  3.76639675e-01],\n       [-8.39569303e+00,  2.74159922e+00],\n       [-2.94650452e+00,  5.66450515e-01],\n       [ 6.25765644e+00, -2.15149596e+00],\n       [-4.98217470e+00, -4.15034063e+00],\n       [ 1.93283480e+00,  1.14170943e+00],\n       [-4.80923457e+00,  5.34976234e-01],\n       [-8.89168733e+00,  1.39690496e+00],\n       [-1.00775455e+01, -1.23546588e+00],\n       [-5.39777450e+00,  1.85828180e+00],\n       [-4.44313955e+00,  4.67198432e+00],\n       [-3.70168687e+00,  4.15054651e+00],\n       [-5.72271646e+00, -2.57874764e+00],\n       [-5.84763540e+00, -4.41706059e+00],\n       [-3.18336813e+00,  1.10395304e-01],\n       [-6.02715574e+00,  2.28564908e+00],\n       [-7.37135876e+00,  1.98697583e+00],\n       [-6.05291707e+00,  1.70352821e+00],\n       [-9.25648556e+00,  7.53450270e-01],\n       [-7.63085076e+00, -1.02625647e+00],\n       [ 1.51950201e+00,  4.04456762e+00],\n       [ 1.21790795e+00,  2.30257192e+00],\n       [-2.06773997e+00,  5.31519503e+00],\n       [ 1.85728365e-01, -1.79274631e+00],\n       [-6.39855413e+00, -2.53091092e+00],\n       [-3.82272516e+00, -2.27288638e+00],\n       [-9.15271421e-01,  2.38817231e+00],\n       [-4.75001270e+00,  2.79280326e+00],\n       [-3.67484413e+00,  2.73856731e-01],\n       [-7.51837491e+00, -3.19251627e-01],\n       [-3.36706023e+00,  3.27858825e+00],\n       [-1.14841126e+00,  3.27227357e+00],\n       [-7.75479392e+00, -3.77083754e-01],\n       [-2.99859823e+00, -4.02148861e-01],\n       [-4.76314251e+00,  9.86274882e-01],\n       [ 1.42574653e-01, -1.14868231e+00],\n       [-4.76552716e+00, -3.05339605e+00],\n       [-8.22684039e+00, -1.67722193e+00],\n       [-8.39081969e+00,  2.51560266e+00],\n       [-1.01662765e+00, -2.34821130e+00],\n       [-4.91061587e-01,  5.14395021e+00],\n       [-5.78287695e+00, -1.00806842e+00],\n       [-5.02445971e+00, -1.74243565e+00],\n       [-1.34596913e+00, -4.31739492e+00],\n       [-3.21759585e+00,  4.66834857e-01],\n       [-8.83268023e+00,  4.83902380e+00],\n       [-1.09034586e+01, -3.95981698e-01],\n       [-4.10596808e+00,  1.69837106e+00],\n       [-4.34862423e+00,  1.86208194e+00],\n       [-4.96532044e+00, -2.55601782e+00],\n       [-4.34008863e+00,  7.83453892e-01],\n       [-4.88753303e+00,  2.37347383e-01],\n       [-7.51737240e+00,  2.03712187e+00],\n       [-7.42328813e+00,  4.89333849e+00],\n       [-4.25893142e+00,  1.04677406e+00],\n       [-2.43832685e+00, -4.33361753e-01],\n       [-3.62338114e+00,  4.67617516e+00],\n       [-1.89594951e+00, -5.90502617e-01],\n       [-3.78611291e+00, -7.77656729e+00],\n       [-3.35892067e+00, -5.19454211e+00],\n       [ 1.32032836e+00,  9.91453827e-01],\n       [-4.28755505e+00,  2.86074311e+00],\n       [-3.25753142e+00,  3.63401384e+00],\n       [-4.52071072e+00, -3.15297816e+00],\n       [-5.75831737e+00, -5.43166929e+00],\n       [-2.53836946e+00,  1.16384189e+00],\n       [-6.08241242e+00,  1.83319587e+00],\n       [-7.86037854e+00,  2.69902388e+00],\n       [-7.99776989e+00,  1.18160452e+00],\n       [-7.34501664e+00, -1.01481531e+00],\n       [-1.45976296e+00,  2.28724097e+00],\n       [ 3.08415870e+00,  4.86302629e+00],\n       [-2.49775792e+00,  1.78527689e+00],\n       [ 3.51833519e-01, -3.05139356e-01],\n       [-6.71998911e+00, -3.33806634e+00],\n       [-2.39201806e+00,  1.71236171e+00],\n       [-5.73783851e+00,  2.19130544e+00],\n       [-7.18993167e+00,  2.18606058e+00],\n       [-6.14028562e+00,  1.29985682e+00],\n       [-8.72112224e+00,  3.83318184e-01],\n       [-6.32650946e+00, -1.33589836e+00],\n       [ 2.66312894e+00,  2.94189530e+00],\n       [-6.17227381e-01, -2.75716501e+00],\n       [-6.44338655e-01,  1.73007989e+00],\n       [-5.36893876e+00, -5.82384614e-01],\n       [-4.55124039e+00, -7.44501870e-01],\n       [-5.36132795e+00,  7.74815514e-01],\n       [-4.79174801e+00,  6.44717010e-01],\n       [-7.61025859e+00,  1.85616452e+00],\n       [-7.22210821e+00,  3.49393808e+00],\n       [-5.80812847e+00,  9.59076629e-01],\n       [-5.62379138e+00,  2.72831203e-01],\n       [ 4.08034142e+00,  5.26278777e+00],\n       [-5.05124651e+00, -6.07841163e+00],\n       [-1.28290959e+00,  9.20699344e-01],\n       [-2.94584512e+00,  2.62580271e+00],\n       [-2.35614574e+00, -7.56126596e-01],\n       [-7.39866629e+00, -3.74702487e+00],\n       [-2.46525956e+00,  1.94834749e+00],\n       [-5.97003769e+00,  2.19915138e+00],\n       [-7.38874135e+00,  2.36687270e+00],\n       [-7.03690436e+00,  1.11484057e+00],\n       [-7.65504087e+00, -4.70247712e-01],\n       [-5.68939298e+00, -1.33998490e-01],\n       [ 4.66606109e+00,  5.59477146e+00],\n       [-4.24105073e+00, -5.64136878e+00],\n       [-6.98374907e-02, -1.39934989e-01],\n       [-3.37493350e+00,  2.11672161e+00],\n       [-2.79046500e+00, -1.01627292e+00],\n       [-6.83194416e+00, -3.17124530e+00],\n       [-2.55399251e+00,  2.11467226e+00],\n       [-5.31065491e+00,  2.19068429e+00],\n       [-6.75880206e+00,  1.01210331e+00],\n       [-1.05314760e+01,  3.99307766e+00],\n       [-2.58811168e+00,  1.34610075e+00],\n       [ 4.41200899e+00, -9.16096953e-01],\n       [-6.23511057e+00, -4.57440728e-02],\n       [ 3.05884286e+00, -2.16026298e+00],\n       [-5.58996460e+00, -3.96014728e+00],\n       [-4.88500572e+00,  2.76057059e-01],\n       [-5.54234350e+00,  2.24963027e+00],\n       [-7.06038508e+00,  2.23811995e+00],\n       [-7.14730261e+00,  1.38421806e+00],\n       [-7.26206662e+00, -8.71219145e-01],\n       [-5.18019107e+00,  6.47788852e-01],\n       [ 5.10296245e+00,  6.08664853e+00],\n       [-4.25399585e+00, -6.10220574e+00],\n       [-2.70549315e-01,  1.50515597e+00],\n       [-3.60477313e+00,  2.02266237e+00],\n       [-3.35729533e+00, -2.19778125e+00],\n       [-8.13610751e+00, -4.21865439e+00],\n       [-2.64529381e+00,  1.22990048e+00],\n       [-5.88258273e+00,  3.21347996e+00],\n       [-6.22561537e+00,  1.39866250e+00],\n       [-8.55993572e+00,  1.29129558e+00],\n       [-4.09870438e+00, -3.78120238e-01],\n       [ 4.50225037e+00,  3.36361680e+00],\n       [-4.62938780e+00, -4.12485620e+00],\n       [ 1.55840047e+00,  2.70616361e+00],\n       [-2.51694710e+00, -2.01050109e+00],\n       [-4.00808165e+00, -6.20674034e+00],\n       [-3.82430713e+00, -4.38157490e+00],\n       [-1.15867506e+00, -4.56323041e-03],\n       [-4.97980859e+00,  3.31680450e+00],\n       [-7.47193217e+00,  4.15489268e+00],\n       [-8.71911106e+00, -3.08347104e+00],\n       [-6.96839472e+00, -3.81779890e-01],\n       [ 2.56316301e+00,  1.12967859e+00],\n       [-7.20678167e+00, -3.02526013e+00],\n       [-1.03073486e+00,  4.33198892e-01],\n       [-5.59868182e+00,  2.53749843e+00],\n       [-7.30649440e+00,  2.54622567e+00],\n       [-1.02033509e+01,  3.58562583e-01],\n       [-4.95993207e+00,  1.05224508e+00],\n       [ 4.86667520e+00,  2.01406036e+00],\n       [-6.74509219e+00, -2.51943134e+00],\n       [-7.41247657e-01, -1.47149116e+00],\n       [-4.45391530e+00, -3.61598767e+00],\n       [-5.62145351e+00,  1.35604618e-01],\n       [-7.39185728e+00,  8.19090941e+00],\n       [-4.70878467e+00, -2.43853864e+00],\n       [-5.20023736e+00, -3.75962951e+00],\n       [-4.26253224e+00,  1.36850275e+00],\n       [-6.32096314e+00,  1.99570201e+00],\n       [-7.62443074e+00,  2.34433067e+00],\n       [-7.02498900e+00,  1.60583888e+00],\n       [-8.33206666e+00, -2.69771750e-01],\n       [-6.70069871e+00, -3.08480394e-01],\n       [ 4.63615678e+00,  5.10008223e+00],\n       [-3.76857485e+00, -5.11771205e+00],\n       [-7.43418788e-01, -2.19123946e+00],\n       [-2.24093095e-02,  2.02772751e+00],\n       [-3.25221394e+00,  2.04757929e+00],\n       [-3.52972169e+00, -1.92572059e+00],\n       [-7.18371842e+00, -3.58199096e+00],\n       [-2.04223276e+00,  1.70886591e+00],\n       [-5.09831113e+00,  2.43530351e+00],\n       [-6.64669053e+00,  4.15479671e+00],\n       [-6.43524634e+00,  1.36251235e-02],\n       [-6.71009363e+00, -1.74276089e-02],\n       [-2.29871038e+00,  1.31490443e-01],\n       [ 4.93194536e+00,  2.37646196e+00],\n       [-2.72928882e+00, -1.66614456e+00],\n       [ 3.44699494e+00, -1.02876680e+00],\n       [-6.60749630e+00, -8.14982667e+00],\n       [-1.56199857e+00, -4.03034082e+00],\n       [-3.75514568e+00,  9.27416787e-01],\n       [-5.50503307e+00,  3.95060655e+00],\n       [-6.58000508e+00,  1.78855830e+00],\n       [-1.36902434e+00, -1.89780392e+00],\n       [ 4.19240265e+00, -4.77011707e+00],\n       [-5.75494687e+00, -5.01074578e+00],\n       [-1.47274908e+00,  4.63675969e-01],\n       [-5.80142648e+00,  2.37160942e+00],\n       [-8.30443586e+00,  4.34409955e+00],\n       [-9.60403928e+00, -9.52034093e-01],\n       [-6.56519731e+00, -1.67592967e+00],\n       [ 1.37072514e+00,  7.84175648e-02],\n       [-4.33816918e+00, -1.37076603e+00],\n       [-1.20826779e+00,  2.09016304e+00],\n       [-4.11360188e+00,  1.22887631e+00],\n       [-6.36892358e+00,  3.31447126e-01],\n       [-9.52493949e+00,  4.29648244e+00],\n       [-2.71235116e+00,  1.27569113e+00],\n       [ 4.43927618e+00, -2.18344131e+00],\n       [-6.29145186e+00, -1.77250761e+00],\n       [ 5.69943197e-01, -2.13245045e+00],\n       [-4.35422298e+00, -3.51647274e+00],\n       [-6.28286068e+00, -2.27897291e-02],\n       [-6.36591781e+00,  7.00440758e+00],\n       [-6.41736923e+00, -2.76012165e+00],\n       [-5.71877576e+00, -5.75782645e+00],\n       [-2.39519007e+00,  8.92052710e-01],\n       [-5.32358532e+00,  2.33208242e+00],\n       [-7.82824277e+00,  2.25184931e+00],\n       [-7.75255345e+00,  2.09758610e+00],\n       [-6.64643108e+00, -3.88350445e-01],\n       [-1.03912478e+00,  3.15839044e+00],\n       [ 2.94954023e+00,  2.83908551e+00],\n       [-2.85716270e+00,  1.37958934e+00],\n       [ 1.25314266e+00, -2.12792792e+00],\n       [-6.26948077e+00, -4.23268267e+00],\n       [-2.13162633e+00,  1.92262171e+00],\n       [-4.93337893e+00,  2.38278837e+00],\n       [-6.16528909e+00,  2.69365494e+00],\n       [-5.82697090e+00,  1.00117573e+00],\n       [-8.22701369e+00,  7.79357721e-01],\n       [-4.54678786e+00, -8.77241574e-01],\n       [ 4.05626178e+00,  4.04545624e+00],\n       [-4.08786441e+00, -4.49677079e+00],\n       [ 1.21569554e+00,  2.42570841e+00],\n       [-4.25554177e+00,  2.41305143e-01],\n       [-4.75069287e+00, -1.24764298e+00],\n       [-5.48257250e+00, -2.12785016e+00],\n       [-1.20401883e+00,  5.99486109e-01],\n       [-5.38438166e+00,  3.69004014e+00],\n       [-6.66552014e+00, -2.58906253e-03],\n       [-8.24213601e+00,  3.53198908e+00],\n       [-3.04478029e+00,  1.79078746e+00],\n       [ 5.47064777e+00, -3.01387863e+00],\n       [-4.79722926e+00, -2.14656660e+00],\n       [-4.42110148e-01, -2.27875083e+00],\n       [-3.57420470e+00, -3.21308999e+00],\n       [-3.87922658e+00,  2.41485258e-01],\n       [-8.52410085e+00,  5.05172633e+00],\n       [-1.08285882e+01, -4.91262235e-01],\n       [-4.14231823e+00,  1.58995626e+00],\n       [-5.15262785e+00,  2.21084147e+00],\n       [-4.37927915e+00,  2.00449534e-01],\n       [-5.09562478e+00,  1.10756566e+00],\n       [-1.92125256e+00, -1.23346844e+00],\n       [-8.76712804e+00, -3.20776701e+00],\n       [-4.67628777e+00,  3.25055485e+00],\n       [-4.48185145e+00,  2.84611334e+00],\n       [-5.53484561e+00,  1.83035931e+00],\n       [-6.01778402e+00,  2.27764779e+00],\n       [-1.00184479e+01, -1.07857630e+01],\n       [-5.45440138e+00, -1.28280420e+01],\n       [ 2.61070694e+00,  9.15646194e+00],\n       [ 1.32877922e-01,  8.07289266e+00],\n       [-3.18756061e-01, -1.46562633e+01],\n       [ 6.40140219e+00, -1.90801096e+00],\n       [ 6.41507016e-01, -1.32320964e+00],\n       [-1.42145891e+00, -1.67175845e+00],\n       [-3.71174762e+00,  3.00974444e+00],\n       [ 1.74219371e-02, -2.70028839e+00],\n       [-5.02476290e+00, -8.87737604e+00],\n       [-4.04724402e+00, -5.51756122e+00],\n       [ 1.50826150e+00,  6.39270762e+00],\n       [ 1.58971694e+00,  1.28302713e+01],\n       [-2.10168089e+00,  7.05999937e+00],\n       [-2.71861835e+00,  6.04629117e+00],\n       [ 5.75733243e+00, -3.35052674e+00],\n       [ 6.60670010e-01,  3.74191874e+00],\n       [ 7.82484559e+00, -2.56743592e+00],\n       [ 1.32216097e+00,  7.05819384e+00],\n       [ 2.19828660e+00, -3.65932408e+00],\n       [ 2.60379228e+00, -5.97694601e+00],\n       [ 9.06043710e+00, -3.18177641e+00],\n       [ 3.98853762e-01,  1.34016159e+01],\n       [ 2.33488639e-01, -5.88009155e-01],\n       [ 7.02046371e+00, -2.62270599e+00],\n       [-3.48109775e+00, -5.86016618e+00],\n       [ 2.84469987e+00,  1.46895994e+00],\n       [-5.89301882e-01, -4.78987330e+00],\n       [-1.81101374e+00, -6.52334918e+00],\n       [-2.63754620e+00, -3.02817239e+00],\n       [ 1.27420149e+00,  2.00792709e+00],\n       [ 1.26832809e+00,  7.61480278e+00],\n       [-1.39040739e+00,  5.95303406e+00],\n       [ 2.74991500e+00, -3.03834980e+00],\n       [ 3.51316966e+00, -6.35725911e+00],\n       [ 3.01916072e+00,  1.18563650e+00],\n       [ 4.70631659e+00,  4.01190243e+00],\n       [-1.40763953e+00,  7.01637376e+00],\n       [-5.15374480e-01, -4.60297355e+00],\n       [-5.58571745e-01,  6.63274859e+00],\n       [-1.06172558e+01,  2.45250348e+00],\n       [-4.37597486e+00, -4.95304839e+00],\n       [-5.47383001e-02, -4.53447222e+00],\n       [-8.18826543e-01,  9.05274966e+00],\n       [-5.72069382e+00,  2.05578754e+00],\n       [-3.61576032e+00,  1.21707900e+01],\n       [-6.68016819e+00, -1.65179862e+00],\n       [-6.76964181e+00,  2.50668305e-01],\n       [-2.62770086e+00, -4.74410201e+00],\n       [ 5.21393428e+00,  5.34004318e-01],\n       [-7.71878611e+00,  2.45367242e+00],\n       [ 3.23199873e+00, -5.39357959e+00],\n       [ 8.19837327e+00,  1.93405384e+00],\n       [ 5.35793000e+00, -3.75831101e+00],\n       [-6.92624773e-01, -9.16423000e+00],\n       [-2.54497682e+00, -1.04650534e+01],\n       [ 1.38814865e+00, -3.06262357e+00],\n       [-3.36449323e+00, -3.97206039e+00],\n       [ 3.14686224e+00,  5.92720518e+00],\n       [ 1.25264318e+00, -8.15594315e-01],\n       [-4.01643387e+00,  1.09846604e+01],\n       [-1.60060568e+00,  1.68774045e+00],\n       [ 5.36930658e+00, -3.22513539e+00],\n       [-8.43210914e+00, -8.41374584e+00],\n       [ 1.66088696e+00,  1.03792996e+01],\n       [ 2.35359654e+00, -7.54442433e+00],\n       [ 4.47386811e+00,  7.28994929e+00],\n       [ 3.92300799e+00, -2.90511685e+00],\n       [-8.19029220e-01, -6.84584453e+00],\n       [ 2.56267509e+00, -1.52322878e+01],\n       [ 1.24103716e+00,  1.33986751e+01],\n       [-1.20732907e+00,  5.03457359e+00],\n       [-5.04196499e+00, -6.44046266e+00],\n       [ 1.27457998e+00, -3.72992093e+00],\n       [ 1.26922923e+00,  1.08028664e+01],\n       [-3.13336359e-01,  6.20977046e+00],\n       [-4.80734469e+00, -4.97833437e+00],\n       [-5.86887292e+00,  7.74867011e+00],\n       [ 5.59930297e-01,  1.42541937e+01],\n       [-6.33717108e+00, -1.31266871e+01],\n       [ 6.77575693e+00,  8.94460558e+00],\n       [ 4.68402416e+00, -6.00983946e+00],\n       [ 5.08134527e-01, -1.00066959e+01],\n       [ 8.36952619e+00, -4.37546734e+00],\n       [ 8.41739927e+00,  5.17112063e+00],\n       [ 6.76626899e+00, -7.58487160e+00],\n       [ 2.89046540e+00, -6.32976724e+00],\n       [ 4.01947666e-01, -5.75131369e+00],\n       [ 9.00291590e+00,  4.51099276e+00],\n       [ 4.09645132e+00,  2.56772338e+00],\n       [ 1.90817184e+00, -5.45269283e+00],\n       [ 5.29584709e+00, -3.17195943e+00],\n       [ 1.60861090e-01,  1.02983870e+01],\n       [ 6.56573842e-01, -1.45572125e+01],\n       [-3.71324940e+00,  6.75475685e+00],\n       [-8.33041100e+00, -4.32196581e+00],\n       [-5.03507153e+00,  1.44809145e+01],\n       [ 1.26007722e+01, -4.36234570e+00],\n       [ 9.23567524e-01, -5.64794413e+00],\n       [ 9.67712632e+00, -3.93785594e+00],\n       [ 2.39514668e+00,  5.68437940e+00],\n       [ 4.04619218e+00, -8.01176742e+00],\n       [-4.15724711e+00,  5.88285660e-01],\n       [-1.86156960e-01, -7.14610240e+00],\n       [ 9.98104201e+00, -1.29228600e+00],\n       [ 5.07114469e+00, -1.37909131e+00],\n       [-2.42460905e+00,  6.36583112e+00],\n       [-1.00500301e+00,  2.05412846e+00],\n       [-5.29155394e+00,  3.09225493e+00],\n       [ 7.29541326e+00,  8.93332826e+00],\n       [ 1.00088227e+01,  2.29465980e+00],\n       [-9.63065863e-01, -1.37771806e+00],\n       [-2.58187114e+00, -6.10252366e+00],\n       [-5.98144061e-01,  2.19874228e+00],\n       [ 3.49973414e+00, -8.49138224e+00],\n       [ 1.10993686e+01,  1.21359098e+00],\n       [ 2.03835914e+00, -4.14922151e+00],\n       [ 3.20054761e+00,  8.50597918e+00],\n       [-5.09285169e-01,  1.37793442e+01],\n       [-8.87596819e+00, -5.26278271e+00],\n       [ 9.28508850e+00,  1.05104682e+00],\n       [ 2.47379126e+00, -4.15978417e+00],\n       [ 1.29395649e+00,  4.19094575e+00],\n       [ 6.74405711e+00, -9.10378382e+00],\n       [-7.15013673e+00,  6.82358214e+00],\n       [ 6.55508252e+00, -1.34664617e+01],\n       [-2.61873425e+00, -2.49927393e+00],\n       [ 2.45951429e+00, -3.55019982e+00],\n       [ 6.75105802e+00,  8.57758930e+00],\n       [ 1.03147937e+01,  4.79000418e+00],\n       [ 9.36749270e+00, -5.28451721e+00],\n       [ 7.86505125e+00, -2.56718804e+00],\n       [ 1.34868444e+00,  5.92161168e+00],\n       [ 8.45929184e-01, -7.56711792e+00],\n       [-7.13164886e+00, -7.66121080e+00],\n       [ 2.84862946e-01, -7.91197572e+00],\n       [ 2.38064014e+00, -5.88262629e+00],\n       [ 4.17752952e+00,  1.45445432e+01],\n       [ 5.81891356e-02,  5.34020661e+00],\n       [ 4.61368046e+00, -7.52858124e-01],\n       [-5.67075416e-01, -9.36439201e-01],\n       [ 2.34124961e+00,  7.15261059e-01],\n       [-1.26794242e+00,  1.04736087e+01],\n       [ 2.56205757e+00, -5.71917881e+00],\n       [ 2.25721661e+00,  1.34195788e+01],\n       [ 5.45168540e+00,  1.26134049e+01],\n       [ 1.99676782e+00, -5.68185021e-01],\n       [ 7.61843870e+00, -8.28274493e+00],\n       [ 4.55039875e+00, -2.85617296e+00],\n       [ 6.05087914e+00, -6.05866225e+00],\n       [ 7.18018639e-01,  8.34200598e+00],\n       [-4.90827919e+00,  8.79222709e-01],\n       [-6.20148691e-01,  4.89829674e-01],\n       [ 1.76956765e+00,  1.13957049e+01],\n       [ 3.99037855e+00,  8.34266802e+00],\n       [ 5.47333613e+00,  7.91691507e+00],\n       [ 3.58999259e-01, -9.36512828e+00],\n       [-3.36763285e+00, -1.79142323e+00],\n       [-4.75263371e+00,  6.96189193e-01],\n       [-6.35847605e+00, -3.45538164e+00],\n       [ 5.56934131e+00,  7.61227319e+00],\n       [-3.28394372e+00, -1.80554959e+00],\n       [ 1.79019101e-01, -6.45531361e-01],\n       [-6.28797512e+00,  9.89807557e-01],\n       [-6.36114546e+00, -6.85404426e+00],\n       [-3.60695410e+00,  6.29016221e+00],\n       [ 4.48755141e+00,  1.10658218e+01],\n       [-1.91340168e+00, -1.12446259e+00],\n       [ 3.56669112e+00, -1.01408630e+01],\n       [-9.37056280e+00,  3.27092214e+00],\n       [ 8.58006965e-01, -1.71171080e+00],\n       [ 7.05450570e-02, -7.27163945e+00],\n       [-2.37988689e+00, -3.64450352e+00],\n       [-9.78067503e-01,  1.60763937e+01],\n       [ 6.85668816e-01,  8.08581493e+00],\n       [-8.07042967e-01, -8.06135156e+00],\n       [-7.26218529e+00, -2.75627918e+00],\n       [-3.69905026e+00, -7.05673286e+00],\n       [-3.23630959e+00,  1.24466150e+01],\n       [-6.21515493e+00, -4.32631809e+00],\n       [-2.07445773e+00, -4.22714538e+00],\n       [-1.40398038e+00,  7.05766277e+00],\n       [ 4.29661369e+00, -8.29489961e+00],\n       [ 4.56152919e+00,  7.16010624e+00],\n       [ 1.43207694e+01, -1.64531643e+00],\n       [-5.07819089e+00,  1.99860635e+00],\n       [ 4.92621871e+00, -1.88315958e+00],\n       [-1.91448792e+00, -2.37941078e-01],\n       [-2.42708590e+00, -3.51778974e+00],\n       [-4.60717639e+00,  8.58255080e+00],\n       [ 2.28218897e+00, -9.30411810e+00],\n       [ 1.04059362e+00,  5.95921536e+00],\n       [-1.66763934e+00, -2.43330058e+00],\n       [-5.11213775e+00, -1.28391408e+00],\n       [ 9.13545465e-01,  5.70656580e-01],\n       [ 7.62699232e+00, -1.02553247e+00],\n       [-2.02360058e+00,  4.57725578e+00],\n       [ 7.57658449e+00, -1.95506503e+00],\n       [-8.49662741e-01,  4.16470731e+00],\n       [-9.40890997e+00, -3.22578966e+00],\n       [ 5.80890132e+00, -7.25882156e+00],\n       [ 8.95247558e+00,  8.39409778e+00],\n       [ 1.84033881e+00, -3.17752639e+00],\n       [ 6.22451669e+00, -6.60569560e+00],\n       [ 5.45808024e+00, -3.76738428e+00],\n       [ 1.31272062e+01,  4.12588294e+00],\n       [ 5.77987975e+00,  1.93230739e+00],\n       [ 2.83530756e+00,  2.51004070e+00],\n       [ 1.12543120e+01,  2.10666595e+00],\n       [ 4.22521137e+00, -2.46517831e+00],\n       [-1.11147397e+00, -1.00304205e+01],\n       [ 4.54876326e+00,  1.89625536e+00],\n       [-6.49855124e+00,  6.36107857e-01],\n       [ 7.64879812e-01, -1.80833490e+01],\n       [-4.29547715e+00, -6.82940631e+00],\n       [ 5.69467202e-01,  1.69239908e+00]])"
     },
     "execution_count": 36,
     "metadata": {},
     "output_type": "execute_result"
    }
   ],
   "source": [
    "predictions = custom_dense_layer.forward(rnn_output)\n",
    "predictions"
   ]
  },
  {
   "cell_type": "markdown",
   "id": "cdbfb614-93ee-482f-9532-a0d6aabe9d54",
   "metadata": {},
   "source": [
    "## Text generation"
   ]
  },
  {
   "cell_type": "code",
   "execution_count": 37,
   "id": "0088af5b-13ac-4250-ab82-2f10af930ce2",
   "metadata": {
    "ExecuteTime": {
     "end_time": "2024-02-15T16:17:32.100166Z",
     "start_time": "2024-02-15T16:17:32.072679Z"
    }
   },
   "outputs": [
    {
     "data": {
      "text/plain": "array([[-0.86457947, -0.65288479,  1.37299426, ..., -2.28194346,\n         0.2156222 ,  0.7790826 ],\n       [-0.86457947, -0.65288479,  1.37299426, ..., -2.28194346,\n         0.2156222 ,  0.7790826 ],\n       [-0.86457947, -0.65288479,  1.37299426, ..., -2.28194346,\n         0.2156222 ,  0.7790826 ],\n       ...,\n       [ 0.14649927,  0.5274726 , -0.5160532 , ..., -1.96487814,\n         1.00748105,  1.08860446],\n       [-1.0954972 , -0.67310628, -0.92788067, ..., -0.41876397,\n         0.59055607,  0.11714601],\n       [ 0.94886066,  0.52517204,  1.26936629, ..., -0.3837245 ,\n         1.45362142, -0.87561806]])"
     },
     "execution_count": 37,
     "metadata": {},
     "output_type": "execute_result"
    }
   ],
   "source": [
    "class CustomSimpleRNNGeneration:\n",
    "    def __init__(self, input_dim, hidden_dim):\n",
    "        self.input_dim = input_dim\n",
    "        self.hidden_dim = hidden_dim\n",
    "        self.Wx = np.random.randn(input_dim, hidden_dim)\n",
    "        self.Wh = np.random.randn(hidden_dim, hidden_dim)\n",
    "        self.b = np.zeros((1, hidden_dim))\n",
    "        self.h = None\n",
    "\n",
    "    def forward(self, input_sequence):\n",
    "        # Initialize hidden state with zeros\n",
    "        self.h = np.zeros((1, self.hidden_dim))\n",
    "        for input_t in input_sequence:\n",
    "            self.h = np.tanh(np.dot(input_t, self.Wx) + np.dot(self.h, self.Wh) + self.b)\n",
    "        return self.h\n",
    "\n",
    "# Instantiate custom layers\n",
    "custom_embedding_layer = CustomEmbedding(input_dim=max_features, output_dim=32)\n",
    "custom_simple_rnn_layer = CustomSimpleRNNGeneration(input_dim=32, hidden_dim=32)\n",
    "# Output dimension is set to the vocabulary size, representing the probability distribution over characters\n",
    "vocab_size = 10000  # Example vocabulary size\n",
    "custom_dense_layer = CustomDense(input_dim=32, output_dim=vocab_size)\n",
    "\n",
    "# Forward pass through custom layers\n",
    "embedded_sequence = custom_embedding_layer.forward(input_train[0])\n",
    "embedded_sequence"
   ]
  },
  {
   "cell_type": "code",
   "execution_count": 38,
   "id": "8c21c96e-52d2-46c6-a380-72c9ee45adcf",
   "metadata": {
    "ExecuteTime": {
     "end_time": "2024-02-15T16:19:24.848456Z",
     "start_time": "2024-02-15T16:19:24.822030Z"
    }
   },
   "outputs": [
    {
     "data": {
      "text/plain": "array([[ 0.99980791,  0.72154321, -0.99627217, -1.        ,  0.25081148,\n        -0.99956258, -0.97630914, -0.99999999, -0.99998319, -0.99999975,\n        -0.99944109,  0.99995255,  0.99999507,  0.99319533, -0.99906426,\n        -1.        ,  0.99999998, -0.99999767, -0.99334027, -0.99989209,\n        -0.99994356, -1.        , -0.99998987,  1.        , -0.9995817 ,\n        -0.99947925,  0.99998991,  0.97259969, -0.99909952, -0.09512872,\n        -0.99999999, -0.75876289]])"
     },
     "execution_count": 38,
     "metadata": {},
     "output_type": "execute_result"
    }
   ],
   "source": [
    "rnn_output = custom_simple_rnn_layer.forward(embedded_sequence)\n",
    "rnn_output"
   ]
  },
  {
   "cell_type": "code",
   "execution_count": 39,
   "id": "482ada23-07c0-4d5a-9f3f-fce9f47f9c19",
   "metadata": {
    "ExecuteTime": {
     "end_time": "2024-02-15T16:20:14.713675Z",
     "start_time": "2024-02-15T16:20:14.643352Z"
    }
   },
   "outputs": [
    {
     "data": {
      "text/plain": "10000"
     },
     "execution_count": 39,
     "metadata": {},
     "output_type": "execute_result"
    }
   ],
   "source": [
    "predictions = custom_dense_layer.softmax_output(rnn_output)\n",
    "len(predictions[0])"
   ]
  },
  {
   "cell_type": "code",
   "execution_count": 40,
   "id": "30cc51ae-062b-4d6c-80bc-83f2dbdac7a7",
   "metadata": {
    "ExecuteTime": {
     "end_time": "2024-02-15T16:20:16.363600Z",
     "start_time": "2024-02-15T16:20:16.337180Z"
    }
   },
   "outputs": [
    {
     "name": "stdout",
     "output_type": "stream",
     "text": [
      "[4822]\n",
      "[4822, 6099]\n",
      "[4822, 6099, 8881]\n",
      "[4822, 6099, 8881, 8795]\n",
      "[4822, 6099, 8881, 8795, 8242]\n",
      "[4822, 6099, 8881, 8795, 8242, 8115]\n",
      "[4822, 6099, 8881, 8795, 8242, 8115, 1275]\n",
      "[4822, 6099, 8881, 8795, 8242, 8115, 1275, 2694]\n",
      "[4822, 6099, 8881, 8795, 8242, 8115, 1275, 2694, 3888]\n",
      "[4822, 6099, 8881, 8795, 8242, 8115, 1275, 2694, 3888, 6827]\n",
      "Generated text: ['hello', 'insights', 'operating', 'shifting', 'qualifies', 'wee', 'drive', 'con', 'q', 'mythology', 'fact']\n"
     ]
    }
   ],
   "source": [
    "# Assuming `start_sequence` is a seed sequence to start the generation process\n",
    "start_sequence = \"hello\"\n",
    "\n",
    "# Initialize the generated text with the seed sequence\n",
    "generated_text = [start_sequence]\n",
    "\n",
    "# Set the number of words to generate\n",
    "num_words_to_generate = 10\n",
    "\n",
    "# Generate text character by character\n",
    "for _ in range(num_words_to_generate):\n",
    "    # Convert the current generated text to input sequence\n",
    "    input_sequence = [word_index[char] for char in generated_text]\n",
    "    print(input_sequence)\n",
    "    input_sequence = np.array(input_sequence)[np.newaxis, :]  # Add batch dimension\n",
    "    \n",
    "    # Forward pass through custom layers\n",
    "    embedded_sequence = custom_embedding_layer.forward(input_sequence)\n",
    "    rnn_output = custom_simple_rnn_layer.forward(embedded_sequence)\n",
    "    predictions = custom_dense_layer.softmax_output(rnn_output)\n",
    "    \n",
    "    # Sample the next character based on the output distribution\n",
    "    next_char_index = np.argmax(predictions[-1])\n",
    "    next_char = inverted_word_index[next_char_index]\n",
    "    \n",
    "    # Append the next character to the generated text\n",
    "    generated_text.append(next_char)\n",
    "\n",
    "print(\"Generated text:\", generated_text)"
   ]
  },
  {
   "cell_type": "markdown",
   "id": "5b0ec3bf-ef8c-4b6c-8f24-25320d090294",
   "metadata": {},
   "source": [
    "### Encoder-decoder"
   ]
  },
  {
   "cell_type": "markdown",
   "id": "d2533ac1-c74b-4907-94cf-99948f5557f6",
   "metadata": {},
   "source": [
    "![encoder-decoder](https://miro.medium.com/v2/resize:fit:1400/format:webp/1*1JcHGUU7rFgtXC_mydUA_Q.jpeg)\n",
    "\n",
    "https://towardsdatascience.com/understanding-encoder-decoder-sequence-to-sequence-model-679e04af4346"
   ]
  },
  {
   "cell_type": "code",
   "execution_count": 41,
   "id": "47fedbe1-7113-4f24-a0c3-6c16939f11d8",
   "metadata": {
    "ExecuteTime": {
     "end_time": "2024-02-15T16:27:18.566460Z",
     "start_time": "2024-02-15T16:27:18.437076Z"
    }
   },
   "outputs": [],
   "source": [
    "from keras.models import Model\n",
    "from keras.layers import Input, Embedding, SimpleRNN, Dense\n",
    "\n",
    "# Define input sequence length and dimensions\n",
    "max_features = 10000\n",
    "input_length = 500\n",
    "embedding_dim = 32\n",
    "hidden_units = 32\n",
    "\n",
    "# Encoder\n",
    "encoder_inputs = Input(shape=(input_length,))\n",
    "encoder_embedding = Embedding(max_features, embedding_dim)(encoder_inputs)\n",
    "encoder_rnn, encoder_state = SimpleRNN(hidden_units, return_state=True)(encoder_embedding)\n",
    "\n",
    "# Decoder\n",
    "decoder_inputs = Input(shape=(input_length,))\n",
    "decoder_embedding = Embedding(max_features, embedding_dim)(decoder_inputs)\n",
    "decoder_rnn = SimpleRNN(hidden_units, return_sequences=True)(decoder_embedding, initial_state=encoder_state)\n",
    "decoder_outputs = Dense(max_features, activation='softmax')(decoder_rnn)\n",
    "\n",
    "# Define the model\n",
    "model = Model([encoder_inputs, decoder_inputs], decoder_outputs)\n"
   ]
  },
  {
   "cell_type": "code",
   "execution_count": 42,
   "id": "8d378299-5326-4e3e-b717-3f90fc127b3f",
   "metadata": {
    "ExecuteTime": {
     "end_time": "2024-02-15T16:27:20.479719Z",
     "start_time": "2024-02-15T16:27:20.456802Z"
    }
   },
   "outputs": [
    {
     "name": "stdout",
     "output_type": "stream",
     "text": [
      "Model: \"model\"\n",
      "__________________________________________________________________________________________________\n",
      " Layer (type)                Output Shape                 Param #   Connected to                  \n",
      "==================================================================================================\n",
      " input_1 (InputLayer)        [(None, 500)]                0         []                            \n",
      "                                                                                                  \n",
      " input_2 (InputLayer)        [(None, 500)]                0         []                            \n",
      "                                                                                                  \n",
      " embedding_1 (Embedding)     (None, 500, 32)              320000    ['input_1[0][0]']             \n",
      "                                                                                                  \n",
      " embedding_2 (Embedding)     (None, 500, 32)              320000    ['input_2[0][0]']             \n",
      "                                                                                                  \n",
      " simple_rnn_1 (SimpleRNN)    [(None, 32),                 2080      ['embedding_1[0][0]']         \n",
      "                              (None, 32)]                                                         \n",
      "                                                                                                  \n",
      " simple_rnn_2 (SimpleRNN)    (None, 500, 32)              2080      ['embedding_2[0][0]',         \n",
      "                                                                     'simple_rnn_1[0][1]']        \n",
      "                                                                                                  \n",
      " dense_1 (Dense)             (None, 500, 10000)           330000    ['simple_rnn_2[0][0]']        \n",
      "                                                                                                  \n",
      "==================================================================================================\n",
      "Total params: 974160 (3.72 MB)\n",
      "Trainable params: 974160 (3.72 MB)\n",
      "Non-trainable params: 0 (0.00 Byte)\n",
      "__________________________________________________________________________________________________\n"
     ]
    }
   ],
   "source": [
    "# Compile the model\n",
    "model.compile(optimizer='adam', loss='sparse_categorical_crossentropy', metrics=['accuracy'])\n",
    "model.summary()"
   ]
  },
  {
   "cell_type": "code",
   "execution_count": 42,
   "id": "4da6302d-e588-4104-831b-5e4b4d0ed04d",
   "metadata": {
    "ExecuteTime": {
     "end_time": "2024-02-15T16:27:22.336770Z",
     "start_time": "2024-02-15T16:27:22.323811Z"
    }
   },
   "outputs": [],
   "source": []
  }
 ],
 "metadata": {
  "kernelspec": {
   "display_name": "Python 3 (ipykernel)",
   "language": "python",
   "name": "python3"
  },
  "language_info": {
   "codemirror_mode": {
    "name": "ipython",
    "version": 3
   },
   "file_extension": ".py",
   "mimetype": "text/x-python",
   "name": "python",
   "nbconvert_exporter": "python",
   "pygments_lexer": "ipython3",
   "version": "3.11.6"
  }
 },
 "nbformat": 4,
 "nbformat_minor": 5
}
